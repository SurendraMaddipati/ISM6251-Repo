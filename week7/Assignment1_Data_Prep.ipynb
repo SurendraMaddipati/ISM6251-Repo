{
 "cells": [
  {
   "cell_type": "markdown",
   "id": "53a45885",
   "metadata": {},
   "source": [
    "# Data Set Description"
   ]
  },
  {
   "cell_type": "markdown",
   "id": "10dc15c9",
   "metadata": {},
   "source": [
    "## The business problem of the below dataset is to classify whether a woman needs to undergo a caesarean section delivery or not.\n",
    "\n",
    "## Based on various factors such as age, delivery no(Delivey No), delivery time(Delivery No), blood pressure(Blood of Pressure), Heart problem.\n",
    "\n",
    "## This problem is important in the medical field  as it can help doctors and medical professionals make informed decisions about the delivery method for pregnant women. \n",
    "\n",
    "## It can also help in reducing the number of unnecessary caesarean operations, which can have potential risks for both the mother and the child.\n",
    "\n",
    "## The dataset contains 80 instances with 6 input variables (delivery no(Delivey No), delivery time(Delivery No), blood pressure(Blood of Pressure) and Heart problem and 1 binary output variable (caesarian delivery). The outcome is to build a ML model which can  predict whether a woman needs to undergo a caesarean  delivery or not based on the input variables."
   ]
  },
  {
   "cell_type": "markdown",
   "id": "2b7ca7b7-20df-4005-992c-b5b1b50e7e9f",
   "metadata": {},
   "source": [
    "# Import the Libraries"
   ]
  },
  {
   "cell_type": "code",
   "execution_count": 1,
   "id": "ee00048c-c3d0-4da7-9bf9-36a038b70c31",
   "metadata": {},
   "outputs": [],
   "source": [
    "# import numpy and pandas libraries\n",
    "import numpy as np\n",
    "import pandas as pd\n",
    "from sklearn.preprocessing import LabelEncoder\n",
    "from sklearn.model_selection import train_test_split\n",
    "from sklearn.impute import SimpleImputer\n",
    "import summarytools\n",
    "from summarytools import dfSummary\n",
    "from sklearn.preprocessing import  MinMaxScaler\n",
    "from sklearn.preprocessing import StandardScaler\n",
    "from sklearn import preprocessing\n",
    "np.random.seed(1)"
   ]
  },
  {
   "cell_type": "markdown",
   "id": "427f727a-be1d-446d-80bf-068c473923fd",
   "metadata": {},
   "source": [
    "# Data Load"
   ]
  },
  {
   "cell_type": "code",
   "execution_count": 2,
   "id": "ace2a5da-aff6-4af2-beaf-165997bfaacd",
   "metadata": {},
   "outputs": [],
   "source": [
    "df_Caesarian=pd.read_csv(\"C:/Users/mssur/Downloads/Caesarian Section Classification Dataset.csv\")"
   ]
  },
  {
   "cell_type": "markdown",
   "id": "d712a258-9d72-4283-b749-f459541d5cb6",
   "metadata": {},
   "source": [
    "# Analysis of the dataset"
   ]
  },
  {
   "cell_type": "code",
   "execution_count": 3,
   "id": "7c70817b",
   "metadata": {},
   "outputs": [
    {
     "name": "stdout",
     "output_type": "stream",
     "text": [
      "<class 'pandas.core.frame.DataFrame'>\n",
      "RangeIndex: 80 entries, 0 to 79\n",
      "Data columns (total 6 columns):\n",
      " #   Column             Non-Null Count  Dtype \n",
      "---  ------             --------------  ----- \n",
      " 0   Age                80 non-null     int64 \n",
      " 1   Delivey No         80 non-null     int64 \n",
      " 2   Delivery No        80 non-null     object\n",
      " 3   Blood of Pressure  80 non-null     object\n",
      " 4   Heart Problem      80 non-null     object\n",
      " 5   Caesarian          80 non-null     object\n",
      "dtypes: int64(2), object(4)\n",
      "memory usage: 3.9+ KB\n"
     ]
    }
   ],
   "source": [
    "# generate a basic summary of the data\n",
    "df_Caesarian.info()"
   ]
  },
  {
   "cell_type": "markdown",
   "id": "abe77aba",
   "metadata": {},
   "source": [
    "# Checking the data by viewing the first few rows"
   ]
  },
  {
   "cell_type": "code",
   "execution_count": 4,
   "id": "82719e9c-886b-49cf-8529-5b0ab235c59a",
   "metadata": {},
   "outputs": [
    {
     "data": {
      "text/html": [
       "<div>\n",
       "<style scoped>\n",
       "    .dataframe tbody tr th:only-of-type {\n",
       "        vertical-align: middle;\n",
       "    }\n",
       "\n",
       "    .dataframe tbody tr th {\n",
       "        vertical-align: top;\n",
       "    }\n",
       "\n",
       "    .dataframe thead th {\n",
       "        text-align: right;\n",
       "    }\n",
       "</style>\n",
       "<table border=\"1\" class=\"dataframe\">\n",
       "  <thead>\n",
       "    <tr style=\"text-align: right;\">\n",
       "      <th></th>\n",
       "      <th>Age</th>\n",
       "      <th>Delivey No</th>\n",
       "      <th>Delivery No</th>\n",
       "      <th>Blood of Pressure</th>\n",
       "      <th>Heart Problem</th>\n",
       "      <th>Caesarian</th>\n",
       "    </tr>\n",
       "  </thead>\n",
       "  <tbody>\n",
       "    <tr>\n",
       "      <th>0</th>\n",
       "      <td>22</td>\n",
       "      <td>1</td>\n",
       "      <td>Timely</td>\n",
       "      <td>High</td>\n",
       "      <td>apt</td>\n",
       "      <td>No</td>\n",
       "    </tr>\n",
       "    <tr>\n",
       "      <th>1</th>\n",
       "      <td>26</td>\n",
       "      <td>2</td>\n",
       "      <td>Timely</td>\n",
       "      <td>Normal</td>\n",
       "      <td>apt</td>\n",
       "      <td>Yes</td>\n",
       "    </tr>\n",
       "    <tr>\n",
       "      <th>2</th>\n",
       "      <td>26</td>\n",
       "      <td>2</td>\n",
       "      <td>Premature</td>\n",
       "      <td>Normal</td>\n",
       "      <td>apt</td>\n",
       "      <td>No</td>\n",
       "    </tr>\n",
       "    <tr>\n",
       "      <th>3</th>\n",
       "      <td>28</td>\n",
       "      <td>1</td>\n",
       "      <td>Timely</td>\n",
       "      <td>High</td>\n",
       "      <td>apt</td>\n",
       "      <td>No</td>\n",
       "    </tr>\n",
       "    <tr>\n",
       "      <th>4</th>\n",
       "      <td>22</td>\n",
       "      <td>2</td>\n",
       "      <td>Timely</td>\n",
       "      <td>Normal</td>\n",
       "      <td>apt</td>\n",
       "      <td>Yes</td>\n",
       "    </tr>\n",
       "  </tbody>\n",
       "</table>\n",
       "</div>"
      ],
      "text/plain": [
       "   Age  Delivey No Delivery No Blood of Pressure Heart Problem Caesarian\n",
       "0   22           1      Timely              High           apt        No\n",
       "1   26           2      Timely            Normal           apt       Yes\n",
       "2   26           2   Premature            Normal           apt        No\n",
       "3   28           1      Timely              High           apt        No\n",
       "4   22           2      Timely            Normal           apt       Yes"
      ]
     },
     "execution_count": 4,
     "metadata": {},
     "output_type": "execute_result"
    }
   ],
   "source": [
    "df_Caesarian.head() # note that we don't want to dump all the data to the screen"
   ]
  },
  {
   "cell_type": "code",
   "execution_count": 5,
   "id": "1f83efba-aaf9-4f6d-bdc2-09ea362434e7",
   "metadata": {},
   "outputs": [
    {
     "data": {
      "text/html": [
       "<div>\n",
       "<style scoped>\n",
       "    .dataframe tbody tr th:only-of-type {\n",
       "        vertical-align: middle;\n",
       "    }\n",
       "\n",
       "    .dataframe tbody tr th {\n",
       "        vertical-align: top;\n",
       "    }\n",
       "\n",
       "    .dataframe thead th {\n",
       "        text-align: right;\n",
       "    }\n",
       "</style>\n",
       "<table border=\"1\" class=\"dataframe\">\n",
       "  <thead>\n",
       "    <tr style=\"text-align: right;\">\n",
       "      <th></th>\n",
       "      <th>Age</th>\n",
       "      <th>Delivey No</th>\n",
       "    </tr>\n",
       "  </thead>\n",
       "  <tbody>\n",
       "    <tr>\n",
       "      <th>count</th>\n",
       "      <td>80.000000</td>\n",
       "      <td>80.000000</td>\n",
       "    </tr>\n",
       "    <tr>\n",
       "      <th>mean</th>\n",
       "      <td>27.687500</td>\n",
       "      <td>1.662500</td>\n",
       "    </tr>\n",
       "    <tr>\n",
       "      <th>std</th>\n",
       "      <td>5.017927</td>\n",
       "      <td>0.794662</td>\n",
       "    </tr>\n",
       "    <tr>\n",
       "      <th>min</th>\n",
       "      <td>17.000000</td>\n",
       "      <td>1.000000</td>\n",
       "    </tr>\n",
       "    <tr>\n",
       "      <th>25%</th>\n",
       "      <td>25.000000</td>\n",
       "      <td>1.000000</td>\n",
       "    </tr>\n",
       "    <tr>\n",
       "      <th>50%</th>\n",
       "      <td>27.000000</td>\n",
       "      <td>1.000000</td>\n",
       "    </tr>\n",
       "    <tr>\n",
       "      <th>75%</th>\n",
       "      <td>32.000000</td>\n",
       "      <td>2.000000</td>\n",
       "    </tr>\n",
       "    <tr>\n",
       "      <th>max</th>\n",
       "      <td>40.000000</td>\n",
       "      <td>4.000000</td>\n",
       "    </tr>\n",
       "  </tbody>\n",
       "</table>\n",
       "</div>"
      ],
      "text/plain": [
       "             Age  Delivey No\n",
       "count  80.000000   80.000000\n",
       "mean   27.687500    1.662500\n",
       "std     5.017927    0.794662\n",
       "min    17.000000    1.000000\n",
       "25%    25.000000    1.000000\n",
       "50%    27.000000    1.000000\n",
       "75%    32.000000    2.000000\n",
       "max    40.000000    4.000000"
      ]
     },
     "execution_count": 5,
     "metadata": {},
     "output_type": "execute_result"
    }
   ],
   "source": [
    "# generate a statistical summary of the numeric value in the data\n",
    "df_Caesarian.describe()"
   ]
  },
  {
   "cell_type": "code",
   "execution_count": 6,
   "id": "75dff53d-5d37-40c9-a4ca-22a0c10300da",
   "metadata": {},
   "outputs": [
    {
     "data": {
      "text/html": [
       "<style type=\"text/css\">\n",
       "#T_4ff6f thead>tr>th {\n",
       "  text-align: left;\n",
       "}\n",
       "#T_4ff6f_row0_col0, #T_4ff6f_row1_col0, #T_4ff6f_row2_col0, #T_4ff6f_row3_col0, #T_4ff6f_row4_col0, #T_4ff6f_row5_col0 {\n",
       "  text-align: left;\n",
       "  font-size: 12px;\n",
       "  vertical-align: middle;\n",
       "  width: 5%;\n",
       "  max-width: 50px;\n",
       "  min-width: 20px;\n",
       "}\n",
       "#T_4ff6f_row0_col1, #T_4ff6f_row1_col1, #T_4ff6f_row2_col1, #T_4ff6f_row3_col1, #T_4ff6f_row4_col1, #T_4ff6f_row5_col1 {\n",
       "  text-align: left;\n",
       "  font-size: 12px;\n",
       "  vertical-align: middle;\n",
       "  width: 15%;\n",
       "  max-width: 200px;\n",
       "  min-width: 100px;\n",
       "  word-break: break-word;\n",
       "}\n",
       "#T_4ff6f_row0_col2, #T_4ff6f_row1_col2, #T_4ff6f_row2_col2, #T_4ff6f_row3_col2, #T_4ff6f_row4_col2, #T_4ff6f_row5_col2 {\n",
       "  text-align: left;\n",
       "  font-size: 12px;\n",
       "  vertical-align: middle;\n",
       "  width: 30%;\n",
       "  min-width: 100px;\n",
       "}\n",
       "#T_4ff6f_row0_col3, #T_4ff6f_row1_col3, #T_4ff6f_row2_col3, #T_4ff6f_row3_col3, #T_4ff6f_row4_col3, #T_4ff6f_row5_col3 {\n",
       "  text-align: left;\n",
       "  font-size: 12px;\n",
       "  vertical-align: middle;\n",
       "  width: 25%;\n",
       "  min-width: 100px;\n",
       "}\n",
       "#T_4ff6f_row0_col4, #T_4ff6f_row1_col4, #T_4ff6f_row2_col4, #T_4ff6f_row3_col4, #T_4ff6f_row4_col4, #T_4ff6f_row5_col4 {\n",
       "  text-align: left;\n",
       "  font-size: 12px;\n",
       "  vertical-align: middle;\n",
       "  width: 20%;\n",
       "  min-width: 150px;\n",
       "}\n",
       "#T_4ff6f_row0_col5, #T_4ff6f_row1_col5, #T_4ff6f_row2_col5, #T_4ff6f_row3_col5, #T_4ff6f_row4_col5, #T_4ff6f_row5_col5 {\n",
       "  text-align: left;\n",
       "  font-size: 12px;\n",
       "  vertical-align: middle;\n",
       "  width: 10%;\n",
       "}\n",
       "</style>\n",
       "<table id=\"T_4ff6f\">\n",
       "  <caption><strong>Data Frame Summary</strong><br>df_Caesarian<br>Dimensions: 80 x 6<br>Duplicates: 4</caption>\n",
       "  <thead>\n",
       "    <tr>\n",
       "      <th id=\"T_4ff6f_level0_col0\" class=\"col_heading level0 col0\" >No</th>\n",
       "      <th id=\"T_4ff6f_level0_col1\" class=\"col_heading level0 col1\" >Variable</th>\n",
       "      <th id=\"T_4ff6f_level0_col2\" class=\"col_heading level0 col2\" >Stats / Values</th>\n",
       "      <th id=\"T_4ff6f_level0_col3\" class=\"col_heading level0 col3\" >Freqs / (% of Valid)</th>\n",
       "      <th id=\"T_4ff6f_level0_col4\" class=\"col_heading level0 col4\" >Graph</th>\n",
       "      <th id=\"T_4ff6f_level0_col5\" class=\"col_heading level0 col5\" >Missing</th>\n",
       "    </tr>\n",
       "  </thead>\n",
       "  <tbody>\n",
       "    <tr>\n",
       "      <td id=\"T_4ff6f_row0_col0\" class=\"data row0 col0\" >1</td>\n",
       "      <td id=\"T_4ff6f_row0_col1\" class=\"data row0 col1\" ><strong>Age</strong><br>[int64]</td>\n",
       "      <td id=\"T_4ff6f_row0_col2\" class=\"data row0 col2\" >Mean (sd) : 27.7 (5.0)<br>min < med < max:<br>17.0 < 27.0 < 40.0<br>IQR (CV) : 7.0 (5.5)</td>\n",
       "      <td id=\"T_4ff6f_row0_col3\" class=\"data row0 col3\" >22 distinct values</td>\n",
       "      <td id=\"T_4ff6f_row0_col4\" class=\"data row0 col4\" ><img src = \"data:image/png;base64, iVBORw0KGgoAAAANSUhEUgAAAKoAAABGCAYAAABc8A97AAAAOXRFWHRTb2Z0d2FyZQBNYXRwbG90bGliIHZlcnNpb24zLjYuMiwgaHR0cHM6Ly9tYXRwbG90bGliLm9yZy8o6BhiAAAACXBIWXMAAA9hAAAPYQGoP6dpAAACmklEQVR4nO3dvY7aQBRA4Tv2gsyPbCEU6GhSRkrhkofIw+YRUvAEFGm2okNClhHOWhjjNNlIUWAXPHjtOzpfP+DiaIU9dz2mqioBus5r+wKAWzy1fQFNMcYMRKRv8RHHqqpeHnU9sONkqMaYwXQ6/RaG4aTuZ+z3+8QY851Yu8HJUEWkH4bhZLlcvkRRlN+7OE3TYLVaTXa7XV9ECLUDXA1VRESiKMpns9mvmssHD70YWOFmCioQKlQgVKhAqFCBUKECoUIFQoUKTj9H1Yit38sItUPY+r2OULuFrd8rCLWD2Pr9HzdTUIFQoQKhQgVChQqEChUIFSrweOqKsix7IhIaY+osd3J3qE2EekGWZb2iKL4uFgvf9/27H7y7ujvUJkK94Hg8PgVBMIzjOJ/P58k9a13eHWoTob5hNBrV3SFycneoTdxMQQVChQqEChUIFSoQKlQgVKhAqFCBUKECoUIFQoUKbKE2wGLyKjyfz70GLkk9Qn0wm8mroiiCsiy/5Hn+Q0Tq/heqkwj1wWwmrzabzWS9Xg9Pp5Pf1PVpRagNqTN5lSQJU1dXcDMFFQgVKhAqVCBUqECoUIFQoQKhQgVChQqEChUIFSq8u4VqeUqHJyLnmmtt1jOF5Jg3Q7U5paMsy16WZZ/H4/Gz53nFR65nCsk97/1FrX1Kx59JoE9xHP+8d4rIdj1TSO65aXqqzikdr5NAdd/fZLOeKST3MOaHv7p8aiChQkS6f2ogoeJVp08NJFT8o6unBvLAHyoQKlQgVKjAb1THtPnyiyaPPCJUh7T58oumjzwiVIe0+fKLpo88IlQHtbnt3NSRR9xMQQVChQqEChVu+o2apmlw7wcfDodARCTLsmC73Q4/cr3W79Z63bbrb+nrN7YFoNEFd/J1AAAAAElFTkSuQmCC\"></img></td>\n",
       "      <td id=\"T_4ff6f_row0_col5\" class=\"data row0 col5\" >0<br>(0.0%)</td>\n",
       "    </tr>\n",
       "    <tr>\n",
       "      <td id=\"T_4ff6f_row1_col0\" class=\"data row1 col0\" >2</td>\n",
       "      <td id=\"T_4ff6f_row1_col1\" class=\"data row1 col1\" ><strong>Delivey No</strong><br>[int64]</td>\n",
       "      <td id=\"T_4ff6f_row1_col2\" class=\"data row1 col2\" >Mean (sd) : 1.7 (0.8)<br>min < med < max:<br>1.0 < 1.0 < 4.0<br>IQR (CV) : 1.0 (2.1)</td>\n",
       "      <td id=\"T_4ff6f_row1_col3\" class=\"data row1 col3\" >4 distinct values</td>\n",
       "      <td id=\"T_4ff6f_row1_col4\" class=\"data row1 col4\" ><img src = \"data:image/png;base64, iVBORw0KGgoAAAANSUhEUgAAAKoAAABGCAYAAABc8A97AAAAOXRFWHRTb2Z0d2FyZQBNYXRwbG90bGliIHZlcnNpb24zLjYuMiwgaHR0cHM6Ly9tYXRwbG90bGliLm9yZy8o6BhiAAAACXBIWXMAAA9hAAAPYQGoP6dpAAAByElEQVR4nO3cQW7aQBiG4X8qhJKNLYTEYThED9tDcBtUwaKJKoG7abtJE8Cmij/0PGs8zOIVkZX5pw3DUDB3Xz57A3CNxaUPtNaeq2o5cv2fwzC8jHwW/vow1Nba83q9/tp13WrM4sfj8Xtr7ZtYmerSL+qy67rVdrt96fv+9ZaFD4fD0263W+33+2VVCZVJLv7pr6rq+/51s9n8GLH+84hn4A0vU0QQKhGESgShEkGoRBAqEYRKBKESQahEECoRhEoEoRJBqEQQKhGESgShEkGoRBAqEYRKhKtmphJNHPOuMuo9Kw8Z6tQx7yqj3nPzkKHWhDHvKqPec/SooVbVpDHvKqPes+JlighCJYJQiSBUIgiVCEIlglCJIFQiCJUIQiWCUIkgVCIIlQhCJYJQiSBUIgiVCEIlglCJIFQiCJUIQiWCUIkgVCI89AUUidyZ9W9CnRF3Zr1PqPPizqx3CHWG3Jn1lpcpIgiVCEIlglCJIFQiCJUIQiWCUIkgVCL4zxR3M/FAzYeHaYTKXUw9UHPpMI1QuZfRB2quOUxzVaiHw+Hpli/+88zpdFpUVddau/Xxqbrz+bwYs++qT9176r6rfu/9fy3+C+gzl2mqnti+AAAAAElFTkSuQmCC\"></img></td>\n",
       "      <td id=\"T_4ff6f_row1_col5\" class=\"data row1 col5\" >0<br>(0.0%)</td>\n",
       "    </tr>\n",
       "    <tr>\n",
       "      <td id=\"T_4ff6f_row2_col0\" class=\"data row2 col0\" >3</td>\n",
       "      <td id=\"T_4ff6f_row2_col1\" class=\"data row2 col1\" ><strong>Delivery No</strong><br>[object]</td>\n",
       "      <td id=\"T_4ff6f_row2_col2\" class=\"data row2 col2\" >1. Timely<br>2. Premature<br>3. Latecomer</td>\n",
       "      <td id=\"T_4ff6f_row2_col3\" class=\"data row2 col3\" >46 (57.5%)<br>17 (21.2%)<br>17 (21.2%)</td>\n",
       "      <td id=\"T_4ff6f_row2_col4\" class=\"data row2 col4\" ><img src = \"data:image/png;base64, iVBORw0KGgoAAAANSUhEUgAAAJsAAABFCAYAAABdVZTTAAAAOXRFWHRTb2Z0d2FyZQBNYXRwbG90bGliIHZlcnNpb24zLjYuMiwgaHR0cHM6Ly9tYXRwbG90bGliLm9yZy8o6BhiAAAACXBIWXMAAA9hAAAPYQGoP6dpAAABfElEQVR4nO3bwWnjUBSF4atgwmQjYQwuxkWk2BShbozxWyQhG81iFlNBzhN631fBxfy2kfGZtm0rSHjpfQDjmKrqrapeex9ycD/btn31PqK30+VyeZ/n+dz7kCNrrT2mafoYPbjTPM/n2+32tSzLd+9jjuj5fP5Z1/V8v99fq2rs2KqqlmX5vl6vn72PObC33gfsgQcEYsRGjNiIERsxYiNGbMSIjRixESM2YsRGjNiIERsxYiNGbMScqv7956r3IUfltf3v1Fp7rOt6Lv+5+jWttUdV/fS+ozcbhAwbhKqaTPlI2csnm3f+AHaxrrI+GkP3dZX10Tj2sq7yJDwAP+oSIzZixEaM2IgRGzFiI0ZsxIiNGLERIzZixEaM2IgRGzFiI6b7usr6aBy7WFdZH43BBoEY6ypiPCAQ42uUGFM+Ykz5iDHlI8YDAjFiI0ZsxIiNGLERIzZixEaM2IgRGzFiI0ZsxIiNGLERIzZiTPmIMeUjxgaBGFM+Yv4CSryjSnt2ewYAAAAASUVORK5CYII=\"></img></td>\n",
       "      <td id=\"T_4ff6f_row2_col5\" class=\"data row2 col5\" >0<br>(0.0%)</td>\n",
       "    </tr>\n",
       "    <tr>\n",
       "      <td id=\"T_4ff6f_row3_col0\" class=\"data row3 col0\" >4</td>\n",
       "      <td id=\"T_4ff6f_row3_col1\" class=\"data row3 col1\" ><strong>Blood of Pressure</strong><br>[object]</td>\n",
       "      <td id=\"T_4ff6f_row3_col2\" class=\"data row3 col2\" >1. Normal<br>2. High<br>3. Low<br>4. low</td>\n",
       "      <td id=\"T_4ff6f_row3_col3\" class=\"data row3 col3\" >40 (50.0%)<br>20 (25.0%)<br>19 (23.8%)<br>1 (1.2%)</td>\n",
       "      <td id=\"T_4ff6f_row3_col4\" class=\"data row3 col4\" ><img src = \"data:image/png;base64, iVBORw0KGgoAAAANSUhEUgAAAJsAAABcCAYAAAB5jMeAAAAAOXRFWHRTb2Z0d2FyZQBNYXRwbG90bGliIHZlcnNpb24zLjYuMiwgaHR0cHM6Ly9tYXRwbG90bGliLm9yZy8o6BhiAAAACXBIWXMAAA9hAAAPYQGoP6dpAAACDklEQVR4nO3bzY3aYBSF4QtCk7CxhZAogwIoIsWmCAqgD4TwIkxmQxYZRVnOTzj+7DxPBVejV2aMOIv7/V6QsBz7AP4fYiNmUVXrqnoa+5AJernf77exj5iS1Xa7/dZ13WbsQ6ZmGIbLYrH4Lri3W3VdtzkcDre+75/HPmYqrtfr1+PxuDmfz09VJbY3WlVV9X3/vNvtfox9zMSsxz5garwgECM2YsRGjNiIERsxYiNGbMSIjRixESM2YsRGjNiIERsxq6rfP5kZ+5Ap8ff6mNUwDJfj8bgpP5l5l2EYLlX1MvYdU+Jn4R/nZ+HvtDDlI8ULAjGtf4z6qJqRptdVFkzz0uy6yoJpflpfV/k6Zka8IBAjNmLERozYiBEbMWIjRmzEiI0YsREjNmLERozYiBEbMWIjptkpX4s38TlNT/nM5ebFBoEYUz5iWn2yeaLNUJPrKquqeWpuXWVVNV+trquaezPm83ypS4zYiBEbMWIjRmzEiI0YsREjNmLERozYiBEbMWIjRmzEiI2Y5tZVLd3Cv9Xkusqqap5sEIixriLm7yebpwkP9WddZdHEoy27rtvs9/t6nfO19r8bM7Ksqlqv1z/HPoT586UuMWIjRmzEiI0YsREjNmLERozYiBEbMWIjRmzEiI0YsREjNmKWVVW32+3L2Icwf8thGC6n08miiYezQSDGuooYLwjE/AKV6MmeoeCAIQAAAABJRU5ErkJggg==\"></img></td>\n",
       "      <td id=\"T_4ff6f_row3_col5\" class=\"data row3 col5\" >0<br>(0.0%)</td>\n",
       "    </tr>\n",
       "    <tr>\n",
       "      <td id=\"T_4ff6f_row4_col0\" class=\"data row4 col0\" >5</td>\n",
       "      <td id=\"T_4ff6f_row4_col1\" class=\"data row4 col1\" ><strong>Heart Problem</strong><br>[object]</td>\n",
       "      <td id=\"T_4ff6f_row4_col2\" class=\"data row4 col2\" >1. apt<br>2. inept</td>\n",
       "      <td id=\"T_4ff6f_row4_col3\" class=\"data row4 col3\" >50 (62.5%)<br>30 (37.5%)</td>\n",
       "      <td id=\"T_4ff6f_row4_col4\" class=\"data row4 col4\" ><img src = \"data:image/png;base64, iVBORw0KGgoAAAANSUhEUgAAAJsAAAAuCAYAAAA/ZmtKAAAAOXRFWHRTb2Z0d2FyZQBNYXRwbG90bGliIHZlcnNpb24zLjYuMiwgaHR0cHM6Ly9tYXRwbG90bGliLm9yZy8o6BhiAAAACXBIWXMAAA9hAAAPYQGoP6dpAAABN0lEQVR4nO3bQWrDMBCF4VExodlIGIMP40P0sD2EbmOMtWhCNuqiZ8gb1fN/J5iEH0OCX+q9G6CQzOxuZjfvQ4J79d4f3ke827Qsy1fOefY+JLLW2pFS+r56cFPOed627VFKeXofE9F5np+11nnf95uZXTs2M7NSynNd1x/vYwK7ex+g8OF9AOIgNsgQG2SIDTLEBhligwyxQYbYIENskCE2yBAbZIgNMsQGGWKDDLFBZjL7e4HP+5CoIn33U2vtqLXOFuQFvhG11g4ze3nf8W4MXsYQYvCSmPJBJdKTLcTTY2RhpnxR5nIjCzHlizSXG1mkKR+/tp3xpy5kiA0yxAYZYoMMsUGG2CBDbJAhNsgQG2SIDTLEBhligwyxQYbYIENskAkx5bv65/svwkz5oszlRsbgBTK/Cltq36Cso0UAAAAASUVORK5CYII=\"></img></td>\n",
       "      <td id=\"T_4ff6f_row4_col5\" class=\"data row4 col5\" >0<br>(0.0%)</td>\n",
       "    </tr>\n",
       "    <tr>\n",
       "      <td id=\"T_4ff6f_row5_col0\" class=\"data row5 col0\" >6</td>\n",
       "      <td id=\"T_4ff6f_row5_col1\" class=\"data row5 col1\" ><strong>Caesarian</strong><br>[object]</td>\n",
       "      <td id=\"T_4ff6f_row5_col2\" class=\"data row5 col2\" >1. Yes<br>2. No<br>3. yes</td>\n",
       "      <td id=\"T_4ff6f_row5_col3\" class=\"data row5 col3\" >42 (52.5%)<br>34 (42.5%)<br>4 (5.0%)</td>\n",
       "      <td id=\"T_4ff6f_row5_col4\" class=\"data row5 col4\" ><img src = \"data:image/png;base64, iVBORw0KGgoAAAANSUhEUgAAAJsAAABFCAYAAABdVZTTAAAAOXRFWHRTb2Z0d2FyZQBNYXRwbG90bGliIHZlcnNpb24zLjYuMiwgaHR0cHM6Ly9tYXRwbG90bGliLm9yZy8o6BhiAAAACXBIWXMAAA9hAAAPYQGoP6dpAAABl0lEQVR4nO3bQWrqABSF4ZsSSjtJEMHFuIgutovIbkTM4LV0kg5acGblkZw09PtWcJUfJeJppmkqSHhY+wD+jqaqnqvqce1DNu5jmqa3tY/47dr9fv/Sdd1u7UO2bBzHc9M0r4K7re26bnc8Ht/6vn9f+5gtulwuT8Mw7E6n02NVie2Gtqqq7/v3w+Hwb+1jNux57QO2wAMCMWIjRmzEiI0YsREjNmLERozYiBEbMWIjRmzEiI0YsREjNmLaqq//ZK19yFZ57+7XjuN4HoZhV/6T9d/GcTxX1cfad/x2NgjzsEG4Q2PKR4pPtiufTguzrvpmIbU866qykEqxrrryNL4wP+oSIzZixEaM2IgRGzFiI0ZsxIiNGLERIzZixEaM2IgRGzFiI8a6qrz+FOuqbxZSy7NBuLJBWJh1FTEeEIi552vU1wuz+HHKZ+LGXG5O+UzcmNM9U74//ZMI8/GAQIzYiBEbMWIjRmzEiI0YsREjNmLERozYiBEbMWIjRmzEiI2Ym1M+Ezfm9OOUz8SNudggEGPKR8wnSryjSswFI6UAAAAASUVORK5CYII=\"></img></td>\n",
       "      <td id=\"T_4ff6f_row5_col5\" class=\"data row5 col5\" >0<br>(0.0%)</td>\n",
       "    </tr>\n",
       "  </tbody>\n",
       "</table>\n"
      ],
      "text/plain": [
       "<pandas.io.formats.style.Styler at 0x1d99fe73220>"
      ]
     },
     "execution_count": 6,
     "metadata": {},
     "output_type": "execute_result"
    }
   ],
   "source": [
    "# Another way of displaying summary statistics for our data is through summary tools:\n",
    "dfSummary(df_Caesarian)"
   ]
  },
  {
   "cell_type": "markdown",
   "id": "4e7baa1d",
   "metadata": {},
   "source": [
    "# Since in our dataset we have some case senstive values such as 'Low','low' and 'Yes','yes' \n",
    "# So now converting them as 'Low','Low' and 'Yes','Yes"
   ]
  },
  {
   "cell_type": "code",
   "execution_count": 7,
   "id": "cb1ca235",
   "metadata": {},
   "outputs": [],
   "source": [
    "df_Caesarian['Blood of Pressure'] = df_Caesarian['Blood of Pressure'].replace('low','Low')\n",
    "df_Caesarian['Caesarian'] = df_Caesarian['Caesarian'].replace('yes','Yes')"
   ]
  },
  {
   "cell_type": "code",
   "execution_count": 8,
   "id": "a4cadcd6-4ec0-45f5-9114-6ac1af726f38",
   "metadata": {},
   "outputs": [
    {
     "data": {
      "text/plain": [
       "Age                  0\n",
       "Delivey No           0\n",
       "Delivery No          0\n",
       "Blood of Pressure    0\n",
       "Heart Problem        0\n",
       "Caesarian            0\n",
       "dtype: int64"
      ]
     },
     "execution_count": 8,
     "metadata": {},
     "output_type": "execute_result"
    }
   ],
   "source": [
    "# Check the missing values by summing the total na's for each variable\n",
    "df_Caesarian.isna().sum()"
   ]
  },
  {
   "cell_type": "code",
   "execution_count": 9,
   "id": "818d2e9c-6070-4a7d-9320-046220aa4d98",
   "metadata": {},
   "outputs": [
    {
     "data": {
      "text/plain": [
       "(80, 6)"
      ]
     },
     "execution_count": 9,
     "metadata": {},
     "output_type": "execute_result"
    }
   ],
   "source": [
    "df_Caesarian.shape"
   ]
  },
  {
   "cell_type": "markdown",
   "id": "6e9fd36d",
   "metadata": {},
   "source": [
    "# Checking the data imbalance"
   ]
  },
  {
   "cell_type": "code",
   "execution_count": 10,
   "id": "7204a1ea-40e9-4f5f-9ec9-d9190879a9db",
   "metadata": {},
   "outputs": [
    {
     "data": {
      "text/plain": [
       "Text(0.5, 1.0, 'Caesarian')"
      ]
     },
     "execution_count": 10,
     "metadata": {},
     "output_type": "execute_result"
    },
    {
     "data": {
      "image/png": "[encoded data removed]",
      "text/plain": [
       "<Figure size 640x480 with 1 Axes>"
      ]
     },
     "metadata": {},
     "output_type": "display_data"
    }
   ],
   "source": [
    "df_Caesarian['Caesarian'].value_counts().plot(kind='bar').set_title('Caesarian')"
   ]
  },
  {
   "cell_type": "markdown",
   "id": "28455b8f",
   "metadata": {},
   "source": [
    "# Addressing the Data Imbalance by under sampling"
   ]
  },
  {
   "cell_type": "code",
   "execution_count": 11,
   "id": "0496a5d9",
   "metadata": {},
   "outputs": [
    {
     "name": "stdout",
     "output_type": "stream",
     "text": [
      "Collecting imblearn\n",
      "  Downloading imblearn-0.0-py2.py3-none-any.whl (1.9 kB)\n",
      "Requirement already satisfied: imbalanced-learn in c:\\users\\mssur\\anaconda3\\lib\\site-packages (from imblearn) (0.7.0)\n",
      "Requirement already satisfied: scikit-learn>=0.23 in c:\\users\\mssur\\anaconda3\\lib\\site-packages (from imbalanced-learn->imblearn) (1.2.1)\n",
      "Requirement already satisfied: numpy>=1.13.3 in c:\\users\\mssur\\anaconda3\\lib\\site-packages (from imbalanced-learn->imblearn) (1.23.5)\n",
      "Requirement already satisfied: scipy>=0.19.1 in c:\\users\\mssur\\anaconda3\\lib\\site-packages (from imbalanced-learn->imblearn) (1.10.0)\n",
      "Requirement already satisfied: joblib>=0.11 in c:\\users\\mssur\\anaconda3\\lib\\site-packages (from imbalanced-learn->imblearn) (1.1.1)\n",
      "Requirement already satisfied: threadpoolctl>=2.0.0 in c:\\users\\mssur\\anaconda3\\lib\\site-packages (from scikit-learn>=0.23->imbalanced-learn->imblearn) (2.2.0)\n",
      "Installing collected packages: imblearn\n",
      "Successfully installed imblearn-0.0\n"
     ]
    }
   ],
   "source": [
    "! pip install imblearn"
   ]
  },
  {
   "cell_type": "code",
   "execution_count": 12,
   "id": "532c0f63",
   "metadata": {},
   "outputs": [
    {
     "data": {
      "text/html": [
       "<div>\n",
       "<style scoped>\n",
       "    .dataframe tbody tr th:only-of-type {\n",
       "        vertical-align: middle;\n",
       "    }\n",
       "\n",
       "    .dataframe tbody tr th {\n",
       "        vertical-align: top;\n",
       "    }\n",
       "\n",
       "    .dataframe thead th {\n",
       "        text-align: right;\n",
       "    }\n",
       "</style>\n",
       "<table border=\"1\" class=\"dataframe\">\n",
       "  <thead>\n",
       "    <tr style=\"text-align: right;\">\n",
       "      <th></th>\n",
       "      <th>Age</th>\n",
       "      <th>Delivey No</th>\n",
       "      <th>Delivery No</th>\n",
       "      <th>Blood of Pressure</th>\n",
       "      <th>Heart Problem</th>\n",
       "      <th>Caesarian</th>\n",
       "    </tr>\n",
       "  </thead>\n",
       "  <tbody>\n",
       "    <tr>\n",
       "      <th>0</th>\n",
       "      <td>22</td>\n",
       "      <td>1</td>\n",
       "      <td>Timely</td>\n",
       "      <td>High</td>\n",
       "      <td>apt</td>\n",
       "      <td>No</td>\n",
       "    </tr>\n",
       "    <tr>\n",
       "      <th>1</th>\n",
       "      <td>26</td>\n",
       "      <td>2</td>\n",
       "      <td>Timely</td>\n",
       "      <td>Normal</td>\n",
       "      <td>apt</td>\n",
       "      <td>Yes</td>\n",
       "    </tr>\n",
       "    <tr>\n",
       "      <th>2</th>\n",
       "      <td>26</td>\n",
       "      <td>2</td>\n",
       "      <td>Premature</td>\n",
       "      <td>Normal</td>\n",
       "      <td>apt</td>\n",
       "      <td>No</td>\n",
       "    </tr>\n",
       "    <tr>\n",
       "      <th>3</th>\n",
       "      <td>28</td>\n",
       "      <td>1</td>\n",
       "      <td>Timely</td>\n",
       "      <td>High</td>\n",
       "      <td>apt</td>\n",
       "      <td>No</td>\n",
       "    </tr>\n",
       "    <tr>\n",
       "      <th>4</th>\n",
       "      <td>22</td>\n",
       "      <td>2</td>\n",
       "      <td>Timely</td>\n",
       "      <td>Normal</td>\n",
       "      <td>apt</td>\n",
       "      <td>Yes</td>\n",
       "    </tr>\n",
       "    <tr>\n",
       "      <th>...</th>\n",
       "      <td>...</td>\n",
       "      <td>...</td>\n",
       "      <td>...</td>\n",
       "      <td>...</td>\n",
       "      <td>...</td>\n",
       "      <td>...</td>\n",
       "    </tr>\n",
       "    <tr>\n",
       "      <th>87</th>\n",
       "      <td>25</td>\n",
       "      <td>1</td>\n",
       "      <td>Timely</td>\n",
       "      <td>Low</td>\n",
       "      <td>apt</td>\n",
       "      <td>No</td>\n",
       "    </tr>\n",
       "    <tr>\n",
       "      <th>88</th>\n",
       "      <td>26</td>\n",
       "      <td>2</td>\n",
       "      <td>Premature</td>\n",
       "      <td>Normal</td>\n",
       "      <td>apt</td>\n",
       "      <td>No</td>\n",
       "    </tr>\n",
       "    <tr>\n",
       "      <th>89</th>\n",
       "      <td>25</td>\n",
       "      <td>1</td>\n",
       "      <td>Premature</td>\n",
       "      <td>High</td>\n",
       "      <td>apt</td>\n",
       "      <td>No</td>\n",
       "    </tr>\n",
       "    <tr>\n",
       "      <th>90</th>\n",
       "      <td>23</td>\n",
       "      <td>1</td>\n",
       "      <td>Premature</td>\n",
       "      <td>Normal</td>\n",
       "      <td>apt</td>\n",
       "      <td>No</td>\n",
       "    </tr>\n",
       "    <tr>\n",
       "      <th>91</th>\n",
       "      <td>36</td>\n",
       "      <td>1</td>\n",
       "      <td>Timely</td>\n",
       "      <td>Normal</td>\n",
       "      <td>apt</td>\n",
       "      <td>No</td>\n",
       "    </tr>\n",
       "  </tbody>\n",
       "</table>\n",
       "<p>92 rows × 6 columns</p>\n",
       "</div>"
      ],
      "text/plain": [
       "    Age  Delivey No Delivery No Blood of Pressure Heart Problem Caesarian\n",
       "0    22           1      Timely              High           apt        No\n",
       "1    26           2      Timely            Normal           apt       Yes\n",
       "2    26           2   Premature            Normal           apt        No\n",
       "3    28           1      Timely              High           apt        No\n",
       "4    22           2      Timely            Normal           apt       Yes\n",
       "..  ...         ...         ...               ...           ...       ...\n",
       "87   25           1      Timely               Low           apt        No\n",
       "88   26           2   Premature            Normal           apt        No\n",
       "89   25           1   Premature              High           apt        No\n",
       "90   23           1   Premature            Normal           apt        No\n",
       "91   36           1      Timely            Normal           apt        No\n",
       "\n",
       "[92 rows x 6 columns]"
      ]
     },
     "execution_count": 12,
     "metadata": {},
     "output_type": "execute_result"
    }
   ],
   "source": [
    "Y_label = 'Caesarian' # Target variable\n",
    "X_label = list(df_Caesarian.columns) # Input variables\n",
    "X_label.remove(Y_label)\n",
    "# using randomunder sampling for handling data imbalance.\n",
    "import imblearn\n",
    "from imblearn.over_sampling import RandomOverSampler\n",
    "data=df_Caesarian\n",
    "rand_samp = RandomOverSampler()\n",
    "ind_X, dep_Y = rand_samp.fit_resample(df_Caesarian[X_label],df_Caesarian[Y_label])\n",
    "df_Caesarian=pd.concat([ind_X,dep_Y],axis=1,join=\"inner\")\n",
    "df_Caesarian"
   ]
  },
  {
   "cell_type": "code",
   "execution_count": 13,
   "id": "f8aa9aab",
   "metadata": {},
   "outputs": [
    {
     "data": {
      "text/plain": [
       "Text(0.5, 1.0, 'Caesarian')"
      ]
     },
     "execution_count": 13,
     "metadata": {},
     "output_type": "execute_result"
    },
    {
     "data": {
      "image/png": "[encoded data removed]",
      "text/plain": [
       "<Figure size 640x480 with 1 Axes>"
      ]
     },
     "metadata": {},
     "output_type": "display_data"
    }
   ],
   "source": [
    "df_Caesarian['Caesarian'].value_counts().plot(kind='bar').set_title('Caesarian')"
   ]
  },
  {
   "cell_type": "markdown",
   "id": "9839eea0",
   "metadata": {},
   "source": [
    "# Encoding using One-Hot encoding"
   ]
  },
  {
   "cell_type": "code",
   "execution_count": 14,
   "id": "051a3a70",
   "metadata": {},
   "outputs": [
    {
     "data": {
      "text/html": [
       "<div>\n",
       "<style scoped>\n",
       "    .dataframe tbody tr th:only-of-type {\n",
       "        vertical-align: middle;\n",
       "    }\n",
       "\n",
       "    .dataframe tbody tr th {\n",
       "        vertical-align: top;\n",
       "    }\n",
       "\n",
       "    .dataframe thead th {\n",
       "        text-align: right;\n",
       "    }\n",
       "</style>\n",
       "<table border=\"1\" class=\"dataframe\">\n",
       "  <thead>\n",
       "    <tr style=\"text-align: right;\">\n",
       "      <th></th>\n",
       "      <th>Age</th>\n",
       "      <th>Delivey No</th>\n",
       "      <th>Delivery No_Premature</th>\n",
       "      <th>Delivery No_Timely</th>\n",
       "      <th>Blood of Pressure_Low</th>\n",
       "      <th>Blood of Pressure_Normal</th>\n",
       "      <th>Heart Problem_inept</th>\n",
       "      <th>Caesarian_Yes</th>\n",
       "    </tr>\n",
       "  </thead>\n",
       "  <tbody>\n",
       "    <tr>\n",
       "      <th>0</th>\n",
       "      <td>22</td>\n",
       "      <td>1</td>\n",
       "      <td>0</td>\n",
       "      <td>1</td>\n",
       "      <td>0</td>\n",
       "      <td>0</td>\n",
       "      <td>0</td>\n",
       "      <td>0</td>\n",
       "    </tr>\n",
       "    <tr>\n",
       "      <th>1</th>\n",
       "      <td>26</td>\n",
       "      <td>2</td>\n",
       "      <td>0</td>\n",
       "      <td>1</td>\n",
       "      <td>0</td>\n",
       "      <td>1</td>\n",
       "      <td>0</td>\n",
       "      <td>1</td>\n",
       "    </tr>\n",
       "    <tr>\n",
       "      <th>2</th>\n",
       "      <td>26</td>\n",
       "      <td>2</td>\n",
       "      <td>1</td>\n",
       "      <td>0</td>\n",
       "      <td>0</td>\n",
       "      <td>1</td>\n",
       "      <td>0</td>\n",
       "      <td>0</td>\n",
       "    </tr>\n",
       "    <tr>\n",
       "      <th>3</th>\n",
       "      <td>28</td>\n",
       "      <td>1</td>\n",
       "      <td>0</td>\n",
       "      <td>1</td>\n",
       "      <td>0</td>\n",
       "      <td>0</td>\n",
       "      <td>0</td>\n",
       "      <td>0</td>\n",
       "    </tr>\n",
       "    <tr>\n",
       "      <th>4</th>\n",
       "      <td>22</td>\n",
       "      <td>2</td>\n",
       "      <td>0</td>\n",
       "      <td>1</td>\n",
       "      <td>0</td>\n",
       "      <td>1</td>\n",
       "      <td>0</td>\n",
       "      <td>1</td>\n",
       "    </tr>\n",
       "  </tbody>\n",
       "</table>\n",
       "</div>"
      ],
      "text/plain": [
       "   Age  Delivey No  Delivery No_Premature  Delivery No_Timely  \\\n",
       "0   22           1                      0                   1   \n",
       "1   26           2                      0                   1   \n",
       "2   26           2                      1                   0   \n",
       "3   28           1                      0                   1   \n",
       "4   22           2                      0                   1   \n",
       "\n",
       "   Blood of Pressure_Low  Blood of Pressure_Normal  Heart Problem_inept  \\\n",
       "0                      0                         0                    0   \n",
       "1                      0                         1                    0   \n",
       "2                      0                         1                    0   \n",
       "3                      0                         0                    0   \n",
       "4                      0                         1                    0   \n",
       "\n",
       "   Caesarian_Yes  \n",
       "0              0  \n",
       "1              1  \n",
       "2              0  \n",
       "3              0  \n",
       "4              1  "
      ]
     },
     "execution_count": 14,
     "metadata": {},
     "output_type": "execute_result"
    }
   ],
   "source": [
    "df_dummy = pd.get_dummies(df_Caesarian,drop_first=True)\n",
    "df_dummy.head()"
   ]
  },
  {
   "cell_type": "markdown",
   "id": "582d7871",
   "metadata": {},
   "source": [
    "# Separating the independent and dependent variables"
   ]
  },
  {
   "cell_type": "code",
   "execution_count": 15,
   "id": "86972eca",
   "metadata": {},
   "outputs": [],
   "source": [
    "#Separting df_train in independent and dependent variable\n",
    "X=df_dummy.drop(['Caesarian_Yes'],axis=1)\n",
    "y=df_dummy['Caesarian_Yes']"
   ]
  },
  {
   "cell_type": "markdown",
   "id": "53484997-058a-4a87-94d5-b7ba014b05d9",
   "metadata": {},
   "source": [
    "# Splitting into train data and test data"
   ]
  },
  {
   "cell_type": "code",
   "execution_count": 16,
   "id": "494d1a9a-ebfc-480c-adec-9fd994668078",
   "metadata": {},
   "outputs": [],
   "source": [
    "\n",
    "X_train, X_test, y_train, y_test = train_test_split(X, y, test_size=0.3, random_state=1)"
   ]
  },
  {
   "cell_type": "markdown",
   "id": "50716172-f66a-428e-94aa-01e4079bcebf",
   "metadata": {},
   "source": [
    "# Loading the preprocessed data into the CSV files"
   ]
  },
  {
   "cell_type": "code",
   "execution_count": 17,
   "id": "e9bca8a9-a355-44d8-a8e7-62fc31b3ce18",
   "metadata": {},
   "outputs": [],
   "source": [
    "X_train.to_csv('df_Caesarian_train_X.csv', index=False)\n",
    "y_train.to_csv('df_Caesarian_train_y.csv', index=False)\n",
    "X_test.to_csv('df_Caesarian_test_X.csv', index=False)\n",
    "y_test.to_csv('df_Caesarian_test_y.csv', index=False)"
   ]
  },
  {
   "cell_type": "markdown",
   "id": "6c21cfb6",
   "metadata": {},
   "source": [
    "# Summary\n",
    "\n",
    "## Firstly, I have loaded the dataset and observed the datatype of each column, and checked for the missing values\n",
    "## In my dataset there are no missing values but there are categorical variables i.e. Delivey No, Delivery No, Blood of Pressure, Heart Problem\n",
    "## I encoded the above categorical variables by using the one-hot encoding technique\n",
    "## I split the data into the training and testing data and loaded the processed data into the new files\n",
    "\n",
    "## Note: In my dataset, there are no continuous variables so standardization is not required in my dataset, there was a data imbalance and I addressed it\n"
   ]
  }
 ],
 "metadata": {
  "kernelspec": {
   "display_name": "Python 3 (ipykernel)",
   "language": "python",
   "name": "python3"
  },
  "language_info": {
   "codemirror_mode": {
    "name": "ipython",
    "version": 3
   },
   "file_extension": ".py",
   "mimetype": "text/x-python",
   "name": "python",
   "nbconvert_exporter": "python",
   "pygments_lexer": "ipython3",
   "version": "3.9.16"
  }
 },
 "nbformat": 4,
 "nbformat_minor": 5
}
