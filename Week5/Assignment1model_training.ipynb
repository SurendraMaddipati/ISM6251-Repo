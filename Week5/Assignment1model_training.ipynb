{
 "cells": [
  {
   "cell_type": "markdown",
   "id": "c0d3b4bb-04ad-4928-a5bf-358ecef43b15",
   "metadata": {},
   "source": [
    "# Load the Libraries"
   ]
  },
  {
   "cell_type": "code",
   "execution_count": 28,
   "id": "645faf6c-d53c-4897-9905-f40e86223abe",
   "metadata": {},
   "outputs": [],
   "source": [
    "# Common imports\n",
    "import numpy as np\n",
    "import pandas as pd\n",
    "from sklearn.linear_model import LogisticRegression\n",
    "from sklearn.metrics import confusion_matrix\n",
    "from sklearn.svm import SVC\n",
    "from sklearn.tree import DecisionTreeClassifier \n",
    "from sklearn.model_selection import GridSearchCV,RandomizedSearchCV\n",
    "from sklearn.metrics import f1_score, make_scorer\n",
    "import warnings\n",
    "warnings.filterwarnings(\"ignore\")\n",
    "np.random.seed(1)"
   ]
  },
  {
   "cell_type": "markdown",
   "id": "00f29587-77df-4b23-ac2a-2a41e77f5663",
   "metadata": {},
   "source": [
    "# Data Load"
   ]
  },
  {
   "cell_type": "code",
   "execution_count": 29,
   "id": "f2adef77-f43f-41bf-a4e0-6981e8ed2c27",
   "metadata": {},
   "outputs": [],
   "source": [
    "X_train = pd.read_csv(\"C:/Users/mssur/Downloads/New folder/df_Caesarian_train_X.csv\")\n",
    "X_test = pd.read_csv(\"C:/Users/mssur/Downloads/New folder/df_Caesarian_test_X.csv\")\n",
    "y_train = pd.read_csv(\"C:/Users/mssur/Downloads/New folder/df_Caesarian_train_y.csv\")\n",
    "y_test = pd.read_csv(\"C:/Users/mssur/Downloads/New folder/df_Caesarian_test_y.csv\")"
   ]
  },
  {
   "cell_type": "code",
   "execution_count": 30,
   "id": "3a048b59",
   "metadata": {},
   "outputs": [
    {
     "data": {
      "text/html": [
       "<div>\n",
       "<style scoped>\n",
       "    .dataframe tbody tr th:only-of-type {\n",
       "        vertical-align: middle;\n",
       "    }\n",
       "\n",
       "    .dataframe tbody tr th {\n",
       "        vertical-align: top;\n",
       "    }\n",
       "\n",
       "    .dataframe thead th {\n",
       "        text-align: right;\n",
       "    }\n",
       "</style>\n",
       "<table border=\"1\" class=\"dataframe\">\n",
       "  <thead>\n",
       "    <tr style=\"text-align: right;\">\n",
       "      <th></th>\n",
       "      <th>Age</th>\n",
       "      <th>Delivey No</th>\n",
       "      <th>Delivery No_Premature</th>\n",
       "      <th>Delivery No_Timely</th>\n",
       "      <th>Blood of Pressure_Low</th>\n",
       "      <th>Blood of Pressure_Normal</th>\n",
       "      <th>Heart Problem_inept</th>\n",
       "    </tr>\n",
       "  </thead>\n",
       "  <tbody>\n",
       "    <tr>\n",
       "      <th>0</th>\n",
       "      <td>35</td>\n",
       "      <td>2</td>\n",
       "      <td>0</td>\n",
       "      <td>1</td>\n",
       "      <td>0</td>\n",
       "      <td>1</td>\n",
       "      <td>0</td>\n",
       "    </tr>\n",
       "    <tr>\n",
       "      <th>1</th>\n",
       "      <td>30</td>\n",
       "      <td>3</td>\n",
       "      <td>0</td>\n",
       "      <td>0</td>\n",
       "      <td>0</td>\n",
       "      <td>0</td>\n",
       "      <td>0</td>\n",
       "    </tr>\n",
       "    <tr>\n",
       "      <th>2</th>\n",
       "      <td>28</td>\n",
       "      <td>3</td>\n",
       "      <td>0</td>\n",
       "      <td>1</td>\n",
       "      <td>0</td>\n",
       "      <td>0</td>\n",
       "      <td>0</td>\n",
       "    </tr>\n",
       "    <tr>\n",
       "      <th>3</th>\n",
       "      <td>19</td>\n",
       "      <td>1</td>\n",
       "      <td>0</td>\n",
       "      <td>1</td>\n",
       "      <td>0</td>\n",
       "      <td>1</td>\n",
       "      <td>0</td>\n",
       "    </tr>\n",
       "    <tr>\n",
       "      <th>4</th>\n",
       "      <td>17</td>\n",
       "      <td>1</td>\n",
       "      <td>0</td>\n",
       "      <td>1</td>\n",
       "      <td>1</td>\n",
       "      <td>0</td>\n",
       "      <td>0</td>\n",
       "    </tr>\n",
       "  </tbody>\n",
       "</table>\n",
       "</div>"
      ],
      "text/plain": [
       "   Age  Delivey No  Delivery No_Premature  Delivery No_Timely  \\\n",
       "0   35           2                      0                   1   \n",
       "1   30           3                      0                   0   \n",
       "2   28           3                      0                   1   \n",
       "3   19           1                      0                   1   \n",
       "4   17           1                      0                   1   \n",
       "\n",
       "   Blood of Pressure_Low  Blood of Pressure_Normal  Heart Problem_inept  \n",
       "0                      0                         1                    0  \n",
       "1                      0                         0                    0  \n",
       "2                      0                         0                    0  \n",
       "3                      0                         1                    0  \n",
       "4                      1                         0                    0  "
      ]
     },
     "execution_count": 30,
     "metadata": {},
     "output_type": "execute_result"
    }
   ],
   "source": [
    "X_train.head()"
   ]
  },
  {
   "cell_type": "markdown",
   "id": "5e1a7196-a377-4b9f-a266-9641b90340ac",
   "metadata": {},
   "source": [
    "# Model the data"
   ]
  },
  {
   "cell_type": "code",
   "execution_count": 31,
   "id": "666843ca-15f6-4613-b1e7-28a708d21974",
   "metadata": {},
   "outputs": [],
   "source": [
    "performance = pd.DataFrame({\"model\": [], \"Accuracy\": [], \"Precision\": [], \"Recall\": [], \"F1\": []})"
   ]
  },
  {
   "cell_type": "markdown",
   "id": "96fdb8d2-687f-43d1-88f0-f50b77603342",
   "metadata": {},
   "source": [
    "# Logistic Regression model"
   ]
  },
  {
   "cell_type": "code",
   "execution_count": 32,
   "id": "67455f1e-e3fd-476d-b47e-134aae70d928",
   "metadata": {},
   "outputs": [],
   "source": [
    "Logistic_reg_model = LogisticRegression(max_iter=900)\n",
    "_ = Logistic_reg_model.fit(X_train, np.ravel(y_train))"
   ]
  },
  {
   "cell_type": "code",
   "execution_count": 33,
   "id": "232adde6-8013-4027-b078-83b112fea605",
   "metadata": {},
   "outputs": [
    {
     "name": "stdout",
     "output_type": "stream",
     "text": [
      "6 11 0 11\n"
     ]
    }
   ],
   "source": [
    "out_pred = Logistic_reg_model.predict(X_test)\n",
    "c_matrix = confusion_matrix(y_test, out_pred)\n",
    "TP = c_matrix[1][1]\n",
    "TN = c_matrix[0][0]\n",
    "FP = c_matrix[0][1]\n",
    "FN = c_matrix[1][0]\n",
    "performance = pd.concat([performance, pd.DataFrame({'model':\"default logistic\", \n",
    "                                                    'Accuracy': [(TP+TN)/(TP+TN+FP+FN)], \n",
    "                                                    'Precision': [TP/(TP+FP)], \n",
    "                                                    'Recall': [TP/(TP+FN)], \n",
    "                                                    'F1': [2*TP/(2*TP+FP+FN)]\n",
    "                                                     }, index=[0])])\n",
    "print(TN,TP,FN,FP)"
   ]
  },
  {
   "cell_type": "markdown",
   "id": "85f479ea-873e-4bc2-8a0d-a92a82b91e50",
   "metadata": {},
   "source": [
    "# Testing with the Support Vector Classifier Linear Kernel"
   ]
  },
  {
   "cell_type": "code",
   "execution_count": 34,
   "id": "516dc268-f4d4-4cc3-9670-be514ec9b8ac",
   "metadata": {},
   "outputs": [],
   "source": [
    "svc_linearkernel=SVC(kernel=\"linear\").fit(X_train,np.ravel(y_train))\n",
    "svc_linearkernel_out=svc_linearkernel.predict(X_test)"
   ]
  },
  {
   "cell_type": "code",
   "execution_count": 35,
   "id": "0c833087-75d0-4767-83e5-9dcbcde0ae8f",
   "metadata": {},
   "outputs": [
    {
     "name": "stdout",
     "output_type": "stream",
     "text": [
      "6 6 5 11\n"
     ]
    }
   ],
   "source": [
    "c_matrix = confusion_matrix(y_test, svc_linearkernel_out)\n",
    "TP = c_matrix[1][1]\n",
    "TN = c_matrix[0][0]\n",
    "FP = c_matrix[0][1]\n",
    "FN = c_matrix[1][0]\n",
    "performance = pd.concat([performance, pd.DataFrame({'model':\"linear svm\", \n",
    "                                                    'Accuracy': [(TP+TN)/(TP+TN+FP+FN)], \n",
    "                                                    'Precision': [TP/(TP+FP)], \n",
    "                                                    'Recall': [TP/(TP+FN)], \n",
    "                                                    'F1': [2*TP/(2*TP+FP+FN)]\n",
    "                                                     }, index=[0])]) \n",
    "print(TN,TP,FN,FP)"
   ]
  },
  {
   "cell_type": "markdown",
   "id": "b723e922-9b2e-46a1-9ad6-b77897054290",
   "metadata": {},
   "source": [
    "# RBF Kernal"
   ]
  },
  {
   "cell_type": "code",
   "execution_count": 36,
   "id": "cfdb4cb8-ae9d-4cf2-9510-f5e9fcde58fd",
   "metadata": {},
   "outputs": [],
   "source": [
    "rbf_svc_model = SVC(kernel=\"rbf\", C=10, gamma=0.01).fit(X_train,np.ravel(y_train))\n",
    "rbf_svc_model_out=rbf_svc_model.predict(X_test)"
   ]
  },
  {
   "cell_type": "code",
   "execution_count": 37,
   "id": "1e8b58a8-7784-4f44-b5db-f00eeb884d3a",
   "metadata": {},
   "outputs": [
    {
     "name": "stdout",
     "output_type": "stream",
     "text": [
      "9 7 4 8\n"
     ]
    }
   ],
   "source": [
    "c_matrix = confusion_matrix(y_test, rbf_svc_model_out)\n",
    "TP = c_matrix[1][1]\n",
    "TN = c_matrix[0][0]\n",
    "FP = c_matrix[0][1]\n",
    "FN = c_matrix[1][0]\n",
    "performance = pd.concat([performance, pd.DataFrame({'model':\"rbf kernal svm\", \n",
    "                                                    'Accuracy': [(TP+TN)/(TP+TN+FP+FN)], \n",
    "                                                    'Precision': [TP/(TP+FP)], \n",
    "                                                    'Recall': [TP/(TP+FN)], \n",
    "                                                    'F1': [2*TP/(2*TP+FP+FN)]}, index=[0])])\n",
    "print(TN,TP,FN,FP)"
   ]
  },
  {
   "cell_type": "markdown",
   "id": "93d93ad0-eb56-4e62-b1db-6234d5a5a865",
   "metadata": {},
   "source": [
    "# Poly Kernal"
   ]
  },
  {
   "cell_type": "code",
   "execution_count": 38,
   "id": "81500b8d-9691-456e-bf8f-918980bc1eca",
   "metadata": {},
   "outputs": [],
   "source": [
    "poly_kernal_svc = SVC(kernel=\"poly\", degree=3, coef0=1, C=10,gamma=0.01).fit(X_train,np.ravel(y_train))\n",
    "poly_kernal_svc_out=poly_kernal_svc.predict(X_test)"
   ]
  },
  {
   "cell_type": "code",
   "execution_count": 39,
   "id": "d7807912-cbf7-4897-825e-5bf4fec2737b",
   "metadata": {},
   "outputs": [
    {
     "name": "stdout",
     "output_type": "stream",
     "text": [
      "10 7 4 7\n"
     ]
    }
   ],
   "source": [
    "c_matrix = confusion_matrix(y_test, poly_kernal_svc_out)\n",
    "TP = c_matrix[1][1]\n",
    "TN = c_matrix[0][0]\n",
    "FP = c_matrix[0][1]\n",
    "FN = c_matrix[1][0]\n",
    "performance = pd.concat([performance, pd.DataFrame({'model':\"poly kernal svm\", \n",
    "                                                    'Accuracy': [(TP+TN)/(TP+TN+FP+FN)], \n",
    "                                                    'Precision': [TP/(TP+FP)], \n",
    "                                                    'Recall': [TP/(TP+FN)], \n",
    "                                                    'F1': [2*TP/(2*TP+FP+FN)]\n",
    "  }, index=[0])])\n",
    "print(TN,TP,FN,FP)"
   ]
  },
  {
   "cell_type": "markdown",
   "id": "57084cc4-bc7c-419c-b411-f2293447dd46",
   "metadata": {},
   "source": [
    "# Fitting with the decision trees"
   ]
  },
  {
   "cell_type": "code",
   "execution_count": 40,
   "id": "3a502a2a-1ee7-4562-a9f9-2f8214c1187e",
   "metadata": {},
   "outputs": [],
   "source": [
    "decision_tree = DecisionTreeClassifier().fit(X_train, np.ravel(y_train))\n",
    "decision_tree_out=decision_tree.predict(X_test)"
   ]
  },
  {
   "cell_type": "code",
   "execution_count": 41,
   "id": "145c0ed2-441e-4efb-a363-e36ed02b21f5",
   "metadata": {},
   "outputs": [
    {
     "name": "stdout",
     "output_type": "stream",
     "text": [
      "9 9 2 8\n"
     ]
    }
   ],
   "source": [
    "c_matrix = confusion_matrix(y_test, decision_tree_out)\n",
    "TP = c_matrix[1][1]\n",
    "TN = c_matrix[0][0]\n",
    "FP = c_matrix[0][1]\n",
    "FN = c_matrix[1][0]\n",
    "performance = pd.concat([performance, pd.DataFrame({'model':\"Decision Tree\", \n",
    "                                                    'Accuracy': [(TP+TN)/(TP+TN+FP+FN)], \n",
    "                                                    'Precision': [TP/(TP+FP)], \n",
    "                                                    'Recall': [TP/(TP+FN)], \n",
    "                                                    'F1': [2*TP/(2*TP+FP+FN)]\n",
    "                                                 }, index=[0])])\n",
    "\n",
    "print(TN,TP,FN,FP)   "
   ]
  },
  {
   "cell_type": "code",
   "execution_count": 42,
   "id": "6083fb41-9c03-4bf4-9b1a-50a3c959bbe9",
   "metadata": {},
   "outputs": [
    {
     "data": {
      "text/html": [
       "<div>\n",
       "<style scoped>\n",
       "    .dataframe tbody tr th:only-of-type {\n",
       "        vertical-align: middle;\n",
       "    }\n",
       "\n",
       "    .dataframe tbody tr th {\n",
       "        vertical-align: top;\n",
       "    }\n",
       "\n",
       "    .dataframe thead th {\n",
       "        text-align: right;\n",
       "    }\n",
       "</style>\n",
       "<table border=\"1\" class=\"dataframe\">\n",
       "  <thead>\n",
       "    <tr style=\"text-align: right;\">\n",
       "      <th></th>\n",
       "      <th>model</th>\n",
       "      <th>Accuracy</th>\n",
       "      <th>Precision</th>\n",
       "      <th>Recall</th>\n",
       "      <th>F1</th>\n",
       "    </tr>\n",
       "  </thead>\n",
       "  <tbody>\n",
       "    <tr>\n",
       "      <th>0</th>\n",
       "      <td>default logistic</td>\n",
       "      <td>0.607143</td>\n",
       "      <td>0.500000</td>\n",
       "      <td>1.000000</td>\n",
       "      <td>0.666667</td>\n",
       "    </tr>\n",
       "    <tr>\n",
       "      <th>0</th>\n",
       "      <td>linear svm</td>\n",
       "      <td>0.428571</td>\n",
       "      <td>0.352941</td>\n",
       "      <td>0.545455</td>\n",
       "      <td>0.428571</td>\n",
       "    </tr>\n",
       "    <tr>\n",
       "      <th>0</th>\n",
       "      <td>rbf kernal svm</td>\n",
       "      <td>0.571429</td>\n",
       "      <td>0.466667</td>\n",
       "      <td>0.636364</td>\n",
       "      <td>0.538462</td>\n",
       "    </tr>\n",
       "    <tr>\n",
       "      <th>0</th>\n",
       "      <td>poly kernal svm</td>\n",
       "      <td>0.607143</td>\n",
       "      <td>0.500000</td>\n",
       "      <td>0.636364</td>\n",
       "      <td>0.560000</td>\n",
       "    </tr>\n",
       "    <tr>\n",
       "      <th>0</th>\n",
       "      <td>Decision Tree</td>\n",
       "      <td>0.642857</td>\n",
       "      <td>0.529412</td>\n",
       "      <td>0.818182</td>\n",
       "      <td>0.642857</td>\n",
       "    </tr>\n",
       "  </tbody>\n",
       "</table>\n",
       "</div>"
      ],
      "text/plain": [
       "              model  Accuracy  Precision    Recall        F1\n",
       "0  default logistic  0.607143   0.500000  1.000000  0.666667\n",
       "0        linear svm  0.428571   0.352941  0.545455  0.428571\n",
       "0    rbf kernal svm  0.571429   0.466667  0.636364  0.538462\n",
       "0   poly kernal svm  0.607143   0.500000  0.636364  0.560000\n",
       "0     Decision Tree  0.642857   0.529412  0.818182  0.642857"
      ]
     },
     "execution_count": 42,
     "metadata": {},
     "output_type": "execute_result"
    }
   ],
   "source": [
    "performance"
   ]
  },
  {
   "cell_type": "code",
   "execution_count": 43,
   "id": "12072530-3492-434c-a7a7-20c668af8556",
   "metadata": {},
   "outputs": [
    {
     "data": {
      "text/html": [
       "<div>\n",
       "<style scoped>\n",
       "    .dataframe tbody tr th:only-of-type {\n",
       "        vertical-align: middle;\n",
       "    }\n",
       "\n",
       "    .dataframe tbody tr th {\n",
       "        vertical-align: top;\n",
       "    }\n",
       "\n",
       "    .dataframe thead th {\n",
       "        text-align: right;\n",
       "    }\n",
       "</style>\n",
       "<table border=\"1\" class=\"dataframe\">\n",
       "  <thead>\n",
       "    <tr style=\"text-align: right;\">\n",
       "      <th></th>\n",
       "      <th>model</th>\n",
       "      <th>Accuracy</th>\n",
       "      <th>Precision</th>\n",
       "      <th>Recall</th>\n",
       "      <th>F1</th>\n",
       "    </tr>\n",
       "  </thead>\n",
       "  <tbody>\n",
       "    <tr>\n",
       "      <th>0</th>\n",
       "      <td>linear svm</td>\n",
       "      <td>0.428571</td>\n",
       "      <td>0.352941</td>\n",
       "      <td>0.545455</td>\n",
       "      <td>0.428571</td>\n",
       "    </tr>\n",
       "    <tr>\n",
       "      <th>0</th>\n",
       "      <td>rbf kernal svm</td>\n",
       "      <td>0.571429</td>\n",
       "      <td>0.466667</td>\n",
       "      <td>0.636364</td>\n",
       "      <td>0.538462</td>\n",
       "    </tr>\n",
       "    <tr>\n",
       "      <th>0</th>\n",
       "      <td>default logistic</td>\n",
       "      <td>0.607143</td>\n",
       "      <td>0.500000</td>\n",
       "      <td>1.000000</td>\n",
       "      <td>0.666667</td>\n",
       "    </tr>\n",
       "    <tr>\n",
       "      <th>0</th>\n",
       "      <td>poly kernal svm</td>\n",
       "      <td>0.607143</td>\n",
       "      <td>0.500000</td>\n",
       "      <td>0.636364</td>\n",
       "      <td>0.560000</td>\n",
       "    </tr>\n",
       "    <tr>\n",
       "      <th>0</th>\n",
       "      <td>Decision Tree</td>\n",
       "      <td>0.642857</td>\n",
       "      <td>0.529412</td>\n",
       "      <td>0.818182</td>\n",
       "      <td>0.642857</td>\n",
       "    </tr>\n",
       "  </tbody>\n",
       "</table>\n",
       "</div>"
      ],
      "text/plain": [
       "              model  Accuracy  Precision    Recall        F1\n",
       "0        linear svm  0.428571   0.352941  0.545455  0.428571\n",
       "0    rbf kernal svm  0.571429   0.466667  0.636364  0.538462\n",
       "0  default logistic  0.607143   0.500000  1.000000  0.666667\n",
       "0   poly kernal svm  0.607143   0.500000  0.636364  0.560000\n",
       "0     Decision Tree  0.642857   0.529412  0.818182  0.642857"
      ]
     },
     "execution_count": 43,
     "metadata": {},
     "output_type": "execute_result"
    }
   ],
   "source": [
    "performance.sort_values(['Accuracy'])"
   ]
  },
  {
   "cell_type": "code",
   "execution_count": 44,
   "id": "868b6ccd-f700-4f88-be10-4ea1c72eeb29",
   "metadata": {},
   "outputs": [
    {
     "data": {
      "text/html": [
       "<div>\n",
       "<style scoped>\n",
       "    .dataframe tbody tr th:only-of-type {\n",
       "        vertical-align: middle;\n",
       "    }\n",
       "\n",
       "    .dataframe tbody tr th {\n",
       "        vertical-align: top;\n",
       "    }\n",
       "\n",
       "    .dataframe thead th {\n",
       "        text-align: right;\n",
       "    }\n",
       "</style>\n",
       "<table border=\"1\" class=\"dataframe\">\n",
       "  <thead>\n",
       "    <tr style=\"text-align: right;\">\n",
       "      <th></th>\n",
       "      <th>model</th>\n",
       "      <th>Accuracy</th>\n",
       "      <th>Precision</th>\n",
       "      <th>Recall</th>\n",
       "      <th>F1</th>\n",
       "    </tr>\n",
       "  </thead>\n",
       "  <tbody>\n",
       "    <tr>\n",
       "      <th>0</th>\n",
       "      <td>linear svm</td>\n",
       "      <td>0.428571</td>\n",
       "      <td>0.352941</td>\n",
       "      <td>0.545455</td>\n",
       "      <td>0.428571</td>\n",
       "    </tr>\n",
       "    <tr>\n",
       "      <th>0</th>\n",
       "      <td>rbf kernal svm</td>\n",
       "      <td>0.571429</td>\n",
       "      <td>0.466667</td>\n",
       "      <td>0.636364</td>\n",
       "      <td>0.538462</td>\n",
       "    </tr>\n",
       "    <tr>\n",
       "      <th>0</th>\n",
       "      <td>default logistic</td>\n",
       "      <td>0.607143</td>\n",
       "      <td>0.500000</td>\n",
       "      <td>1.000000</td>\n",
       "      <td>0.666667</td>\n",
       "    </tr>\n",
       "    <tr>\n",
       "      <th>0</th>\n",
       "      <td>poly kernal svm</td>\n",
       "      <td>0.607143</td>\n",
       "      <td>0.500000</td>\n",
       "      <td>0.636364</td>\n",
       "      <td>0.560000</td>\n",
       "    </tr>\n",
       "    <tr>\n",
       "      <th>0</th>\n",
       "      <td>Decision Tree</td>\n",
       "      <td>0.642857</td>\n",
       "      <td>0.529412</td>\n",
       "      <td>0.818182</td>\n",
       "      <td>0.642857</td>\n",
       "    </tr>\n",
       "  </tbody>\n",
       "</table>\n",
       "</div>"
      ],
      "text/plain": [
       "              model  Accuracy  Precision    Recall        F1\n",
       "0        linear svm  0.428571   0.352941  0.545455  0.428571\n",
       "0    rbf kernal svm  0.571429   0.466667  0.636364  0.538462\n",
       "0  default logistic  0.607143   0.500000  1.000000  0.666667\n",
       "0   poly kernal svm  0.607143   0.500000  0.636364  0.560000\n",
       "0     Decision Tree  0.642857   0.529412  0.818182  0.642857"
      ]
     },
     "execution_count": 44,
     "metadata": {},
     "output_type": "execute_result"
    }
   ],
   "source": [
    "performance.sort_values(['Precision'])"
   ]
  },
  {
   "cell_type": "code",
   "execution_count": 45,
   "id": "5199a0b2-b30b-4248-9732-b9027c9af0ba",
   "metadata": {},
   "outputs": [
    {
     "data": {
      "text/html": [
       "<div>\n",
       "<style scoped>\n",
       "    .dataframe tbody tr th:only-of-type {\n",
       "        vertical-align: middle;\n",
       "    }\n",
       "\n",
       "    .dataframe tbody tr th {\n",
       "        vertical-align: top;\n",
       "    }\n",
       "\n",
       "    .dataframe thead th {\n",
       "        text-align: right;\n",
       "    }\n",
       "</style>\n",
       "<table border=\"1\" class=\"dataframe\">\n",
       "  <thead>\n",
       "    <tr style=\"text-align: right;\">\n",
       "      <th></th>\n",
       "      <th>model</th>\n",
       "      <th>Accuracy</th>\n",
       "      <th>Precision</th>\n",
       "      <th>Recall</th>\n",
       "      <th>F1</th>\n",
       "    </tr>\n",
       "  </thead>\n",
       "  <tbody>\n",
       "    <tr>\n",
       "      <th>0</th>\n",
       "      <td>linear svm</td>\n",
       "      <td>0.428571</td>\n",
       "      <td>0.352941</td>\n",
       "      <td>0.545455</td>\n",
       "      <td>0.428571</td>\n",
       "    </tr>\n",
       "    <tr>\n",
       "      <th>0</th>\n",
       "      <td>rbf kernal svm</td>\n",
       "      <td>0.571429</td>\n",
       "      <td>0.466667</td>\n",
       "      <td>0.636364</td>\n",
       "      <td>0.538462</td>\n",
       "    </tr>\n",
       "    <tr>\n",
       "      <th>0</th>\n",
       "      <td>poly kernal svm</td>\n",
       "      <td>0.607143</td>\n",
       "      <td>0.500000</td>\n",
       "      <td>0.636364</td>\n",
       "      <td>0.560000</td>\n",
       "    </tr>\n",
       "    <tr>\n",
       "      <th>0</th>\n",
       "      <td>Decision Tree</td>\n",
       "      <td>0.642857</td>\n",
       "      <td>0.529412</td>\n",
       "      <td>0.818182</td>\n",
       "      <td>0.642857</td>\n",
       "    </tr>\n",
       "    <tr>\n",
       "      <th>0</th>\n",
       "      <td>default logistic</td>\n",
       "      <td>0.607143</td>\n",
       "      <td>0.500000</td>\n",
       "      <td>1.000000</td>\n",
       "      <td>0.666667</td>\n",
       "    </tr>\n",
       "  </tbody>\n",
       "</table>\n",
       "</div>"
      ],
      "text/plain": [
       "              model  Accuracy  Precision    Recall        F1\n",
       "0        linear svm  0.428571   0.352941  0.545455  0.428571\n",
       "0    rbf kernal svm  0.571429   0.466667  0.636364  0.538462\n",
       "0   poly kernal svm  0.607143   0.500000  0.636364  0.560000\n",
       "0     Decision Tree  0.642857   0.529412  0.818182  0.642857\n",
       "0  default logistic  0.607143   0.500000  1.000000  0.666667"
      ]
     },
     "execution_count": 45,
     "metadata": {},
     "output_type": "execute_result"
    }
   ],
   "source": [
    "performance.sort_values(['Recall'])"
   ]
  },
  {
   "cell_type": "code",
   "execution_count": 46,
   "id": "7d92841e-2574-4587-bef0-faec981b34b6",
   "metadata": {},
   "outputs": [
    {
     "data": {
      "text/html": [
       "<div>\n",
       "<style scoped>\n",
       "    .dataframe tbody tr th:only-of-type {\n",
       "        vertical-align: middle;\n",
       "    }\n",
       "\n",
       "    .dataframe tbody tr th {\n",
       "        vertical-align: top;\n",
       "    }\n",
       "\n",
       "    .dataframe thead th {\n",
       "        text-align: right;\n",
       "    }\n",
       "</style>\n",
       "<table border=\"1\" class=\"dataframe\">\n",
       "  <thead>\n",
       "    <tr style=\"text-align: right;\">\n",
       "      <th></th>\n",
       "      <th>model</th>\n",
       "      <th>Accuracy</th>\n",
       "      <th>Precision</th>\n",
       "      <th>Recall</th>\n",
       "      <th>F1</th>\n",
       "    </tr>\n",
       "  </thead>\n",
       "  <tbody>\n",
       "    <tr>\n",
       "      <th>0</th>\n",
       "      <td>linear svm</td>\n",
       "      <td>0.428571</td>\n",
       "      <td>0.352941</td>\n",
       "      <td>0.545455</td>\n",
       "      <td>0.428571</td>\n",
       "    </tr>\n",
       "    <tr>\n",
       "      <th>0</th>\n",
       "      <td>rbf kernal svm</td>\n",
       "      <td>0.571429</td>\n",
       "      <td>0.466667</td>\n",
       "      <td>0.636364</td>\n",
       "      <td>0.538462</td>\n",
       "    </tr>\n",
       "    <tr>\n",
       "      <th>0</th>\n",
       "      <td>poly kernal svm</td>\n",
       "      <td>0.607143</td>\n",
       "      <td>0.500000</td>\n",
       "      <td>0.636364</td>\n",
       "      <td>0.560000</td>\n",
       "    </tr>\n",
       "    <tr>\n",
       "      <th>0</th>\n",
       "      <td>Decision Tree</td>\n",
       "      <td>0.642857</td>\n",
       "      <td>0.529412</td>\n",
       "      <td>0.818182</td>\n",
       "      <td>0.642857</td>\n",
       "    </tr>\n",
       "    <tr>\n",
       "      <th>0</th>\n",
       "      <td>default logistic</td>\n",
       "      <td>0.607143</td>\n",
       "      <td>0.500000</td>\n",
       "      <td>1.000000</td>\n",
       "      <td>0.666667</td>\n",
       "    </tr>\n",
       "  </tbody>\n",
       "</table>\n",
       "</div>"
      ],
      "text/plain": [
       "              model  Accuracy  Precision    Recall        F1\n",
       "0        linear svm  0.428571   0.352941  0.545455  0.428571\n",
       "0    rbf kernal svm  0.571429   0.466667  0.636364  0.538462\n",
       "0   poly kernal svm  0.607143   0.500000  0.636364  0.560000\n",
       "0     Decision Tree  0.642857   0.529412  0.818182  0.642857\n",
       "0  default logistic  0.607143   0.500000  1.000000  0.666667"
      ]
     },
     "execution_count": 46,
     "metadata": {},
     "output_type": "execute_result"
    }
   ],
   "source": [
    "performance.sort_values(['F1'])"
   ]
  },
  {
   "cell_type": "markdown",
   "id": "53c3709a-2ac8-452a-8961-000214eece11",
   "metadata": {},
   "source": [
    "# Cost Benefit analysis and the best metric\n",
    "\n",
    "## There are several metrics to evaluate the binary classification problem, however as per the class material, we will mainly concentrate on the following metrics they are Accuracy, Precision, Recall, and F1 score.\n",
    "\n",
    "### Accuracy: Accuracy simply measures how often the classifier correctly predicts. \n",
    "\n",
    "\n",
    "### Precision: Precision measures the proportion of positive predictions that are correct.\n",
    "\n",
    "### Recall: Recall measures the proportion of actual positives that are correctly identified by the model.\n",
    "\n",
    "### F1 Score: F1 score is the harmonic mean of precision and recall, providing a balanced measure of the model's performance\n",
    "\n",
    "## In order to consider the best metric for my model I need to analyze the FP and FN scenarios\n",
    "\n",
    "### False Positive: The model indicates a positive prediction of Caesarean delivery, while the actual label is a normal delivery (negative). In this instance, the model made a falsely positive forecast, which could have an impact on how doctors make decisions as it might result in unneeded medical intervention.\n",
    "\n",
    "### False Negative: The model indicates a normal delivery (negative), however, the actual label is a Caesarean birth (positive). In this instance, the model made an inaccurate negative prediction, which may have consequences for medical decision-making since it may result in a failure to recognize a potential risk factor that calls for medical intervention.\n",
    "\n",
    "## So there are both pros and cons as mentioned above so I'm eliminating both precision and recall for considering them as the best metric now I'm left with the remaining Accuracy and F1 scores in these two let us analyze the scenarios\n",
    "\n",
    "## Firstly, we have addressed the data imbalance so I can consider accuracy is also the best metric \n",
    "\n",
    "## From the above output we can clearly see that the F1 score is highest when compared to the accuracy since we are leveraging the cost for both precision and recall also having the F1 score is having the highest value so I'm considering the F1 as the best metric for my dataset\n",
    "\n",
    "## Best Metric for my model is F1 Score: 0.666667"
   ]
  },
  {
   "cell_type": "markdown",
   "id": "d9b5925d-a1ed-4b95-8829-ed321829bca1",
   "metadata": {},
   "source": [
    "# Hyper parameter tuning "
   ]
  },
  {
   "cell_type": "markdown",
   "id": "fc98d7d2-33b8-443f-8af8-7be811b122d4",
   "metadata": {},
   "source": [
    "## Random Search CV using Logistic regression by f1 score"
   ]
  },
  {
   "cell_type": "code",
   "execution_count": 84,
   "id": "e49b4a32-5e5a-4192-a1da-ea437bcb7707",
   "metadata": {},
   "outputs": [
    {
     "name": "stdout",
     "output_type": "stream",
     "text": [
      "Fitting 5 folds for each of 135 candidates, totalling 675 fits\n",
      "The best make_scorer(f1_score, average=macro) score is 0.6124100899100899\n",
      "... with parameters: {'solver': 'newton-cg', 'penalty': 'l2', 'C': 0.19306977288832497}\n"
     ]
    }
   ],
   "source": [
    "score_measure = make_scorer(f1_score , average='macro')\n",
    "kfolds = 5\n",
    "\n",
    "param_grid = {\n",
    "    'penalty' : ['l1','l2','elasticnet'], \n",
    "    'C'       : np.logspace(-5,5,15),\n",
    "    'solver'  : ['newton-cg', 'lbfgs', 'liblinear'],\n",
    "}\n",
    "\n",
    "logistic_random = LogisticRegression()\n",
    "randomsearch_logistic = RandomizedSearchCV(estimator = logistic_random, param_distributions=param_grid, cv=kfolds, n_iter=500,\n",
    "                           scoring=score_measure, verbose=1, n_jobs=-1,  # n_jobs=-1 will utilize all available CPUs \n",
    "                           return_train_score=True)\n",
    "\n",
    "_ = randomsearch_logistic.fit(X_train, y_train)\n",
    "\n",
    "print(f\"The best {score_measure} score is {randomsearch_logistic.best_score_}\")\n",
    "print(f\"... with parameters: {randomsearch_logistic.best_params_}\")\n",
    "\n",
    "f1_out = randomsearch_logistic.best_estimator_"
   ]
  },
  {
   "cell_type": "markdown",
   "id": "079f6b9a-d39c-468d-bd23-4338f902183c",
   "metadata": {},
   "source": [
    "##  Using Grid search CV"
   ]
  },
  {
   "cell_type": "code",
   "execution_count": 80,
   "id": "d5a7e309-dde8-41d2-8efd-6ad99fffb4fc",
   "metadata": {},
   "outputs": [
    {
     "name": "stdout",
     "output_type": "stream",
     "text": [
      "Fitting 5 folds for each of 90 candidates, totalling 450 fits\n",
      "The best make_scorer(f1_score, average=macro) score is 0.6124100899100899\n",
      "... with parameters: {'C': 0.19306977288832497, 'penalty': 'l2', 'solver': 'newton-cg'}\n"
     ]
    }
   ],
   "source": [
    "score_measure = make_scorer(f1_score , average='macro')\n",
    "kfolds = 5\n",
    "\n",
    "param_grid = {\n",
    "    'penalty' : ['l1','l2'], \n",
    "    'C'       : np.logspace(-5,15,15),\n",
    "    'solver'  : ['newton-cg', 'lbfgs', 'liblinear'],\n",
    "}\n",
    "\n",
    "logistic_grid_Cv= LogisticRegression()\n",
    "gridsearch_logistic = GridSearchCV(estimator = logistic_grid_Cv, param_grid=param_grid, cv=kfolds, \n",
    "                           scoring=score_measure, verbose=1, n_jobs=-1,  # n_jobs=-1 will utilize all available CPUs \n",
    "                           return_train_score=True)\n",
    "\n",
    "_ = gridsearch_logistic.fit(X_train, y_train)\n",
    "\n",
    "print(f\"The best {score_measure} score is {gridsearch_logistic.best_score_}\")\n",
    "print(f\"... with parameters: {gridsearch_logistic.best_params_}\")\n",
    "\n",
    "f1_out_grid = gridsearch_logistic.best_estimator_"
   ]
  },
  {
   "cell_type": "markdown",
   "id": "79cbccaf-18de-4690-a4a5-68e56db6e54f",
   "metadata": {},
   "source": [
    "## Random Search CV using by f1 score for Linear Kernel SVM"
   ]
  },
  {
   "cell_type": "code",
   "execution_count": 91,
   "id": "f442da4a-ed5e-4a6b-b485-7e10d18f350c",
   "metadata": {},
   "outputs": [
    {
     "name": "stdout",
     "output_type": "stream",
     "text": [
      "Fitting 5 folds for each of 32 candidates, totalling 160 fits\n",
      "The best make_scorer(f1_score, average=macro) score is 0.6014685314685313\n",
      "... with parameters: {'kernel': 'linear', 'gamma': 1, 'C': 1}\n"
     ]
    }
   ],
   "source": [
    "score_measure = make_scorer(f1_score , average='macro')\n",
    "kfolds = 5\n",
    "\n",
    "param_grid = {\n",
    "     'C': [0.001, 0.01, 0.1,1, 10, 100, 1000, 10000],\n",
    "      'gamma': [1,0.1,0.01,0.001],\n",
    "      'kernel':['linear']\n",
    "}\n",
    "\n",
    "svm_linear = SVC(max_iter=9000)\n",
    "svm_linear_randomsearch = RandomizedSearchCV(estimator = svm_linear, param_distributions=param_grid, cv=kfolds, n_iter=500,\n",
    "                           scoring=score_measure, verbose=1, n_jobs=-1,  # n_jobs=-1 will utilize all available CPUs \n",
    "                           return_train_score=True)\n",
    "\n",
    "_ = svm_linear_randomsearch.fit(X_train, y_train)\n",
    "\n",
    "print(f\"The best {score_measure} score is {svm_linear_randomsearch.best_score_}\")\n",
    "print(f\"... with parameters: {svm_linear_randomsearch.best_params_}\")\n",
    "\n",
    "svm_linear_out = svm_linear_randomsearch.best_estimator_"
   ]
  },
  {
   "cell_type": "markdown",
   "id": "4d808cb1-33a1-4d13-8ddb-0bde7bdec268",
   "metadata": {},
   "source": [
    "## Random Search CV using by f1 score for Linear Kernel SVM"
   ]
  },
  {
   "cell_type": "code",
   "execution_count": 92,
   "id": "553c6fa6-9ccc-4356-93cf-2074e468d6d9",
   "metadata": {},
   "outputs": [
    {
     "name": "stdout",
     "output_type": "stream",
     "text": [
      "Fitting 5 folds for each of 32 candidates, totalling 160 fits\n",
      "The best make_scorer(f1_score, average=macro) score is 0.6014685314685313\n",
      "... with parameters: {'C': 1, 'gamma': 1, 'kernel': 'linear'}\n"
     ]
    }
   ],
   "source": [
    "score_measure = make_scorer(f1_score , average='macro')\n",
    "kfolds = 5\n",
    "\n",
    "param_grid = {\n",
    "     #'C': [0.1,1, 10, 100], \n",
    "    'C': [0.001, 0.01, 0.1,1, 10, 100, 1000, 10000],\n",
    "     'gamma': [1,0.1,0.01,0.001],\n",
    "    'kernel': ['linear']\n",
    "}\n",
    "\n",
    "svm_linear = SVC(max_iter=9000)\n",
    "svm_linear_gridsearch = GridSearchCV(estimator = svm_linear, param_grid=param_grid, cv=kfolds, \n",
    "                           scoring=score_measure, verbose=1, n_jobs=-1,  # n_jobs=-1 will utilize all available CPUs \n",
    "                           return_train_score=True)\n",
    "\n",
    "_ = svm_linear_gridsearch.fit(X_train, y_train)\n",
    "\n",
    "print(f\"The best {score_measure} score is {svm_linear_gridsearch.best_score_}\")\n",
    "print(f\"... with parameters: {svm_linear_gridsearch.best_params_}\")\n",
    "\n",
    "svm_linear_out_randomsearch = svm_linear_gridsearch.best_estimator_"
   ]
  },
  {
   "cell_type": "markdown",
   "id": "7df13f1e-24cc-4fc6-b786-3cf261f77fc7",
   "metadata": {},
   "source": [
    "# Random Search CV using by f1 score for SVC RBF Kernel"
   ]
  },
  {
   "cell_type": "code",
   "execution_count": 93,
   "id": "6576fcb5-5547-43c8-a99d-56083ae14fd6",
   "metadata": {},
   "outputs": [
    {
     "name": "stdout",
     "output_type": "stream",
     "text": [
      "Fitting 5 folds for each of 48 candidates, totalling 240 fits\n",
      "The best make_scorer(f1_score, average=macro) score is 0.7330019980019981\n",
      "... with parameters: {'kernel': 'rbf', 'gamma': 1, 'degree': 2, 'C': 10}\n"
     ]
    }
   ],
   "source": [
    "score_measure = make_scorer(f1_score , average='macro')\n",
    "kfolds = 5\n",
    "\n",
    "param_grid = {\n",
    "     'C': [0.1,1, 10, 100], \n",
    "    'gamma': [1,0.1,0.01,0.001],\n",
    "     'degree':[2,3,4],\n",
    "    'kernel': ['rbf'],\n",
    "}\n",
    "\n",
    "rbf_svc_kernel = SVC()\n",
    "random_rbf_svc_kernel = RandomizedSearchCV(estimator = rbf_svc_kernel, param_distributions=param_grid, cv=kfolds, n_iter=500,\n",
    "                           scoring=score_measure, verbose=1, n_jobs=-1,  # n_jobs=-1 will utilize all available CPUs \n",
    "                           return_train_score=True)\n",
    "\n",
    "_ = random_rbf_svc_kernel.fit(X_train, y_train)\n",
    "\n",
    "print(f\"The best {score_measure} score is {random_rbf_svc_kernel.best_score_}\")\n",
    "print(f\"... with parameters: {random_rbf_svc_kernel.best_params_}\")\n",
    "\n",
    "random_rbf_svc_kernel_out = random_rbf_svc_kernel.best_estimator_"
   ]
  },
  {
   "cell_type": "markdown",
   "id": "0498a0d9-5e65-4292-b43d-af3f51663e4f",
   "metadata": {},
   "source": [
    "# Grid Search CV using by f1 score for SVC RBF Kernel"
   ]
  },
  {
   "cell_type": "code",
   "execution_count": 94,
   "id": "f7d8e122-a791-485d-ab5f-204d16fe94c1",
   "metadata": {},
   "outputs": [
    {
     "name": "stdout",
     "output_type": "stream",
     "text": [
      "Fitting 5 folds for each of 80 candidates, totalling 400 fits\n",
      "The best make_scorer(f1_score, average=macro) score is 0.7330019980019981\n",
      "... with parameters: {'C': 10, 'degree': 1, 'gamma': 1, 'kernel': 'rbf'}\n"
     ]
    }
   ],
   "source": [
    "score_measure = make_scorer(f1_score , average='macro')\n",
    "kfolds = 5\n",
    "\n",
    "param_grid = {\n",
    "     'C': [1,10,20, 100], \n",
    "     'gamma': [1,0.1,0.01,0.001],\n",
    "     'degree':[1,2,3,4,6],\n",
    "    'kernel': ['rbf'],\n",
    "}\n",
    "\n",
    "rbf_svc_kernel = SVC()\n",
    "grid_rbf_svc_kernel = GridSearchCV(estimator = rbf_svc_kernel, param_grid=param_grid, cv=kfolds, \n",
    "                           scoring=score_measure, verbose=1, n_jobs=-1,  # n_jobs=-1 will utilize all available CPUs \n",
    "                           return_train_score=True)\n",
    "\n",
    "_ = grid_rbf_svc_kernel.fit(X_train, y_train)\n",
    "\n",
    "print(f\"The best {score_measure} score is {grid_rbf_svc_kernel.best_score_}\")\n",
    "print(f\"... with parameters: {grid_rbf_svc_kernel.best_params_}\")\n",
    "\n",
    "grid_rbf_svc_kernel_out = grid_rbf_svc_kernel.best_estimator_"
   ]
  },
  {
   "cell_type": "markdown",
   "id": "b2a58615-02c2-4950-a34e-c0dc6af8aeb6",
   "metadata": {},
   "source": [
    "# Random Search CV using by f1 score for svc poly kernel"
   ]
  },
  {
   "cell_type": "code",
   "execution_count": 95,
   "id": "bf7eb077-81a5-480b-8869-4736794c2905",
   "metadata": {},
   "outputs": [
    {
     "name": "stdout",
     "output_type": "stream",
     "text": [
      "Fitting 5 folds for each of 48 candidates, totalling 240 fits\n",
      "The best make_scorer(f1_score, average=macro) score is 0.6460594960594961\n",
      "... with parameters: {'kernel': 'poly', 'gamma': 0.1, 'degree': 3, 'C': 0.1}\n"
     ]
    }
   ],
   "source": [
    "score_measure = make_scorer(f1_score , average='macro')\n",
    "kfolds = 5\n",
    "\n",
    "param_grid = {\n",
    "     'C': [0.1,1, 10, 100], \n",
    "    'gamma': [1,0.1,0.01,0.001],\n",
    "    'degree':[2,3,4],\n",
    "    'kernel': ['poly']\n",
    "}\n",
    "\n",
    "random_svc_poly = SVC(max_iter=30000)\n",
    "random_search_svc_poly = RandomizedSearchCV(estimator = random_svc_poly, param_distributions=param_grid, cv=kfolds, n_iter=500,\n",
    "                           scoring=score_measure, verbose=1, n_jobs=-1,  # n_jobs=-1 will utilize all available CPUs \n",
    "                           return_train_score=True)\n",
    "\n",
    "_ = random_search_svc_poly.fit(X_train, y_train)\n",
    "\n",
    "print(f\"The best {score_measure} score is {random_search_svc_poly.best_score_}\")\n",
    "print(f\"... with parameters: {random_search_svc_poly.best_params_}\")\n",
    "\n",
    "random_search_svc_poly_out = random_search_svc_poly.best_estimator_"
   ]
  },
  {
   "cell_type": "markdown",
   "id": "b7407794-e6af-4849-abc2-53be43a57076",
   "metadata": {},
   "source": [
    "# Grid Search CV using by f1 score for svc poly kernel"
   ]
  },
  {
   "cell_type": "code",
   "execution_count": 96,
   "id": "5ec87b2a-304c-4ec9-969d-796fe1f61788",
   "metadata": {},
   "outputs": [
    {
     "name": "stdout",
     "output_type": "stream",
     "text": [
      "Fitting 5 folds for each of 48 candidates, totalling 240 fits\n",
      "The best make_scorer(f1_score, average=macro) score is 0.6460594960594961\n",
      "... with parameters: {'C': 0.1, 'degree': 3, 'gamma': 0.1, 'kernel': 'poly'}\n"
     ]
    }
   ],
   "source": [
    "score_measure = make_scorer(f1_score , average='macro')\n",
    "kfolds = 5\n",
    "\n",
    "param_grid = {\n",
    "    'C': [0.1,1, 10, 100], \n",
    "    'gamma': [1,0.1,0.01,0.001],\n",
    "    'degree':[2,3,4],\n",
    "    'kernel': ['poly']\n",
    "}\n",
    "\n",
    "grid_svm_poly = SVC(max_iter=30000)\n",
    "grid_search_svc_poly = GridSearchCV(estimator = grid_svm_poly, param_grid=param_grid, cv=kfolds, \n",
    "                           scoring=score_measure, verbose=1, n_jobs=-1,  # n_jobs=-1 will utilize all available CPUs \n",
    "                           return_train_score=True)\n",
    "\n",
    "_ = grid_search_svc_poly.fit(X_train, y_train)\n",
    "\n",
    "print(f\"The best {score_measure} score is {grid_search_svc_poly.best_score_}\")\n",
    "print(f\"... with parameters: {grid_search_svc_poly.best_params_}\")\n",
    "\n",
    "grid_search_svc_poly_out = grid_search_svc_poly.best_estimator_"
   ]
  },
  {
   "cell_type": "markdown",
   "id": "d6dec03a-7f96-41cb-8e66-9ee36d01b96e",
   "metadata": {},
   "source": [
    "# Random search cv for Decision Trees"
   ]
  },
  {
   "cell_type": "code",
   "execution_count": 97,
   "id": "21ea0de8-d697-4417-a337-7075c3e15b70",
   "metadata": {},
   "outputs": [
    {
     "name": "stdout",
     "output_type": "stream",
     "text": [
      "Fitting 5 folds for each of 500 candidates, totalling 2500 fits\n",
      "The best make_scorer(f1_score, average=macro) score is 0.6584242881301704\n",
      "... with parameters: {'min_samples_split': 50, 'min_samples_leaf': 23, 'min_impurity_decrease': 0.0076, 'max_leaf_nodes': 61, 'max_depth': 21, 'criterion': 'entropy'}\n"
     ]
    }
   ],
   "source": [
    "score_measure = make_scorer(f1_score , average='macro')\n",
    "kfolds = 5\n",
    "\n",
    "param_grid = {\n",
    "    'min_samples_split': np.arange(1,100),  \n",
    "    'min_samples_leaf': np.arange(1,100),\n",
    "    'min_impurity_decrease': np.arange(0.0001, 0.01, 0.0005),\n",
    "    'max_leaf_nodes': np.arange(5, 100), \n",
    "    'max_depth': np.arange(1,50), \n",
    "    'criterion': ['entropy', 'gini'],\n",
    "}\n",
    "\n",
    "decisiontree_random = DecisionTreeClassifier()\n",
    "decisiontree_random_search = RandomizedSearchCV(estimator = decisiontree_random, param_distributions=param_grid, cv=kfolds, n_iter=500,\n",
    "                           scoring=score_measure, verbose=1, n_jobs=-1,  # n_jobs=-1 will utilize all available CPUs \n",
    "                           return_train_score=True)\n",
    "\n",
    "_ = decisiontree_random_search.fit(X_train, y_train)\n",
    "\n",
    "print(f\"The best {score_measure} score is {decisiontree_random_search.best_score_}\")\n",
    "print(f\"... with parameters: {decisiontree_random_search.best_params_}\")\n",
    "\n",
    "decisiontree_random_search_out = decisiontree_random_search.best_estimator_"
   ]
  },
  {
   "cell_type": "markdown",
   "id": "c142443b-3a5a-49c6-a6b9-f98f34d6eeed",
   "metadata": {},
   "source": [
    "# Grid search cv for Decision Trees"
   ]
  },
  {
   "cell_type": "code",
   "execution_count": 98,
   "id": "baed354a-61f0-4705-b247-2b2194e53459",
   "metadata": {},
   "outputs": [
    {
     "name": "stdout",
     "output_type": "stream",
     "text": [
      "Fitting 5 folds for each of 145800 candidates, totalling 729000 fits\n",
      "The best make_scorer(f1_score, average=macro) score is 0.6774281274281274\n",
      "... with parameters: {'criterion': 'entropy', 'max_depth': 4, 'max_leaf_nodes': 7, 'min_impurity_decrease': 0.0001, 'min_samples_leaf': 1, 'min_samples_split': 1}\n"
     ]
    }
   ],
   "source": [
    "score_measure = make_scorer(f1_score , average='macro')\n",
    "kfolds = 5\n",
    "\n",
    "param_grid = {\n",
    "    'min_samples_split': np.arange(1,10),  \n",
    "    'min_samples_leaf': np.arange(1,10),\n",
    "    'min_impurity_decrease': np.arange(0.0001, 0.01, 0.0005),\n",
    "    'max_leaf_nodes': np.arange(5, 10), \n",
    "    'max_depth': np.arange(1,10), \n",
    "    'criterion': ['entropy', 'gini'],\n",
    "}\n",
    "\n",
    "grid_dt = DecisionTreeClassifier()\n",
    "decisiontrees_grid_search = GridSearchCV(estimator = grid_dt, param_grid=param_grid, cv=kfolds,\n",
    "                           scoring=score_measure, verbose=1, n_jobs=-1,  # n_jobs=-1 will utilize all available CPUs \n",
    "                           return_train_score=True)\n",
    "\n",
    "_ = decisiontrees_grid_search.fit(X_train, y_train)\n",
    "\n",
    "print(f\"The best {score_measure} score is {decisiontrees_grid_search.best_score_}\")\n",
    "print(f\"... with parameters: {decisiontrees_grid_search.best_params_}\")\n",
    "\n",
    "decisiontrees_grid_search_out = decisiontrees_grid_search.best_estimator_"
   ]
  },
  {
   "cell_type": "markdown",
   "id": "7c8ff937",
   "metadata": {},
   "source": [
    "## Among all the models which I have considered the best optimized metric that i found is SVM RBG kernel which gave the 73.33% f1 score\n",
    "## So hence F1 score for the RBF kerenel is the best model and savig this into a pickel file for the future use as questioned."
   ]
  },
  {
   "cell_type": "markdown",
   "id": "71ac7f80-04b1-4f46-90d2-c250146a354a",
   "metadata": {},
   "source": [
    "# Saving this model for future use (In the question they mentioned)"
   ]
  },
  {
   "cell_type": "code",
   "execution_count": 99,
   "id": "8dcb77c3-d5e2-4982-a7be-aa0dab6b3031",
   "metadata": {},
   "outputs": [],
   "source": [
    "import pickle\n",
    "\n",
    "# save model\n",
    "pickle.dump(random_rbf_svc_kernel_out, open('E:/Spring-23/DSP/Assignmnet1/assignment1_svm_best.pickle', \"wb\"))\n",
    "\n",
    "# If you wish to load this model later, simply use pickle.load method\n",
    "#loaded_model = pickle.load(open('logistic_model_example01.pkl', \"rb\"))"
   ]
  }
 ],
 "metadata": {
  "kernelspec": {
   "display_name": "Python 3 (ipykernel)",
   "language": "python",
   "name": "python3"
  },
  "language_info": {
   "codemirror_mode": {
    "name": "ipython",
    "version": 3
   },
   "file_extension": ".py",
   "mimetype": "text/x-python",
   "name": "python",
   "nbconvert_exporter": "python",
   "pygments_lexer": "ipython3",
   "version": "3.9.16"
  }
 },
 "nbformat": 4,
 "nbformat_minor": 5
}
