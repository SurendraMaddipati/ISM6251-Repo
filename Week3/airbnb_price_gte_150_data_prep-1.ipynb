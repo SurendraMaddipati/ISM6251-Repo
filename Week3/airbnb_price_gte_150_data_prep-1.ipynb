{
 "cells": [
  {
   "cell_type": "markdown",
   "metadata": {},
   "source": [
    "# AirBNB Data Preparation (Target = price_gte_150)\n",
    "\n",
    "In this notebook we focus on the data loading, basic exploring, and prepatation.\n",
    "\n",
    "This notebook follows closely the previous data cleaning toturial from last week. We will be using the same input dataset and producing the same output with one small change - instead of the target being the continuous variable price, we will select the target price_category - and we will be using a logistic regression model instead of a linear regression model to identify where price_gte_150 is true.\n"
   ]
  },
  {
   "cell_type": "markdown",
   "metadata": {},
   "source": [
    "## 1.0 Setup\n"
   ]
  },
  {
   "cell_type": "code",
   "execution_count": 1,
   "metadata": {},
   "outputs": [],
   "source": [
    "# import numpy and pandas libraries\n",
    "import numpy as np\n",
    "import pandas as pd\n",
    "from sklearn.preprocessing import LabelEncoder\n",
    "from sklearn.model_selection import train_test_split\n",
    "from sklearn import preprocessing\n",
    "from sklearn.impute import SimpleImputer\n",
    "# set random seed to ensure that results are repeatable\n",
    "np.random.seed(1)"
   ]
  },
  {
   "cell_type": "markdown",
   "metadata": {},
   "source": [
    "## 2.0 Load data "
   ]
  },
  {
   "cell_type": "code",
   "execution_count": 2,
   "metadata": {},
   "outputs": [
    {
     "data": {
      "text/html": [
       "<div>\n",
       "<style scoped>\n",
       "    .dataframe tbody tr th:only-of-type {\n",
       "        vertical-align: middle;\n",
       "    }\n",
       "\n",
       "    .dataframe tbody tr th {\n",
       "        vertical-align: top;\n",
       "    }\n",
       "\n",
       "    .dataframe thead th {\n",
       "        text-align: right;\n",
       "    }\n",
       "</style>\n",
       "<table border=\"1\" class=\"dataframe\">\n",
       "  <thead>\n",
       "    <tr style=\"text-align: right;\">\n",
       "      <th></th>\n",
       "      <th>host_is_superhost</th>\n",
       "      <th>host_identity_verified</th>\n",
       "      <th>neighbourhood_cleansed</th>\n",
       "      <th>latitude</th>\n",
       "      <th>longitude</th>\n",
       "      <th>property_type</th>\n",
       "      <th>room_type</th>\n",
       "      <th>accommodates</th>\n",
       "      <th>bathrooms</th>\n",
       "      <th>bedrooms</th>\n",
       "      <th>...</th>\n",
       "      <th>guests_included</th>\n",
       "      <th>price_per_extra_person</th>\n",
       "      <th>minimum_nights</th>\n",
       "      <th>number_of_reviews</th>\n",
       "      <th>number_days_btw_first_last_review</th>\n",
       "      <th>review_scores_rating</th>\n",
       "      <th>cancellation_policy</th>\n",
       "      <th>price</th>\n",
       "      <th>price_gte_150</th>\n",
       "      <th>price_category</th>\n",
       "    </tr>\n",
       "  </thead>\n",
       "  <tbody>\n",
       "    <tr>\n",
       "      <th>0</th>\n",
       "      <td>0</td>\n",
       "      <td>0</td>\n",
       "      <td>Roslindale</td>\n",
       "      <td>42.282619</td>\n",
       "      <td>-71.133068</td>\n",
       "      <td>House</td>\n",
       "      <td>Entire home/apt</td>\n",
       "      <td>4</td>\n",
       "      <td>1.5</td>\n",
       "      <td>2.0</td>\n",
       "      <td>...</td>\n",
       "      <td>1</td>\n",
       "      <td>0</td>\n",
       "      <td>2</td>\n",
       "      <td>0</td>\n",
       "      <td>0</td>\n",
       "      <td>NaN</td>\n",
       "      <td>moderate</td>\n",
       "      <td>250</td>\n",
       "      <td>1</td>\n",
       "      <td>gte_226</td>\n",
       "    </tr>\n",
       "    <tr>\n",
       "      <th>1</th>\n",
       "      <td>0</td>\n",
       "      <td>1</td>\n",
       "      <td>Roslindale</td>\n",
       "      <td>42.286241</td>\n",
       "      <td>-71.134374</td>\n",
       "      <td>Apartment</td>\n",
       "      <td>Private room</td>\n",
       "      <td>2</td>\n",
       "      <td>1.0</td>\n",
       "      <td>1.0</td>\n",
       "      <td>...</td>\n",
       "      <td>0</td>\n",
       "      <td>0</td>\n",
       "      <td>2</td>\n",
       "      <td>36</td>\n",
       "      <td>804</td>\n",
       "      <td>94.0</td>\n",
       "      <td>moderate</td>\n",
       "      <td>65</td>\n",
       "      <td>0</td>\n",
       "      <td>lte_$75</td>\n",
       "    </tr>\n",
       "    <tr>\n",
       "      <th>2</th>\n",
       "      <td>1</td>\n",
       "      <td>1</td>\n",
       "      <td>Roslindale</td>\n",
       "      <td>42.292438</td>\n",
       "      <td>-71.135765</td>\n",
       "      <td>Apartment</td>\n",
       "      <td>Private room</td>\n",
       "      <td>2</td>\n",
       "      <td>1.0</td>\n",
       "      <td>1.0</td>\n",
       "      <td>...</td>\n",
       "      <td>1</td>\n",
       "      <td>20</td>\n",
       "      <td>3</td>\n",
       "      <td>41</td>\n",
       "      <td>2574</td>\n",
       "      <td>98.0</td>\n",
       "      <td>moderate</td>\n",
       "      <td>65</td>\n",
       "      <td>0</td>\n",
       "      <td>lte_$75</td>\n",
       "    </tr>\n",
       "  </tbody>\n",
       "</table>\n",
       "<p>3 rows × 23 columns</p>\n",
       "</div>"
      ],
      "text/plain": [
       "   host_is_superhost  host_identity_verified neighbourhood_cleansed  \\\n",
       "0                  0                       0             Roslindale   \n",
       "1                  0                       1             Roslindale   \n",
       "2                  1                       1             Roslindale   \n",
       "\n",
       "    latitude  longitude property_type        room_type  accommodates  \\\n",
       "0  42.282619 -71.133068         House  Entire home/apt             4   \n",
       "1  42.286241 -71.134374     Apartment     Private room             2   \n",
       "2  42.292438 -71.135765     Apartment     Private room             2   \n",
       "\n",
       "   bathrooms  bedrooms  ...  guests_included price_per_extra_person  \\\n",
       "0        1.5       2.0  ...                1                      0   \n",
       "1        1.0       1.0  ...                0                      0   \n",
       "2        1.0       1.0  ...                1                     20   \n",
       "\n",
       "   minimum_nights  number_of_reviews  number_days_btw_first_last_review  \\\n",
       "0               2                  0                                  0   \n",
       "1               2                 36                                804   \n",
       "2               3                 41                               2574   \n",
       "\n",
       "   review_scores_rating  cancellation_policy  price  price_gte_150  \\\n",
       "0                   NaN             moderate    250              1   \n",
       "1                  94.0             moderate     65              0   \n",
       "2                  98.0             moderate     65              0   \n",
       "\n",
       "  price_category  \n",
       "0        gte_226  \n",
       "1        lte_$75  \n",
       "2        lte_$75  \n",
       "\n",
       "[3 rows x 23 columns]"
      ]
     },
     "execution_count": 2,
     "metadata": {},
     "output_type": "execute_result"
    }
   ],
   "source": [
    "# load data\n",
    "airbnb = pd.read_csv(\"E:/Spring-23/DSP/airbnb.csv\")\n",
    "\n",
    "airbnb.head(3)"
   ]
  },
  {
   "cell_type": "markdown",
   "metadata": {},
   "source": [
    "## 3.0 Conduct initial exploration of the data"
   ]
  },
  {
   "cell_type": "markdown",
   "metadata": {},
   "source": [
    "We have a number of input variables and one target variable. For this analysis, the target variable is price.\n",
    "\n",
    "First, our initial exploration of the data should answer the following questions:\n",
    "1. How many rows and columns\n",
    "2. How much of a problem do we have with na's?\n",
    "3. What types of data are there?\n",
    "4. What types of data are stored in columns\n",
    "    1. identify which variables are numeric and may need to be standardized later\n",
    "    2. identify which variables are categorical and may need to be transformed using and encoders such as one-hot-encoder.\n",
    "5. Identify errors in the data - this is a common problem with categorical vars where the category is mispelled or spelled differently in some instances.\n",
    " "
   ]
  },
  {
   "cell_type": "code",
   "execution_count": 3,
   "metadata": {},
   "outputs": [
    {
     "data": {
      "text/html": [
       "<div>\n",
       "<style scoped>\n",
       "    .dataframe tbody tr th:only-of-type {\n",
       "        vertical-align: middle;\n",
       "    }\n",
       "\n",
       "    .dataframe tbody tr th {\n",
       "        vertical-align: top;\n",
       "    }\n",
       "\n",
       "    .dataframe thead th {\n",
       "        text-align: right;\n",
       "    }\n",
       "</style>\n",
       "<table border=\"1\" class=\"dataframe\">\n",
       "  <thead>\n",
       "    <tr style=\"text-align: right;\">\n",
       "      <th></th>\n",
       "      <th>host_is_superhost</th>\n",
       "      <th>host_identity_verified</th>\n",
       "      <th>neighbourhood_cleansed</th>\n",
       "      <th>latitude</th>\n",
       "      <th>longitude</th>\n",
       "      <th>property_type</th>\n",
       "      <th>room_type</th>\n",
       "      <th>accommodates</th>\n",
       "      <th>bathrooms</th>\n",
       "      <th>bedrooms</th>\n",
       "      <th>...</th>\n",
       "      <th>guests_included</th>\n",
       "      <th>price_per_extra_person</th>\n",
       "      <th>minimum_nights</th>\n",
       "      <th>number_of_reviews</th>\n",
       "      <th>number_days_btw_first_last_review</th>\n",
       "      <th>review_scores_rating</th>\n",
       "      <th>cancellation_policy</th>\n",
       "      <th>price</th>\n",
       "      <th>price_gte_150</th>\n",
       "      <th>price_category</th>\n",
       "    </tr>\n",
       "  </thead>\n",
       "  <tbody>\n",
       "    <tr>\n",
       "      <th>0</th>\n",
       "      <td>0</td>\n",
       "      <td>0</td>\n",
       "      <td>Roslindale</td>\n",
       "      <td>42.282619</td>\n",
       "      <td>-71.133068</td>\n",
       "      <td>House</td>\n",
       "      <td>Entire home/apt</td>\n",
       "      <td>4</td>\n",
       "      <td>1.5</td>\n",
       "      <td>2.0</td>\n",
       "      <td>...</td>\n",
       "      <td>1</td>\n",
       "      <td>0</td>\n",
       "      <td>2</td>\n",
       "      <td>0</td>\n",
       "      <td>0</td>\n",
       "      <td>NaN</td>\n",
       "      <td>moderate</td>\n",
       "      <td>250</td>\n",
       "      <td>1</td>\n",
       "      <td>gte_226</td>\n",
       "    </tr>\n",
       "    <tr>\n",
       "      <th>1</th>\n",
       "      <td>0</td>\n",
       "      <td>1</td>\n",
       "      <td>Roslindale</td>\n",
       "      <td>42.286241</td>\n",
       "      <td>-71.134374</td>\n",
       "      <td>Apartment</td>\n",
       "      <td>Private room</td>\n",
       "      <td>2</td>\n",
       "      <td>1.0</td>\n",
       "      <td>1.0</td>\n",
       "      <td>...</td>\n",
       "      <td>0</td>\n",
       "      <td>0</td>\n",
       "      <td>2</td>\n",
       "      <td>36</td>\n",
       "      <td>804</td>\n",
       "      <td>94.0</td>\n",
       "      <td>moderate</td>\n",
       "      <td>65</td>\n",
       "      <td>0</td>\n",
       "      <td>lte_$75</td>\n",
       "    </tr>\n",
       "    <tr>\n",
       "      <th>2</th>\n",
       "      <td>1</td>\n",
       "      <td>1</td>\n",
       "      <td>Roslindale</td>\n",
       "      <td>42.292438</td>\n",
       "      <td>-71.135765</td>\n",
       "      <td>Apartment</td>\n",
       "      <td>Private room</td>\n",
       "      <td>2</td>\n",
       "      <td>1.0</td>\n",
       "      <td>1.0</td>\n",
       "      <td>...</td>\n",
       "      <td>1</td>\n",
       "      <td>20</td>\n",
       "      <td>3</td>\n",
       "      <td>41</td>\n",
       "      <td>2574</td>\n",
       "      <td>98.0</td>\n",
       "      <td>moderate</td>\n",
       "      <td>65</td>\n",
       "      <td>0</td>\n",
       "      <td>lte_$75</td>\n",
       "    </tr>\n",
       "  </tbody>\n",
       "</table>\n",
       "<p>3 rows × 23 columns</p>\n",
       "</div>"
      ],
      "text/plain": [
       "   host_is_superhost  host_identity_verified neighbourhood_cleansed  \\\n",
       "0                  0                       0             Roslindale   \n",
       "1                  0                       1             Roslindale   \n",
       "2                  1                       1             Roslindale   \n",
       "\n",
       "    latitude  longitude property_type        room_type  accommodates  \\\n",
       "0  42.282619 -71.133068         House  Entire home/apt             4   \n",
       "1  42.286241 -71.134374     Apartment     Private room             2   \n",
       "2  42.292438 -71.135765     Apartment     Private room             2   \n",
       "\n",
       "   bathrooms  bedrooms  ...  guests_included price_per_extra_person  \\\n",
       "0        1.5       2.0  ...                1                      0   \n",
       "1        1.0       1.0  ...                0                      0   \n",
       "2        1.0       1.0  ...                1                     20   \n",
       "\n",
       "   minimum_nights  number_of_reviews  number_days_btw_first_last_review  \\\n",
       "0               2                  0                                  0   \n",
       "1               2                 36                                804   \n",
       "2               3                 41                               2574   \n",
       "\n",
       "   review_scores_rating  cancellation_policy  price  price_gte_150  \\\n",
       "0                   NaN             moderate    250              1   \n",
       "1                  94.0             moderate     65              0   \n",
       "2                  98.0             moderate     65              0   \n",
       "\n",
       "  price_category  \n",
       "0        gte_226  \n",
       "1        lte_$75  \n",
       "2        lte_$75  \n",
       "\n",
       "[3 rows x 23 columns]"
      ]
     },
     "execution_count": 3,
     "metadata": {},
     "output_type": "execute_result"
    }
   ],
   "source": [
    "# look at the data\n",
    "airbnb.head(3) # note that we don't want to dump all the data to the screen"
   ]
  },
  {
   "cell_type": "code",
   "execution_count": 4,
   "metadata": {},
   "outputs": [
    {
     "name": "stdout",
     "output_type": "stream",
     "text": [
      "<class 'pandas.core.frame.DataFrame'>\n",
      "RangeIndex: 3555 entries, 0 to 3554\n",
      "Data columns (total 23 columns):\n",
      " #   Column                             Non-Null Count  Dtype  \n",
      "---  ------                             --------------  -----  \n",
      " 0   host_is_superhost                  3555 non-null   int64  \n",
      " 1   host_identity_verified             3555 non-null   int64  \n",
      " 2   neighbourhood_cleansed             3555 non-null   object \n",
      " 3   latitude                           3555 non-null   float64\n",
      " 4   longitude                          3555 non-null   float64\n",
      " 5   property_type                      3552 non-null   object \n",
      " 6   room_type                          3555 non-null   object \n",
      " 7   accommodates                       3555 non-null   int64  \n",
      " 8   bathrooms                          3541 non-null   float64\n",
      " 9   bedrooms                           3545 non-null   float64\n",
      " 10  beds                               3546 non-null   float64\n",
      " 11  bed_type                           3555 non-null   object \n",
      " 12  Number of amenities                3555 non-null   int64  \n",
      " 13  guests_included                    3555 non-null   int64  \n",
      " 14  price_per_extra_person             3555 non-null   int64  \n",
      " 15  minimum_nights                     3555 non-null   int64  \n",
      " 16  number_of_reviews                  3555 non-null   int64  \n",
      " 17  number_days_btw_first_last_review  3555 non-null   int64  \n",
      " 18  review_scores_rating               2755 non-null   float64\n",
      " 19  cancellation_policy                3555 non-null   object \n",
      " 20  price                              3555 non-null   int64  \n",
      " 21  price_gte_150                      3555 non-null   int64  \n",
      " 22  price_category                     3555 non-null   object \n",
      "dtypes: float64(6), int64(11), object(6)\n",
      "memory usage: 638.9+ KB\n"
     ]
    }
   ],
   "source": [
    "# generate a basic summary of the data\n",
    "airbnb.info()"
   ]
  },
  {
   "cell_type": "code",
   "execution_count": 5,
   "metadata": {},
   "outputs": [
    {
     "data": {
      "text/html": [
       "<div>\n",
       "<style scoped>\n",
       "    .dataframe tbody tr th:only-of-type {\n",
       "        vertical-align: middle;\n",
       "    }\n",
       "\n",
       "    .dataframe tbody tr th {\n",
       "        vertical-align: top;\n",
       "    }\n",
       "\n",
       "    .dataframe thead th {\n",
       "        text-align: right;\n",
       "    }\n",
       "</style>\n",
       "<table border=\"1\" class=\"dataframe\">\n",
       "  <thead>\n",
       "    <tr style=\"text-align: right;\">\n",
       "      <th></th>\n",
       "      <th>host_is_superhost</th>\n",
       "      <th>host_identity_verified</th>\n",
       "      <th>latitude</th>\n",
       "      <th>longitude</th>\n",
       "      <th>accommodates</th>\n",
       "      <th>bathrooms</th>\n",
       "      <th>bedrooms</th>\n",
       "      <th>beds</th>\n",
       "      <th>Number of amenities</th>\n",
       "      <th>guests_included</th>\n",
       "      <th>price_per_extra_person</th>\n",
       "      <th>minimum_nights</th>\n",
       "      <th>number_of_reviews</th>\n",
       "      <th>number_days_btw_first_last_review</th>\n",
       "      <th>review_scores_rating</th>\n",
       "      <th>price</th>\n",
       "      <th>price_gte_150</th>\n",
       "    </tr>\n",
       "  </thead>\n",
       "  <tbody>\n",
       "    <tr>\n",
       "      <th>count</th>\n",
       "      <td>3555.000000</td>\n",
       "      <td>3555.000000</td>\n",
       "      <td>3555.000000</td>\n",
       "      <td>3555.000000</td>\n",
       "      <td>3555.000000</td>\n",
       "      <td>3541.000000</td>\n",
       "      <td>3545.000000</td>\n",
       "      <td>3546.000000</td>\n",
       "      <td>3555.00000</td>\n",
       "      <td>3555.000000</td>\n",
       "      <td>3555.000000</td>\n",
       "      <td>3555.000000</td>\n",
       "      <td>3555.000000</td>\n",
       "      <td>3555.000000</td>\n",
       "      <td>2755.000000</td>\n",
       "      <td>3555.000000</td>\n",
       "      <td>3555.000000</td>\n",
       "    </tr>\n",
       "    <tr>\n",
       "      <th>mean</th>\n",
       "      <td>0.113080</td>\n",
       "      <td>0.727989</td>\n",
       "      <td>42.339973</td>\n",
       "      <td>-71.084874</td>\n",
       "      <td>3.023629</td>\n",
       "      <td>1.215899</td>\n",
       "      <td>1.246544</td>\n",
       "      <td>1.597293</td>\n",
       "      <td>14.85879</td>\n",
       "      <td>1.427004</td>\n",
       "      <td>10.886639</td>\n",
       "      <td>3.116737</td>\n",
       "      <td>19.126582</td>\n",
       "      <td>279.052602</td>\n",
       "      <td>91.891470</td>\n",
       "      <td>166.060478</td>\n",
       "      <td>0.500422</td>\n",
       "    </tr>\n",
       "    <tr>\n",
       "      <th>std</th>\n",
       "      <td>0.316735</td>\n",
       "      <td>0.445058</td>\n",
       "      <td>0.024464</td>\n",
       "      <td>0.031614</td>\n",
       "      <td>1.754808</td>\n",
       "      <td>0.492656</td>\n",
       "      <td>0.738440</td>\n",
       "      <td>0.995467</td>\n",
       "      <td>4.82126</td>\n",
       "      <td>1.050204</td>\n",
       "      <td>19.092755</td>\n",
       "      <td>8.273949</td>\n",
       "      <td>35.666178</td>\n",
       "      <td>408.686952</td>\n",
       "      <td>9.548381</td>\n",
       "      <td>103.378456</td>\n",
       "      <td>0.500070</td>\n",
       "    </tr>\n",
       "    <tr>\n",
       "      <th>min</th>\n",
       "      <td>0.000000</td>\n",
       "      <td>0.000000</td>\n",
       "      <td>42.235942</td>\n",
       "      <td>-71.171789</td>\n",
       "      <td>1.000000</td>\n",
       "      <td>0.000000</td>\n",
       "      <td>0.000000</td>\n",
       "      <td>0.000000</td>\n",
       "      <td>0.00000</td>\n",
       "      <td>0.000000</td>\n",
       "      <td>0.000000</td>\n",
       "      <td>1.000000</td>\n",
       "      <td>0.000000</td>\n",
       "      <td>0.000000</td>\n",
       "      <td>20.000000</td>\n",
       "      <td>10.000000</td>\n",
       "      <td>0.000000</td>\n",
       "    </tr>\n",
       "    <tr>\n",
       "      <th>25%</th>\n",
       "      <td>0.000000</td>\n",
       "      <td>0.000000</td>\n",
       "      <td>42.329875</td>\n",
       "      <td>-71.105183</td>\n",
       "      <td>2.000000</td>\n",
       "      <td>1.000000</td>\n",
       "      <td>1.000000</td>\n",
       "      <td>1.000000</td>\n",
       "      <td>12.00000</td>\n",
       "      <td>1.000000</td>\n",
       "      <td>0.000000</td>\n",
       "      <td>1.000000</td>\n",
       "      <td>1.000000</td>\n",
       "      <td>0.000000</td>\n",
       "      <td>89.000000</td>\n",
       "      <td>85.000000</td>\n",
       "      <td>0.000000</td>\n",
       "    </tr>\n",
       "    <tr>\n",
       "      <th>50%</th>\n",
       "      <td>0.000000</td>\n",
       "      <td>1.000000</td>\n",
       "      <td>42.345191</td>\n",
       "      <td>-71.078487</td>\n",
       "      <td>2.000000</td>\n",
       "      <td>1.000000</td>\n",
       "      <td>1.000000</td>\n",
       "      <td>1.000000</td>\n",
       "      <td>15.00000</td>\n",
       "      <td>1.000000</td>\n",
       "      <td>0.000000</td>\n",
       "      <td>2.000000</td>\n",
       "      <td>5.000000</td>\n",
       "      <td>92.000000</td>\n",
       "      <td>94.000000</td>\n",
       "      <td>150.000000</td>\n",
       "      <td>1.000000</td>\n",
       "    </tr>\n",
       "    <tr>\n",
       "      <th>75%</th>\n",
       "      <td>0.000000</td>\n",
       "      <td>1.000000</td>\n",
       "      <td>42.354672</td>\n",
       "      <td>-71.062142</td>\n",
       "      <td>4.000000</td>\n",
       "      <td>1.000000</td>\n",
       "      <td>2.000000</td>\n",
       "      <td>2.000000</td>\n",
       "      <td>18.00000</td>\n",
       "      <td>1.000000</td>\n",
       "      <td>20.000000</td>\n",
       "      <td>3.000000</td>\n",
       "      <td>21.000000</td>\n",
       "      <td>402.000000</td>\n",
       "      <td>98.000000</td>\n",
       "      <td>219.000000</td>\n",
       "      <td>1.000000</td>\n",
       "    </tr>\n",
       "    <tr>\n",
       "      <th>max</th>\n",
       "      <td>1.000000</td>\n",
       "      <td>1.000000</td>\n",
       "      <td>42.389982</td>\n",
       "      <td>-71.000100</td>\n",
       "      <td>16.000000</td>\n",
       "      <td>6.000000</td>\n",
       "      <td>5.000000</td>\n",
       "      <td>16.000000</td>\n",
       "      <td>30.00000</td>\n",
       "      <td>14.000000</td>\n",
       "      <td>200.000000</td>\n",
       "      <td>300.000000</td>\n",
       "      <td>404.000000</td>\n",
       "      <td>2680.000000</td>\n",
       "      <td>100.000000</td>\n",
       "      <td>650.000000</td>\n",
       "      <td>1.000000</td>\n",
       "    </tr>\n",
       "  </tbody>\n",
       "</table>\n",
       "</div>"
      ],
      "text/plain": [
       "       host_is_superhost  host_identity_verified     latitude    longitude  \\\n",
       "count        3555.000000             3555.000000  3555.000000  3555.000000   \n",
       "mean            0.113080                0.727989    42.339973   -71.084874   \n",
       "std             0.316735                0.445058     0.024464     0.031614   \n",
       "min             0.000000                0.000000    42.235942   -71.171789   \n",
       "25%             0.000000                0.000000    42.329875   -71.105183   \n",
       "50%             0.000000                1.000000    42.345191   -71.078487   \n",
       "75%             0.000000                1.000000    42.354672   -71.062142   \n",
       "max             1.000000                1.000000    42.389982   -71.000100   \n",
       "\n",
       "       accommodates    bathrooms     bedrooms         beds  \\\n",
       "count   3555.000000  3541.000000  3545.000000  3546.000000   \n",
       "mean       3.023629     1.215899     1.246544     1.597293   \n",
       "std        1.754808     0.492656     0.738440     0.995467   \n",
       "min        1.000000     0.000000     0.000000     0.000000   \n",
       "25%        2.000000     1.000000     1.000000     1.000000   \n",
       "50%        2.000000     1.000000     1.000000     1.000000   \n",
       "75%        4.000000     1.000000     2.000000     2.000000   \n",
       "max       16.000000     6.000000     5.000000    16.000000   \n",
       "\n",
       "       Number of amenities  guests_included  price_per_extra_person  \\\n",
       "count           3555.00000      3555.000000             3555.000000   \n",
       "mean              14.85879         1.427004               10.886639   \n",
       "std                4.82126         1.050204               19.092755   \n",
       "min                0.00000         0.000000                0.000000   \n",
       "25%               12.00000         1.000000                0.000000   \n",
       "50%               15.00000         1.000000                0.000000   \n",
       "75%               18.00000         1.000000               20.000000   \n",
       "max               30.00000        14.000000              200.000000   \n",
       "\n",
       "       minimum_nights  number_of_reviews  number_days_btw_first_last_review  \\\n",
       "count     3555.000000        3555.000000                        3555.000000   \n",
       "mean         3.116737          19.126582                         279.052602   \n",
       "std          8.273949          35.666178                         408.686952   \n",
       "min          1.000000           0.000000                           0.000000   \n",
       "25%          1.000000           1.000000                           0.000000   \n",
       "50%          2.000000           5.000000                          92.000000   \n",
       "75%          3.000000          21.000000                         402.000000   \n",
       "max        300.000000         404.000000                        2680.000000   \n",
       "\n",
       "       review_scores_rating        price  price_gte_150  \n",
       "count           2755.000000  3555.000000    3555.000000  \n",
       "mean              91.891470   166.060478       0.500422  \n",
       "std                9.548381   103.378456       0.500070  \n",
       "min               20.000000    10.000000       0.000000  \n",
       "25%               89.000000    85.000000       0.000000  \n",
       "50%               94.000000   150.000000       1.000000  \n",
       "75%               98.000000   219.000000       1.000000  \n",
       "max              100.000000   650.000000       1.000000  "
      ]
     },
     "execution_count": 5,
     "metadata": {},
     "output_type": "execute_result"
    }
   ],
   "source": [
    "# generate a statistical summary of the numeric value in the data\n",
    "airbnb.describe()"
   ]
  },
  {
   "cell_type": "code",
   "execution_count": 7,
   "metadata": {},
   "outputs": [
    {
     "name": "stdout",
     "output_type": "stream",
     "text": [
      "Collecting summarytools\n",
      "  Downloading summarytools-0.2.3.tar.gz (11 kB)\n",
      "  Installing build dependencies: started\n",
      "  Installing build dependencies: finished with status 'done'\n",
      "  Getting requirements to build wheel: started\n",
      "  Getting requirements to build wheel: finished with status 'done'\n",
      "    Preparing wheel metadata: started\n",
      "    Preparing wheel metadata: finished with status 'done'\n",
      "Requirement already satisfied: numpy>=1.18.5 in c:\\users\\mssur\\anaconda3\\lib\\site-packages (from summarytools) (1.21.5)\n",
      "Requirement already satisfied: ipython>=7.20.0 in c:\\users\\mssur\\anaconda3\\lib\\site-packages (from summarytools) (8.2.0)\n",
      "Requirement already satisfied: matplotlib>=3.3.0 in c:\\users\\mssur\\anaconda3\\lib\\site-packages (from summarytools) (3.5.1)\n",
      "Requirement already satisfied: pandas>=1.4.0 in c:\\users\\mssur\\anaconda3\\lib\\site-packages (from summarytools) (1.4.2)\n",
      "Requirement already satisfied: matplotlib-inline in c:\\users\\mssur\\anaconda3\\lib\\site-packages (from ipython>=7.20.0->summarytools) (0.1.2)\n",
      "Requirement already satisfied: decorator in c:\\users\\mssur\\anaconda3\\lib\\site-packages (from ipython>=7.20.0->summarytools) (5.1.1)\n",
      "Requirement already satisfied: setuptools>=18.5 in c:\\users\\mssur\\anaconda3\\lib\\site-packages (from ipython>=7.20.0->summarytools) (61.2.0)\n",
      "Requirement already satisfied: pygments>=2.4.0 in c:\\users\\mssur\\anaconda3\\lib\\site-packages (from ipython>=7.20.0->summarytools) (2.11.2)\n",
      "Requirement already satisfied: stack-data in c:\\users\\mssur\\anaconda3\\lib\\site-packages (from ipython>=7.20.0->summarytools) (0.2.0)\n",
      "Requirement already satisfied: jedi>=0.16 in c:\\users\\mssur\\anaconda3\\lib\\site-packages (from ipython>=7.20.0->summarytools) (0.18.1)\n",
      "Requirement already satisfied: colorama in c:\\users\\mssur\\anaconda3\\lib\\site-packages (from ipython>=7.20.0->summarytools) (0.4.4)\n",
      "Requirement already satisfied: backcall in c:\\users\\mssur\\anaconda3\\lib\\site-packages (from ipython>=7.20.0->summarytools) (0.2.0)\n",
      "Requirement already satisfied: prompt-toolkit!=3.0.0,!=3.0.1,<3.1.0,>=2.0.0 in c:\\users\\mssur\\anaconda3\\lib\\site-packages (from ipython>=7.20.0->summarytools) (3.0.20)\n",
      "Requirement already satisfied: traitlets>=5 in c:\\users\\mssur\\anaconda3\\lib\\site-packages (from ipython>=7.20.0->summarytools) (5.1.1)\n",
      "Requirement already satisfied: pickleshare in c:\\users\\mssur\\anaconda3\\lib\\site-packages (from ipython>=7.20.0->summarytools) (0.7.5)\n",
      "Requirement already satisfied: parso<0.9.0,>=0.8.0 in c:\\users\\mssur\\anaconda3\\lib\\site-packages (from jedi>=0.16->ipython>=7.20.0->summarytools) (0.8.3)\n",
      "Requirement already satisfied: pillow>=6.2.0 in c:\\users\\mssur\\anaconda3\\lib\\site-packages (from matplotlib>=3.3.0->summarytools) (9.0.1)\n",
      "Requirement already satisfied: pyparsing>=2.2.1 in c:\\users\\mssur\\anaconda3\\lib\\site-packages (from matplotlib>=3.3.0->summarytools) (3.0.4)\n",
      "Requirement already satisfied: cycler>=0.10 in c:\\users\\mssur\\anaconda3\\lib\\site-packages (from matplotlib>=3.3.0->summarytools) (0.11.0)\n",
      "Requirement already satisfied: kiwisolver>=1.0.1 in c:\\users\\mssur\\anaconda3\\lib\\site-packages (from matplotlib>=3.3.0->summarytools) (1.3.2)\n",
      "Requirement already satisfied: python-dateutil>=2.7 in c:\\users\\mssur\\anaconda3\\lib\\site-packages (from matplotlib>=3.3.0->summarytools) (2.8.2)\n",
      "Requirement already satisfied: fonttools>=4.22.0 in c:\\users\\mssur\\anaconda3\\lib\\site-packages (from matplotlib>=3.3.0->summarytools) (4.25.0)\n",
      "Requirement already satisfied: packaging>=20.0 in c:\\users\\mssur\\anaconda3\\lib\\site-packages (from matplotlib>=3.3.0->summarytools) (21.3)\n",
      "Requirement already satisfied: pytz>=2020.1 in c:\\users\\mssur\\anaconda3\\lib\\site-packages (from pandas>=1.4.0->summarytools) (2021.3)\n",
      "Requirement already satisfied: wcwidth in c:\\users\\mssur\\anaconda3\\lib\\site-packages (from prompt-toolkit!=3.0.0,!=3.0.1,<3.1.0,>=2.0.0->ipython>=7.20.0->summarytools) (0.2.5)\n",
      "Requirement already satisfied: six>=1.5 in c:\\users\\mssur\\anaconda3\\lib\\site-packages (from python-dateutil>=2.7->matplotlib>=3.3.0->summarytools) (1.16.0)\n",
      "Requirement already satisfied: executing in c:\\users\\mssur\\anaconda3\\lib\\site-packages (from stack-data->ipython>=7.20.0->summarytools) (0.8.3)\n",
      "Requirement already satisfied: asttokens in c:\\users\\mssur\\anaconda3\\lib\\site-packages (from stack-data->ipython>=7.20.0->summarytools) (2.0.5)\n",
      "Requirement already satisfied: pure-eval in c:\\users\\mssur\\anaconda3\\lib\\site-packages (from stack-data->ipython>=7.20.0->summarytools) (0.2.2)\n",
      "Building wheels for collected packages: summarytools\n",
      "  Building wheel for summarytools (PEP 517): started\n",
      "  Building wheel for summarytools (PEP 517): finished with status 'done'\n",
      "  Created wheel for summarytools: filename=summarytools-0.2.3-py3-none-any.whl size=8596 sha256=11e6ba2621a6b9f68f1ccad10f0fe1d4d98564e0259d9ac90c1e1bb65f2de43b\n",
      "  Stored in directory: c:\\users\\mssur\\appdata\\local\\pip\\cache\\wheels\\ba\\b9\\0e\\dca846354555f16ac3dd84d4b305072a30f33d6d4243c38bfa\n",
      "Successfully built summarytools\n",
      "Installing collected packages: summarytools\n",
      "Successfully installed summarytools-0.2.3\n"
     ]
    }
   ],
   "source": [
    "!pip install summarytools"
   ]
  },
  {
   "cell_type": "code",
   "execution_count": 8,
   "metadata": {},
   "outputs": [
    {
     "data": {
      "text/html": [
       "<style type=\"text/css\">\n",
       "#T_5d362 thead>tr>th {\n",
       "  text-align: left;\n",
       "}\n",
       "#T_5d362_row0_col0, #T_5d362_row1_col0, #T_5d362_row2_col0, #T_5d362_row3_col0, #T_5d362_row4_col0, #T_5d362_row5_col0, #T_5d362_row6_col0, #T_5d362_row7_col0, #T_5d362_row8_col0, #T_5d362_row9_col0, #T_5d362_row10_col0, #T_5d362_row11_col0, #T_5d362_row12_col0, #T_5d362_row13_col0, #T_5d362_row14_col0, #T_5d362_row15_col0, #T_5d362_row16_col0, #T_5d362_row17_col0, #T_5d362_row18_col0, #T_5d362_row19_col0, #T_5d362_row20_col0, #T_5d362_row21_col0, #T_5d362_row22_col0 {\n",
       "  text-align: left;\n",
       "  font-size: 12px;\n",
       "  vertical-align: middle;\n",
       "  width: 5%;\n",
       "  max-width: 50px;\n",
       "  min-width: 20px;\n",
       "}\n",
       "#T_5d362_row0_col1, #T_5d362_row1_col1, #T_5d362_row2_col1, #T_5d362_row3_col1, #T_5d362_row4_col1, #T_5d362_row5_col1, #T_5d362_row6_col1, #T_5d362_row7_col1, #T_5d362_row8_col1, #T_5d362_row9_col1, #T_5d362_row10_col1, #T_5d362_row11_col1, #T_5d362_row12_col1, #T_5d362_row13_col1, #T_5d362_row14_col1, #T_5d362_row15_col1, #T_5d362_row16_col1, #T_5d362_row17_col1, #T_5d362_row18_col1, #T_5d362_row19_col1, #T_5d362_row20_col1, #T_5d362_row21_col1, #T_5d362_row22_col1 {\n",
       "  text-align: left;\n",
       "  font-size: 12px;\n",
       "  vertical-align: middle;\n",
       "  width: 15%;\n",
       "  max-width: 200px;\n",
       "  min-width: 100px;\n",
       "  word-break: break-word;\n",
       "}\n",
       "#T_5d362_row0_col2, #T_5d362_row1_col2, #T_5d362_row2_col2, #T_5d362_row3_col2, #T_5d362_row4_col2, #T_5d362_row5_col2, #T_5d362_row6_col2, #T_5d362_row7_col2, #T_5d362_row8_col2, #T_5d362_row9_col2, #T_5d362_row10_col2, #T_5d362_row11_col2, #T_5d362_row12_col2, #T_5d362_row13_col2, #T_5d362_row14_col2, #T_5d362_row15_col2, #T_5d362_row16_col2, #T_5d362_row17_col2, #T_5d362_row18_col2, #T_5d362_row19_col2, #T_5d362_row20_col2, #T_5d362_row21_col2, #T_5d362_row22_col2 {\n",
       "  text-align: left;\n",
       "  font-size: 12px;\n",
       "  vertical-align: middle;\n",
       "  width: 30%;\n",
       "  min-width: 100px;\n",
       "}\n",
       "#T_5d362_row0_col3, #T_5d362_row1_col3, #T_5d362_row2_col3, #T_5d362_row3_col3, #T_5d362_row4_col3, #T_5d362_row5_col3, #T_5d362_row6_col3, #T_5d362_row7_col3, #T_5d362_row8_col3, #T_5d362_row9_col3, #T_5d362_row10_col3, #T_5d362_row11_col3, #T_5d362_row12_col3, #T_5d362_row13_col3, #T_5d362_row14_col3, #T_5d362_row15_col3, #T_5d362_row16_col3, #T_5d362_row17_col3, #T_5d362_row18_col3, #T_5d362_row19_col3, #T_5d362_row20_col3, #T_5d362_row21_col3, #T_5d362_row22_col3 {\n",
       "  text-align: left;\n",
       "  font-size: 12px;\n",
       "  vertical-align: middle;\n",
       "  width: 25%;\n",
       "  min-width: 100px;\n",
       "}\n",
       "#T_5d362_row0_col4, #T_5d362_row1_col4, #T_5d362_row2_col4, #T_5d362_row3_col4, #T_5d362_row4_col4, #T_5d362_row5_col4, #T_5d362_row6_col4, #T_5d362_row7_col4, #T_5d362_row8_col4, #T_5d362_row9_col4, #T_5d362_row10_col4, #T_5d362_row11_col4, #T_5d362_row12_col4, #T_5d362_row13_col4, #T_5d362_row14_col4, #T_5d362_row15_col4, #T_5d362_row16_col4, #T_5d362_row17_col4, #T_5d362_row18_col4, #T_5d362_row19_col4, #T_5d362_row20_col4, #T_5d362_row21_col4, #T_5d362_row22_col4 {\n",
       "  text-align: left;\n",
       "  font-size: 12px;\n",
       "  vertical-align: middle;\n",
       "  width: 20%;\n",
       "  min-width: 150px;\n",
       "}\n",
       "#T_5d362_row0_col5, #T_5d362_row1_col5, #T_5d362_row2_col5, #T_5d362_row3_col5, #T_5d362_row4_col5, #T_5d362_row5_col5, #T_5d362_row6_col5, #T_5d362_row7_col5, #T_5d362_row8_col5, #T_5d362_row9_col5, #T_5d362_row10_col5, #T_5d362_row11_col5, #T_5d362_row12_col5, #T_5d362_row13_col5, #T_5d362_row14_col5, #T_5d362_row15_col5, #T_5d362_row16_col5, #T_5d362_row17_col5, #T_5d362_row18_col5, #T_5d362_row19_col5, #T_5d362_row20_col5, #T_5d362_row21_col5, #T_5d362_row22_col5 {\n",
       "  text-align: left;\n",
       "  font-size: 12px;\n",
       "  vertical-align: middle;\n",
       "  width: 10%;\n",
       "}\n",
       "</style>\n",
       "<table id=\"T_5d362\">\n",
       "  <caption><strong>Data Frame Summary</strong><br>airbnb<br>Dimensions: 3,555 x 23<br>Duplicates: 0</caption>\n",
       "  <thead>\n",
       "    <tr>\n",
       "      <th id=\"T_5d362_level0_col0\" class=\"col_heading level0 col0\" >No</th>\n",
       "      <th id=\"T_5d362_level0_col1\" class=\"col_heading level0 col1\" >Variable</th>\n",
       "      <th id=\"T_5d362_level0_col2\" class=\"col_heading level0 col2\" >Stats / Values</th>\n",
       "      <th id=\"T_5d362_level0_col3\" class=\"col_heading level0 col3\" >Freqs / (% of Valid)</th>\n",
       "      <th id=\"T_5d362_level0_col4\" class=\"col_heading level0 col4\" >Graph</th>\n",
       "      <th id=\"T_5d362_level0_col5\" class=\"col_heading level0 col5\" >Missing</th>\n",
       "    </tr>\n",
       "  </thead>\n",
       "  <tbody>\n",
       "    <tr>\n",
       "      <td id=\"T_5d362_row0_col0\" class=\"data row0 col0\" >1</td>\n",
       "      <td id=\"T_5d362_row0_col1\" class=\"data row0 col1\" ><strong>host_is_superhost</strong><br>[int64]</td>\n",
       "      <td id=\"T_5d362_row0_col2\" class=\"data row0 col2\" >Mean (sd) : 0.1 (0.3)<br>min < med < max:<br>0.0 < 0.0 < 1.0<br>IQR (CV) : 0.0 (0.4)</td>\n",
       "      <td id=\"T_5d362_row0_col3\" class=\"data row0 col3\" >2 distinct values</td>\n",
       "      <td id=\"T_5d362_row0_col4\" class=\"data row0 col4\" ><img src = \"data:image/png;base64, iVBORw0KGgoAAAANSUhEUgAAAHoAAAAyCAYAAACTUs/lAAAAOXRFWHRTb2Z0d2FyZQBNYXRwbG90bGliIHZlcnNpb24zLjUuMSwgaHR0cHM6Ly9tYXRwbG90bGliLm9yZy/YYfK9AAAACXBIWXMAAAsTAAALEwEAmpwYAAAA1klEQVR4nO3cuwkDMRAAUZ9xuLEucFWuQLWpAlflwIqVyxUIDk7n38xLBWJhYMNdeu8n/b/zpwfQe1xGDymlW0SsWz5prT1rrfd5Y2m2YeiIWHPOjy2flFKu80bSEVzdEIaGMDSEoSEMDWFoCENDGBrC0BCGhjA0hKEhDA1haAhDQxgawtAQhoYwNIShIQwNYWgIQ0MYGsLQEIaGMDSEoSEMDWFoCENDGBrC0BCGhjA0hKEhDA1haAhDQxgaYnhQTt9l7yVHQ/+IvZccXd0QhoYwNIShIV7AyBvfAtHoMwAAAABJRU5ErkJggg==\"></img></td>\n",
       "      <td id=\"T_5d362_row0_col5\" class=\"data row0 col5\" >0<br>(0.0%)</td>\n",
       "    </tr>\n",
       "    <tr>\n",
       "      <td id=\"T_5d362_row1_col0\" class=\"data row1 col0\" >2</td>\n",
       "      <td id=\"T_5d362_row1_col1\" class=\"data row1 col1\" ><strong>host_identity_verified</strong><br>[int64]</td>\n",
       "      <td id=\"T_5d362_row1_col2\" class=\"data row1 col2\" >Mean (sd) : 0.7 (0.4)<br>min < med < max:<br>0.0 < 1.0 < 1.0<br>IQR (CV) : 1.0 (1.6)</td>\n",
       "      <td id=\"T_5d362_row1_col3\" class=\"data row1 col3\" >2 distinct values</td>\n",
       "      <td id=\"T_5d362_row1_col4\" class=\"data row1 col4\" ><img src = \"data:image/png;base64, iVBORw0KGgoAAAANSUhEUgAAAHoAAAAyCAYAAACTUs/lAAAAOXRFWHRTb2Z0d2FyZQBNYXRwbG90bGliIHZlcnNpb24zLjUuMSwgaHR0cHM6Ly9tYXRwbG90bGliLm9yZy/YYfK9AAAACXBIWXMAAAsTAAALEwEAmpwYAAAA10lEQVR4nO3bsQnDMBBA0SS4vFouPJUn0GyaIFOliGr1ShsCBoEhdvL/K8UVgg/X3bX3ftH/ux39AX3HdPQHNCaltEbEPDLbWnvWWu/vb4b+EREx55wfI7OllOXzzdUNYWgIQ0MYGsLQEIaGMDSEoSEMDWFoCENDGBrC0BCGhjA0hKEhDA1haAhDQxgawtAQhoYwNIShIQwNYWgIQ0MYGmLzyG7v9Z7OZTP03us9nYurG8LQEIaGMDSEoSEMDWFoCENDGBrC0BCGhjA0hKEhDA1haAhDQ7wAhVMb3/9AvTYAAAAASUVORK5CYII=\"></img></td>\n",
       "      <td id=\"T_5d362_row1_col5\" class=\"data row1 col5\" >0<br>(0.0%)</td>\n",
       "    </tr>\n",
       "    <tr>\n",
       "      <td id=\"T_5d362_row2_col0\" class=\"data row2 col0\" >3</td>\n",
       "      <td id=\"T_5d362_row2_col1\" class=\"data row2 col1\" ><strong>neighbourhood_cleansed</strong><br>[object]</td>\n",
       "      <td id=\"T_5d362_row2_col2\" class=\"data row2 col2\" >1. Jamaica Plain<br>2. South End<br>3. Back Bay<br>4. Fenway<br>5. Dorchester<br>6. Allston<br>7. Beacon Hill<br>8. Brighton<br>9. Downtown<br>10. South Boston<br>11. other</td>\n",
       "      <td id=\"T_5d362_row2_col3\" class=\"data row2 col3\" >341 (9.6%)<br>323 (9.1%)<br>298 (8.4%)<br>285 (8.0%)<br>269 (7.6%)<br>260 (7.3%)<br>188 (5.3%)<br>184 (5.2%)<br>172 (4.8%)<br>171 (4.8%)<br>1,064 (29.9%)</td>\n",
       "      <td id=\"T_5d362_row2_col4\" class=\"data row2 col4\" ><img src = \"data:image/png;base64, iVBORw0KGgoAAAANSUhEUgAAAG8AAACzCAYAAACHOUI0AAAAOXRFWHRTb2Z0d2FyZQBNYXRwbG90bGliIHZlcnNpb24zLjUuMSwgaHR0cHM6Ly9tYXRwbG90bGliLm9yZy/YYfK9AAAACXBIWXMAAAsTAAALEwEAmpwYAAACP0lEQVR4nO3dMWoCURhG0UxIOa1YZFVZgWtzBVlVilhPbzagzEPQvAvn1BbCha94vyTL9Xp9o+n9v78AjxMvTLww8cLECxMvTLyw5XA4fK3rehz58LZtv5fL5fvZX4oxH+u6Hk+n08/Ih8/n8+ezvxDjzGaYeGHihYkXJl6YeGHihYkXJl6YeGHeNsMWP0DqMpthw7NpMuczfBJyDpqP2QwTL0y8MPHCxAsTL0y8MPHCxAsTL8zbZpiTUJjZDBuaTZM5p6GTkHPQnMxmmHhh4oWJFyZemHhh4oWJFyZemHhh3jbDnITCzGaY2QxzEgozm2HihYkXJl6YeGHihYkXJl6YeGHihXnbDHMSCjObYbuzaTLntXsScg6al9kMEy9MvDDxwsQLEy9MvDDxwsQLEy/M22aYk1CY2Qwzm2FOQmFmM0y8MPHCxAsTL0y8MPHCxAsTL0y8MG+bYU5CYWYz7O5smsv53T0JOQXNz2yGiRcmXph4YeKFiRcmXph4YeKFiRfmbTPMSSjMbIaZzTAnoTCzGSZemHhh4oWJFyZemHhh4oWJFyZemHhhHqbD3PPCzGbYzdk0mQ0373lueQ1mM0y8MPHCxAsTL0y8MPHCxAsTL0y8MG+bYU5CYWYzzGyGOQmFmc0w8cLECxMvTLww8cLECxMvTLww8cK8bYY5CYWZzbDd/5/3Cmb6MXf/6t8rOUE9xmyGiRcmXph4YeKFiRcmXph4YeKFiRfmbTPMSSjMbIaJFyZemHhh4oWJF/YHiXQDjYc2LrkAAAAASUVORK5CYII=\"></img></td>\n",
       "      <td id=\"T_5d362_row2_col5\" class=\"data row2 col5\" >0<br>(0.0%)</td>\n",
       "    </tr>\n",
       "    <tr>\n",
       "      <td id=\"T_5d362_row3_col0\" class=\"data row3 col0\" >4</td>\n",
       "      <td id=\"T_5d362_row3_col1\" class=\"data row3 col1\" ><strong>latitude</strong><br>[float64]</td>\n",
       "      <td id=\"T_5d362_row3_col2\" class=\"data row3 col2\" >Mean (sd) : 42.3 (0.0)<br>min < med < max:<br>42.2 < 42.3 < 42.4<br>IQR (CV) : 0.0 (1730.7)</td>\n",
       "      <td id=\"T_5d362_row3_col3\" class=\"data row3 col3\" >3,554 distinct values</td>\n",
       "      <td id=\"T_5d362_row3_col4\" class=\"data row3 col4\" ><img src = \"data:image/png;base64, iVBORw0KGgoAAAANSUhEUgAAAHoAAAAyCAYAAACTUs/lAAAAOXRFWHRTb2Z0d2FyZQBNYXRwbG90bGliIHZlcnNpb24zLjUuMSwgaHR0cHM6Ly9tYXRwbG90bGliLm9yZy/YYfK9AAAACXBIWXMAAAsTAAALEwEAmpwYAAABOElEQVR4nO3bsW2EMBhAYRKdROO0XJGOBZIFMkQmoM1aniBTXRFqGiQkUkWX7vBxYOT3vprC0hM/IJuneZ4rle859wK0j1PuBZSkaZrPEMJ56fXDMPz0ff+95Zr+GPqBQgjnrusuS6+PMb5uuZ7/HN0QhoYwNIShIQwNYWgIQ0MYGsLQEIaGMDSEoSEMDWFoCENDGBrC0BCGhjA0hGfGbkg58DdN01tVVYvPjO3J0DekHPiLMX5svZ57ObohDA1haAhDQxgawtAQfl5lNI7je9u2X0uuXftDnqEzquv6JeEbfdUPeY5uCENDGBrC0BDIl7FSdqRSIEOXsiOVwtENYWiIYkY38bmbopjQxOduCkc3xKHvaMfx1doNkEOHdhxfrd0AcXRD7H5HO47z2D204ziPh4T2Lj2+X2cgYQmqJZVJAAAAAElFTkSuQmCC\"></img></td>\n",
       "      <td id=\"T_5d362_row3_col5\" class=\"data row3 col5\" >0<br>(0.0%)</td>\n",
       "    </tr>\n",
       "    <tr>\n",
       "      <td id=\"T_5d362_row4_col0\" class=\"data row4 col0\" >5</td>\n",
       "      <td id=\"T_5d362_row4_col1\" class=\"data row4 col1\" ><strong>longitude</strong><br>[float64]</td>\n",
       "      <td id=\"T_5d362_row4_col2\" class=\"data row4 col2\" >Mean (sd) : -71.1 (0.0)<br>min < med < max:<br>-71.2 < -71.1 < -71.0<br>IQR (CV) : 0.0 (-2248.5)</td>\n",
       "      <td id=\"T_5d362_row4_col3\" class=\"data row4 col3\" >3,554 distinct values</td>\n",
       "      <td id=\"T_5d362_row4_col4\" class=\"data row4 col4\" ><img src = \"data:image/png;base64, iVBORw0KGgoAAAANSUhEUgAAAHoAAAAyCAYAAACTUs/lAAAAOXRFWHRTb2Z0d2FyZQBNYXRwbG90bGliIHZlcnNpb24zLjUuMSwgaHR0cHM6Ly9tYXRwbG90bGliLm9yZy/YYfK9AAAACXBIWXMAAAsTAAALEwEAmpwYAAABRElEQVR4nO3bsW2EMBhAYSeKROO0XJGOBZIFMkQmoM1aTJCpUoSaBgmJlKlOwQf4LL/31RRGT1i/LPOwrmtQ/R7vvQDl8XTvBZSubduPGONly7PTNP2M4/h19ppuYeh/xBgvfd9/b3l2GIaXs9dzK2TolK90WZbXEMKm0CVDhk78St/PXk8ODmMQhoYwNIShIQwNYWgIQ0MYGsLQEIaGMDSEoSEMDWFoCENDGBqimosHxFsjKaoJTbw1ksKtG8LQEIaGMDRE0cOYk/Rxig7tJH0ct24IQ0MYGsLQENmHsZon6Xme37qu+9z6fM7/qbOHrnmSbprmeeu7hZD3f2q3bghDQxgawtAQhwxjNU/StTgkdM2TdC3cuiEMDWFoCENDXB3GnKTPl3I2vvdc/GpoJ+nzpZyN7z0Xd+uGKPrOmP7s3eZ/AcRzcIHZw0PqAAAAAElFTkSuQmCC\"></img></td>\n",
       "      <td id=\"T_5d362_row4_col5\" class=\"data row4 col5\" >0<br>(0.0%)</td>\n",
       "    </tr>\n",
       "    <tr>\n",
       "      <td id=\"T_5d362_row5_col0\" class=\"data row5 col0\" >6</td>\n",
       "      <td id=\"T_5d362_row5_col1\" class=\"data row5 col1\" ><strong>property_type</strong><br>[object]</td>\n",
       "      <td id=\"T_5d362_row5_col2\" class=\"data row5 col2\" >1. Apartment<br>2. House<br>3. Condominium<br>4. Townhouse<br>5. Bed & Breakfast<br>6. Loft<br>7. Other<br>8. Boat<br>9. Villa<br>10. Entire Floor<br>11. other</td>\n",
       "      <td id=\"T_5d362_row5_col3\" class=\"data row5 col3\" >2,593 (72.9%)<br>555 (15.6%)<br>228 (6.4%)<br>53 (1.5%)<br>41 (1.2%)<br>39 (1.1%)<br>17 (0.5%)<br>12 (0.3%)<br>6 (0.2%)<br>4 (0.1%)<br>7 (0.2%)</td>\n",
       "      <td id=\"T_5d362_row5_col4\" class=\"data row5 col4\" ><img src = \"data:image/png;base64, iVBORw0KGgoAAAANSUhEUgAAAG8AAACzCAYAAACHOUI0AAAAOXRFWHRTb2Z0d2FyZQBNYXRwbG90bGliIHZlcnNpb24zLjUuMSwgaHR0cHM6Ly9tYXRwbG90bGliLm9yZy/YYfK9AAAACXBIWXMAAAsTAAALEwEAmpwYAAACUUlEQVR4nO3bsW3bUBhG0UdCJVvCRfpkHk+g2TRB9kmfwqrZK1VSuiAEP9/4nAX0gAv8BT97eTweg6Z19gM4T7ww8cLECxMvTLww8cKWfd9ft217mf2QsuM43u73+8+P/t3Ltm0v1+v190f/8P/kdrt9m/G7zmaYeGHihYkXJl6YeGHihYkXJl6YeGG+bT7BrG+biz9A6nI2w55yNmedja/uKZPQrEnkq3M2w8QLEy9MvDDxwsQLEy9MvDDxwsQL820zzCQU5myGvXs2ncPP7d1JyNTzuTmbYeKFiRcmXph4YeKFiRcmXph4YeKF+bYZZhIKczbD/p1NJ7Jn/TsJ+e/YHmczTLww8cLECxMvTLww8cLECxMvTLww3zbDTEJhzmbYsu/76xhjOJk9F1NQl7MZJl6YeGHihYkXJl6YeGHihYkXJl7Y5TiOt9mP4ByTUJizGWYSCjMJhTmbYeKFiRcmXph4YeKFiRcmXph4YeKFmYTCTEJhzmaYSSjMJBTmbIaJFyZemHhh4oWJFyZemHhh4oWJF2YSCjMJhTmbYeuyLD9mP4Jz1jHG99mP4BxnM0y8MPHCxAsTL0y8MPHCxAsTL0y8MPHC1jHGr9mP4Bx7XpizGWbPC7PnhTmbYeKFiRcmXph4YeKFiRcmXph4YeKFmYTCTEJhzmaYSSjMJBTmbIaJFyZemHhh4oWJFyZemHhh4oWJF2YSCjMJhTmbYSahMJNQmLMZJl6YeGHihYkXJl6YeGHihYkXJl6YSSjMJBTmbIaJFyZemHhh4oWJF/YHmVCQ7v7HNuMAAAAASUVORK5CYII=\"></img></td>\n",
       "      <td id=\"T_5d362_row5_col5\" class=\"data row5 col5\" >3<br>(0.1%)</td>\n",
       "    </tr>\n",
       "    <tr>\n",
       "      <td id=\"T_5d362_row6_col0\" class=\"data row6 col0\" >7</td>\n",
       "      <td id=\"T_5d362_row6_col1\" class=\"data row6 col1\" ><strong>room_type</strong><br>[object]</td>\n",
       "      <td id=\"T_5d362_row6_col2\" class=\"data row6 col2\" >1. Entire home/apt<br>2. Private room<br>3. Shared room</td>\n",
       "      <td id=\"T_5d362_row6_col3\" class=\"data row6 col3\" >2,103 (59.2%)<br>1,373 (38.6%)<br>79 (2.2%)</td>\n",
       "      <td id=\"T_5d362_row6_col4\" class=\"data row6 col4\" ><img src = \"data:image/png;base64, iVBORw0KGgoAAAANSUhEUgAAAG8AAAAwCAYAAAAfHSRCAAAAOXRFWHRTb2Z0d2FyZQBNYXRwbG90bGliIHZlcnNpb24zLjUuMSwgaHR0cHM6Ly9tYXRwbG90bGliLm9yZy/YYfK9AAAACXBIWXMAAAsTAAALEwEAmpwYAAAA30lEQVR4nO3ZvQnDMBBA4cikvFa48FSZQLNpgkyVIq7VK01+agfM8eB9Exw8OIGuzDkvYiq11ltErNmDZBtjPPd9v2fPccQ1ItbW2iN7kGy99y17hqOW7AH0P+OBGQ/MeGDGAzMemPHAjAdmPDDjgRkPzI/pN+LHdPEkxOXaBEOtTeJqOxPqnke8uZ3JtQlmPDDjgRkPzHhgxgMzHpjxwIwHZjww44H5MQ3mPQ/MtQn2XZuuJJ7lc8+jvHv6cW2CGQ/MeGDGAzMemPHAjAdmPDDjgRkPzHhgfkyDec8DewFawUcrlImU3wAAAABJRU5ErkJggg==\"></img></td>\n",
       "      <td id=\"T_5d362_row6_col5\" class=\"data row6 col5\" >0<br>(0.0%)</td>\n",
       "    </tr>\n",
       "    <tr>\n",
       "      <td id=\"T_5d362_row7_col0\" class=\"data row7 col0\" >8</td>\n",
       "      <td id=\"T_5d362_row7_col1\" class=\"data row7 col1\" ><strong>accommodates</strong><br>[int64]</td>\n",
       "      <td id=\"T_5d362_row7_col2\" class=\"data row7 col2\" >Mean (sd) : 3.0 (1.8)<br>min < med < max:<br>1.0 < 2.0 < 16.0<br>IQR (CV) : 2.0 (1.7)</td>\n",
       "      <td id=\"T_5d362_row7_col3\" class=\"data row7 col3\" >14 distinct values</td>\n",
       "      <td id=\"T_5d362_row7_col4\" class=\"data row7 col4\" ><img src = \"data:image/png;base64, iVBORw0KGgoAAAANSUhEUgAAAHoAAAAyCAYAAACTUs/lAAAAOXRFWHRTb2Z0d2FyZQBNYXRwbG90bGliIHZlcnNpb24zLjUuMSwgaHR0cHM6Ly9tYXRwbG90bGliLm9yZy/YYfK9AAAACXBIWXMAAAsTAAALEwEAmpwYAAABHklEQVR4nO3bsQ2CQBhAYTQmNGeLhR0L6AIO4QS0rsUETmUhNQ0JCU4A4ZIDDO99rQYveeEPOY/DMAyZ9u+49QK0jtPYB0VRPEMIlzkXadv22zTNO92ylNpo6BDCpaqqz5yL1HV9TbckLcHRDWFoCENDGBrC0BCGhjA0hKEhDA1haAhDQxgawtAQhoYwNIShIQwNYWgIQ0MYGsLQEIaGMDSEoSFGD/AvxTdAtrF6aN8A2YajG8LQEIaGMDSEoSEMDWFoCENDGBoiyc5Y13X3sixfc77b9/0ty7JZO2NKJ0noPM/PEduajxS/qTiObghDQxgawtAQq/8fHSPmad5DCtP+OnTk07yHFCY4uiH++o6O4ZiftpvQS435vRxm/AGDZk6ai8jc7QAAAABJRU5ErkJggg==\"></img></td>\n",
       "      <td id=\"T_5d362_row7_col5\" class=\"data row7 col5\" >0<br>(0.0%)</td>\n",
       "    </tr>\n",
       "    <tr>\n",
       "      <td id=\"T_5d362_row8_col0\" class=\"data row8 col0\" >9</td>\n",
       "      <td id=\"T_5d362_row8_col1\" class=\"data row8 col1\" ><strong>bathrooms</strong><br>[float64]</td>\n",
       "      <td id=\"T_5d362_row8_col2\" class=\"data row8 col2\" >Mean (sd) : 1.2 (0.5)<br>min < med < max:<br>0.0 < 1.0 < 6.0<br>IQR (CV) : 0.0 (2.5)</td>\n",
       "      <td id=\"T_5d362_row8_col3\" class=\"data row8 col3\" >11 distinct values</td>\n",
       "      <td id=\"T_5d362_row8_col4\" class=\"data row8 col4\" ><img src = \"data:image/png;base64, iVBORw0KGgoAAAANSUhEUgAAAHoAAAAyCAYAAACTUs/lAAAAOXRFWHRTb2Z0d2FyZQBNYXRwbG90bGliIHZlcnNpb24zLjUuMSwgaHR0cHM6Ly9tYXRwbG90bGliLm9yZy/YYfK9AAAACXBIWXMAAAsTAAALEwEAmpwYAAABFElEQVR4nO3cMYrCQBhA4ShCmt82FjaSC7gX2EN4grReKyfwSjYWpp4mEMjeYJnAGMX3vnrIBB78kzSzmee50vfbvvsFtI5diYc0TXOJiEPO2pTScxiGW4l9la9I6Ig4dF33yFnb9/2xxJ5axtENYWgIQ0MYGsLQEIaGMDSEoSEMDWFoCENDGBrC0BCGhjA0hKEhDA1haAhDQxgawtAQhoYwNIShIQwNYWgIQ0MYGsLQEIaGMDSEoSEMDWFoCENDGBrC0BCGhihy/dSreH9ZOR8d2vvLynF0QxgaYvXRPY7jT9u215y10zSdq6rKGt363+qh67reLzh3f1/9PhSOboiP/upeYsmRkFI6RcQ9c+1X/Lb9AZs1NzW+ZZIaAAAAAElFTkSuQmCC\"></img></td>\n",
       "      <td id=\"T_5d362_row8_col5\" class=\"data row8 col5\" >14<br>(0.4%)</td>\n",
       "    </tr>\n",
       "    <tr>\n",
       "      <td id=\"T_5d362_row9_col0\" class=\"data row9 col0\" >10</td>\n",
       "      <td id=\"T_5d362_row9_col1\" class=\"data row9 col1\" ><strong>bedrooms</strong><br>[float64]</td>\n",
       "      <td id=\"T_5d362_row9_col2\" class=\"data row9 col2\" >1. 1.0<br>2. 2.0<br>3. 0.0<br>4. 3.0<br>5. 4.0<br>6. 5.0<br>7. nan</td>\n",
       "      <td id=\"T_5d362_row9_col3\" class=\"data row9 col3\" >2,367 (66.6%)<br>688 (19.4%)<br>287 (8.1%)<br>149 (4.2%)<br>41 (1.2%)<br>13 (0.4%)<br>10 (0.3%)</td>\n",
       "      <td id=\"T_5d362_row9_col4\" class=\"data row9 col4\" ><img src = \"data:image/png;base64, iVBORw0KGgoAAAANSUhEUgAAAG8AAAByCAYAAABdjY8lAAAAOXRFWHRTb2Z0d2FyZQBNYXRwbG90bGliIHZlcnNpb24zLjUuMSwgaHR0cHM6Ly9tYXRwbG90bGliLm9yZy/YYfK9AAAACXBIWXMAAAsTAAALEwEAmpwYAAABsUlEQVR4nO3cMWrrUBRF0SfjUq1I8fuf8WQEHptHkPmkTxHX6p02hBRGEKQd1hrBgw2n0AVN9/t90HTa+wFsJ16YeGHihU3LsrzM8/y090OObl3Xj9vt9rr3O746z/P8dLlc3vd+yNFdr9d/e7/hO7MZJl6YeGHihYkXJl6YeGHihYkXJl6Yb5sPOuK3zcklvctshv3abB5xZv6aXzsJHfGE8teYzTDxwsQLEy9MvDDxwsQLEy9MvDDxwsQL82E6zD0vzGyGPTSbJvCYHrrnuc0dk9kMEy9MvDDxwsQLEy9MvDDxwsQLEy/Mt80wJ6Ewsxn242yayYYfT0JOQA1mM0y8MPHCxAsTL0y8MPHCxAsTL0y8MN82w5yEwsxm2LQsy8sYY5jJnrO/3HaZzTDxwsQLEy9MvDDxwsQLEy9MvDDxws7run7s/Qi2cRIKM5thp2manvd+BNucxhj/934E25jNMPHCxAsTL0y8MPHCxAsTL0y8MPHCxAs7jTHe9n4E27jnhZnNMPe8MPe8MLMZJl6YeGHihYkXJl6YeGHihYkXJl6Yk1CYk1CY2QwTL0y8sE+j3XPtn3Bh9QAAAABJRU5ErkJggg==\"></img></td>\n",
       "      <td id=\"T_5d362_row9_col5\" class=\"data row9 col5\" >10<br>(0.3%)</td>\n",
       "    </tr>\n",
       "    <tr>\n",
       "      <td id=\"T_5d362_row10_col0\" class=\"data row10 col0\" >11</td>\n",
       "      <td id=\"T_5d362_row10_col1\" class=\"data row10 col1\" ><strong>beds</strong><br>[float64]</td>\n",
       "      <td id=\"T_5d362_row10_col2\" class=\"data row10 col2\" >Mean (sd) : 1.6 (1.0)<br>min < med < max:<br>0.0 < 1.0 < 16.0<br>IQR (CV) : 1.0 (1.6)</td>\n",
       "      <td id=\"T_5d362_row10_col3\" class=\"data row10 col3\" >11 distinct values</td>\n",
       "      <td id=\"T_5d362_row10_col4\" class=\"data row10 col4\" ><img src = \"data:image/png;base64, iVBORw0KGgoAAAANSUhEUgAAAHoAAAAyCAYAAACTUs/lAAAAOXRFWHRTb2Z0d2FyZQBNYXRwbG90bGliIHZlcnNpb24zLjUuMSwgaHR0cHM6Ly9tYXRwbG90bGliLm9yZy/YYfK9AAAACXBIWXMAAAsTAAALEwEAmpwYAAAA/klEQVR4nO3cMQ6CMBhAYTUmLHWFwa0n8B5OnoCVM3XjBJ7KQWYWJjxBE0gqGN/7VkjzJy/p9KfHeZ4P+n+nvQfQNs65D3VdP0IIzZJDxnF8D8PwLDeWSsuGDiE0bdu+lhzS9/213Ej6Bq9uCENDGBrC0BCGhjA0hKEhDA1haAhDQxgawtAQhoYwNIShIQwNYWgIQ0MYGiK7M7bGNE23GGO35F8XCfdRJHRVVRcXCX+bVzeEoSEMDWFoCENDGBrC0BCGhjA0hKEhDA1haAhDQxgawtAQhoYwNIShIQwNYWgIQ0MYGsLQEEX2utdw2X8fm4des+yfUrrHGH1KuoAPRXY17IRX7pEAAAAASUVORK5CYII=\"></img></td>\n",
       "      <td id=\"T_5d362_row10_col5\" class=\"data row10 col5\" >9<br>(0.3%)</td>\n",
       "    </tr>\n",
       "    <tr>\n",
       "      <td id=\"T_5d362_row11_col0\" class=\"data row11 col0\" >12</td>\n",
       "      <td id=\"T_5d362_row11_col1\" class=\"data row11 col1\" ><strong>bed_type</strong><br>[object]</td>\n",
       "      <td id=\"T_5d362_row11_col2\" class=\"data row11 col2\" >1. Real Bed<br>2. Futon<br>3. Airbed<br>4. Pull-out Sofa<br>5. Couch</td>\n",
       "      <td id=\"T_5d362_row11_col3\" class=\"data row11 col3\" >3,423 (96.3%)<br>51 (1.4%)<br>40 (1.1%)<br>31 (0.9%)<br>10 (0.3%)</td>\n",
       "      <td id=\"T_5d362_row11_col4\" class=\"data row11 col4\" ><img src = \"data:image/png;base64, iVBORw0KGgoAAAANSUhEUgAAAG8AAABRCAYAAADctfi9AAAAOXRFWHRTb2Z0d2FyZQBNYXRwbG90bGliIHZlcnNpb24zLjUuMSwgaHR0cHM6Ly9tYXRwbG90bGliLm9yZy/YYfK9AAAACXBIWXMAAAsTAAALEwEAmpwYAAABSUlEQVR4nO3ZIQ4CMRBA0WmzsrZB4OE8nGDPtifgPnjErq5fFIRgIDXlJ/+5dZP8MCSdtO97iCmPHkD9jAeWaq2XUsph9CD6rrW2btt2fX5PpZTDPM/3kUPpN8uyHN+/XZtgxgMzHpjxwIwHZjww44EZD8x4YMYDMx6YD9Mgnw/TyWMsl2sT7LU2P3+S+n/5ec/zf4/HtQlmPDDjgRkPzHhgxgMzHpjxwIwHZjww3zbBPAmBuTbBUq31EhHhyuSZPAVxuTbBjAdmPDDjgRkPzHhgxgMzHpjxwIwHNrXW1tFDqI8nITDXJpgnITBPQmCuTTDjgRkPzHhgxgMzHpjxwIwHZjww44EZD8x7Hpj3PDDXJlhOKZ1HD6E+OSJOo4dQH9cmmPHAjAdmPDDjgRkPzHhgxgMzHpjxwHJE3EYPoT6ehMBcm2DGA3sAC7NKWqp0agIAAAAASUVORK5CYII=\"></img></td>\n",
       "      <td id=\"T_5d362_row11_col5\" class=\"data row11 col5\" >0<br>(0.0%)</td>\n",
       "    </tr>\n",
       "    <tr>\n",
       "      <td id=\"T_5d362_row12_col0\" class=\"data row12 col0\" >13</td>\n",
       "      <td id=\"T_5d362_row12_col1\" class=\"data row12 col1\" ><strong>Number of amenities</strong><br>[int64]</td>\n",
       "      <td id=\"T_5d362_row12_col2\" class=\"data row12 col2\" >Mean (sd) : 14.9 (4.8)<br>min < med < max:<br>0.0 < 15.0 < 30.0<br>IQR (CV) : 6.0 (3.1)</td>\n",
       "      <td id=\"T_5d362_row12_col3\" class=\"data row12 col3\" >31 distinct values</td>\n",
       "      <td id=\"T_5d362_row12_col4\" class=\"data row12 col4\" ><img src = \"data:image/png;base64, iVBORw0KGgoAAAANSUhEUgAAAHoAAAAyCAYAAACTUs/lAAAAOXRFWHRTb2Z0d2FyZQBNYXRwbG90bGliIHZlcnNpb24zLjUuMSwgaHR0cHM6Ly9tYXRwbG90bGliLm9yZy/YYfK9AAAACXBIWXMAAAsTAAALEwEAmpwYAAABUklEQVR4nO3cP2rDMBiHYTUUvHxZ7aFL8QWSC+QQPYHWXssn6Cl6jy4d6tmLweCcIEQC60/1e59Zg+AFWVGEXvZ9d2jfqfQEkMdr6QmU0Pf9h5kNIWOXZfmb5/kr9ZxSkwxtZoP3/jdk7DRNb6nnkwNLtwhCiyC0iGa+0TEbrG3bLs65oG90K5oJHbnBuqWeT21YukUQWkQzS3cq67pex3H8DBlb8+EKoZ/ouu7cwuEKS7cIQosgtAhCiyC0CEKLqPrnFefXx6k6NOfXx2HpFkFoEYQWQWgRhBZBaBGEFkFoEYQWQWgRVR+B/jcx98ucy3vHjNAHirlf5lzeO2Ys3SIILYLQIggtgtAisu+6uR5URvbQXA8qg6VbBKFFEFoEoUUQWgR/ahSU8zUFQheU8zWFh6EjH0Z9N7OfkLEcgpTxMHTswYb3/jt0bOjkcBw2YyLuKBxqQbQr4qYAAAAASUVORK5CYII=\"></img></td>\n",
       "      <td id=\"T_5d362_row12_col5\" class=\"data row12 col5\" >0<br>(0.0%)</td>\n",
       "    </tr>\n",
       "    <tr>\n",
       "      <td id=\"T_5d362_row13_col0\" class=\"data row13 col0\" >14</td>\n",
       "      <td id=\"T_5d362_row13_col1\" class=\"data row13 col1\" ><strong>guests_included</strong><br>[int64]</td>\n",
       "      <td id=\"T_5d362_row13_col2\" class=\"data row13 col2\" >Mean (sd) : 1.4 (1.1)<br>min < med < max:<br>0.0 < 1.0 < 14.0<br>IQR (CV) : 0.0 (1.4)</td>\n",
       "      <td id=\"T_5d362_row13_col3\" class=\"data row13 col3\" >12 distinct values</td>\n",
       "      <td id=\"T_5d362_row13_col4\" class=\"data row13 col4\" ><img src = \"data:image/png;base64, iVBORw0KGgoAAAANSUhEUgAAAHoAAAAyCAYAAACTUs/lAAAAOXRFWHRTb2Z0d2FyZQBNYXRwbG90bGliIHZlcnNpb24zLjUuMSwgaHR0cHM6Ly9tYXRwbG90bGliLm9yZy/YYfK9AAAACXBIWXMAAAsTAAALEwEAmpwYAAAA+klEQVR4nO3cMQ6CMBhAYTUmLHWFwY0TeBVPwOq1OIGncpCZpVM9AQaS0hrf+1ZI0+QlP0z/MaV00P871b6AyjgvPWjb9h5C6NYcMs/ze5qmZ75rKbfF0CGEbhiG15pDxnG85ruS9uDohjA0hKEhDA1haAhDQxgawtAQhoYwNIShIQwNYWgIQ0MYGsLQEIaGMDSEoSEMDWFoCENDGBrC0BCGhjA0hKEhDA1haAhDQxgawtAQhoYwNIShIQwNsbisZosY463v+8ead91gVEeW0E3TXNxg9Nsc3RCGhjA0RJZv9Bb+uNVRPLQ/bnU4uiEMDVF8dO/FtdPffQArqzYk4yQvOwAAAABJRU5ErkJggg==\"></img></td>\n",
       "      <td id=\"T_5d362_row13_col5\" class=\"data row13 col5\" >0<br>(0.0%)</td>\n",
       "    </tr>\n",
       "    <tr>\n",
       "      <td id=\"T_5d362_row14_col0\" class=\"data row14 col0\" >15</td>\n",
       "      <td id=\"T_5d362_row14_col1\" class=\"data row14 col1\" ><strong>price_per_extra_person</strong><br>[int64]</td>\n",
       "      <td id=\"T_5d362_row14_col2\" class=\"data row14 col2\" >Mean (sd) : 10.9 (19.1)<br>min < med < max:<br>0.0 < 0.0 < 200.0<br>IQR (CV) : 20.0 (0.6)</td>\n",
       "      <td id=\"T_5d362_row14_col3\" class=\"data row14 col3\" >51 distinct values</td>\n",
       "      <td id=\"T_5d362_row14_col4\" class=\"data row14 col4\" ><img src = \"data:image/png;base64, iVBORw0KGgoAAAANSUhEUgAAAHoAAAAyCAYAAACTUs/lAAAAOXRFWHRTb2Z0d2FyZQBNYXRwbG90bGliIHZlcnNpb24zLjUuMSwgaHR0cHM6Ly9tYXRwbG90bGliLm9yZy/YYfK9AAAACXBIWXMAAAsTAAALEwEAmpwYAAAA/ElEQVR4nO3cMQqDMBhA4bYUXNI1Dt08Qa/SE2TttTxBT9Whzi5O9gQBhWiK732rIoGHP2T5z/M8n3R8l9oH0D6uuQcxxmcIoV3ykXEcv8MwvMsdS6VlQ4cQ2pTSZ8lH+r6/lzuStuDohjA0hKEhDA1haAhDQxgawtAQhoYwNIShIQwNYWgIQ0MYGsLQEIaGMDSEoSEMDWFoCENDGBrC0BCGhjA0hKEhDA1haAhDQxgawtAQhoYwNER2tcUa0zQ9uq57LXnXfSd1FAndNM3NfSf/zdENYWgIQ0MYGsLQEIaGKHK9WsM7dx27h/bOXYejG2L3P3qNrcY8cUX1D/sxQT8Ie2ZPAAAAAElFTkSuQmCC\"></img></td>\n",
       "      <td id=\"T_5d362_row14_col5\" class=\"data row14 col5\" >0<br>(0.0%)</td>\n",
       "    </tr>\n",
       "    <tr>\n",
       "      <td id=\"T_5d362_row15_col0\" class=\"data row15 col0\" >16</td>\n",
       "      <td id=\"T_5d362_row15_col1\" class=\"data row15 col1\" ><strong>minimum_nights</strong><br>[int64]</td>\n",
       "      <td id=\"T_5d362_row15_col2\" class=\"data row15 col2\" >Mean (sd) : 3.1 (8.3)<br>min < med < max:<br>1.0 < 2.0 < 300.0<br>IQR (CV) : 2.0 (0.4)</td>\n",
       "      <td id=\"T_5d362_row15_col3\" class=\"data row15 col3\" >28 distinct values</td>\n",
       "      <td id=\"T_5d362_row15_col4\" class=\"data row15 col4\" ><img src = \"data:image/png;base64, iVBORw0KGgoAAAANSUhEUgAAAHoAAAAyCAYAAACTUs/lAAAAOXRFWHRTb2Z0d2FyZQBNYXRwbG90bGliIHZlcnNpb24zLjUuMSwgaHR0cHM6Ly9tYXRwbG90bGliLm9yZy/YYfK9AAAACXBIWXMAAAsTAAALEwEAmpwYAAAAy0lEQVR4nO3UsWnDUBhGUce4fLVcZCpPoNk0gadKEdXqlQkMLmQHfM9pH/x8cOF97ft+4vOd/3sA73F59DBN022McX3myLZtv+u63o+bxdEehh5jXOd5/nnmyLIs38dN4hV83RFCRwgdIXSE0BFCRwgdIXSE0BFCRwgdIXSE0BFCRwgdIXSE0BFCRwgdIXSE0BFCRwgdIXSE0BFCRwgdIXSE0BFCRwgdIXSE0BFCRwgdIXSE0BFCRwgdIXSE0BFCRwgdIXSE0BFCR/wBhBUPoA75qXkAAAAASUVORK5CYII=\"></img></td>\n",
       "      <td id=\"T_5d362_row15_col5\" class=\"data row15 col5\" >0<br>(0.0%)</td>\n",
       "    </tr>\n",
       "    <tr>\n",
       "      <td id=\"T_5d362_row16_col0\" class=\"data row16 col0\" >17</td>\n",
       "      <td id=\"T_5d362_row16_col1\" class=\"data row16 col1\" ><strong>number_of_reviews</strong><br>[int64]</td>\n",
       "      <td id=\"T_5d362_row16_col2\" class=\"data row16 col2\" >Mean (sd) : 19.1 (35.7)<br>min < med < max:<br>0.0 < 5.0 < 404.0<br>IQR (CV) : 20.0 (0.5)</td>\n",
       "      <td id=\"T_5d362_row16_col3\" class=\"data row16 col3\" >178 distinct values</td>\n",
       "      <td id=\"T_5d362_row16_col4\" class=\"data row16 col4\" ><img src = \"data:image/png;base64, iVBORw0KGgoAAAANSUhEUgAAAHoAAAAyCAYAAACTUs/lAAAAOXRFWHRTb2Z0d2FyZQBNYXRwbG90bGliIHZlcnNpb24zLjUuMSwgaHR0cHM6Ly9tYXRwbG90bGliLm9yZy/YYfK9AAAACXBIWXMAAAsTAAALEwEAmpwYAAAA+0lEQVR4nO3cMQ6CMBhAYTUmLHWFwa0n8B5OnoCVM3XjBJ7KQWYWJjxBE0gqGN/7VkjzJy/t+B/neT7o/532HkDbOOc+1HX9CCE0Sw4Zx/E9DMOz3FgqLRs6hNC0bftackjf99dyI+kbfLohDA1haAhDQxgawtAQhoYwNIShIQwNYWgIQ0MYGsLQEIaGMDSEoSEMDWFoCENDGBrC0BCGhjA0hKEhDA1haAhDQxgawtAQhoYwNIShIQwNYWgIQ0MYGsLQEIaGMDSEoSEMDZFdEbnGNE23GGO35F/3hu6jSOiqqi7uDf1tRUKv4e3fx+ah19z+lNI9xugq6QI+9XY17JkglF4AAAAASUVORK5CYII=\"></img></td>\n",
       "      <td id=\"T_5d362_row16_col5\" class=\"data row16 col5\" >0<br>(0.0%)</td>\n",
       "    </tr>\n",
       "    <tr>\n",
       "      <td id=\"T_5d362_row17_col0\" class=\"data row17 col0\" >18</td>\n",
       "      <td id=\"T_5d362_row17_col1\" class=\"data row17 col1\" ><strong>number_days_btw_first_last_review</strong><br>[int64]</td>\n",
       "      <td id=\"T_5d362_row17_col2\" class=\"data row17 col2\" >Mean (sd) : 279.1 (408.7)<br>min < med < max:<br>0.0 < 92.0 < 2680.0<br>IQR (CV) : 402.0 (0.7)</td>\n",
       "      <td id=\"T_5d362_row17_col3\" class=\"data row17 col3\" >953 distinct values</td>\n",
       "      <td id=\"T_5d362_row17_col4\" class=\"data row17 col4\" ><img src = \"data:image/png;base64, iVBORw0KGgoAAAANSUhEUgAAAHoAAAAyCAYAAACTUs/lAAAAOXRFWHRTb2Z0d2FyZQBNYXRwbG90bGliIHZlcnNpb24zLjUuMSwgaHR0cHM6Ly9tYXRwbG90bGliLm9yZy/YYfK9AAAACXBIWXMAAAsTAAALEwEAmpwYAAABGUlEQVR4nO3cPW6DQBQAYceKRPPc4iJNtCfIPVz5BLQ+Ex0n8JXcpAg1DRU+ARIrLT/KzNeCVisNPEGzH9M0nfT/nffegLbxOXehrut7RFyXLDIMw1/f989y21Jps6Ej4to0ze+SRbqu+yq3Ja3B0Q1haAhDQxgawtAQhoYwNIShIQwNYWgIQ0MYGsLQEIaGMDSEoSEMDWFoCENDGBrC0BCGhjA0hKEhDA1haAhDQxgawtAQhoYwNIShIQwNMXviQY5xHH9SSo8l93oMxj6KhK6q6uIxGMfm6IYwNIShIQwNYWiIIl/dOfwV28fmof0V24ejG2LzNzqHY76cQ4fOGfNt295SSp5GPOPQoXOs+FB8R8Rr4b2HfYDe/AVVG2NnW8wAAAAASUVORK5CYII=\"></img></td>\n",
       "      <td id=\"T_5d362_row17_col5\" class=\"data row17 col5\" >0<br>(0.0%)</td>\n",
       "    </tr>\n",
       "    <tr>\n",
       "      <td id=\"T_5d362_row18_col0\" class=\"data row18 col0\" >19</td>\n",
       "      <td id=\"T_5d362_row18_col1\" class=\"data row18 col1\" ><strong>review_scores_rating</strong><br>[float64]</td>\n",
       "      <td id=\"T_5d362_row18_col2\" class=\"data row18 col2\" >Mean (sd) : 91.9 (9.5)<br>min < med < max:<br>20.0 < 94.0 < 100.0<br>IQR (CV) : 9.0 (9.6)</td>\n",
       "      <td id=\"T_5d362_row18_col3\" class=\"data row18 col3\" >48 distinct values</td>\n",
       "      <td id=\"T_5d362_row18_col4\" class=\"data row18 col4\" ><img src = \"data:image/png;base64, iVBORw0KGgoAAAANSUhEUgAAAHoAAAAyCAYAAACTUs/lAAAAOXRFWHRTb2Z0d2FyZQBNYXRwbG90bGliIHZlcnNpb24zLjUuMSwgaHR0cHM6Ly9tYXRwbG90bGliLm9yZy/YYfK9AAAACXBIWXMAAAsTAAALEwEAmpwYAAABEUlEQVR4nO3bMQ6CMABA0WocGDrD4CE4gYfwBD0bJ3DzRg4yM5LgaoyJbUCI/v9G0oQmPylQ0t00TUH/b7/1BLSOw9YTUJ66rs8xxiZn7DAM977vL8/XDP0jYoxNSumWM7bruuPrNZduCENDGBrC0BCGhjA0hKEhDA1haAhDQxgawtAQhoYwNIShIQwNYWgIQ0MYGsLQEIaGMDSEoSEMDWFoCENDGBrC0BCGhjA0hMdmN1Ry5nkcxzaEkHVs9h1Db6jwzPNpzr1cuiEMDWFoCENDGBrC0BCGhvA7ekElGyAhzN8EKWHoBZVsgIQwfxOkhEs3hKEhDA3hM/qDNf8wfRMydEm8qqralNI1Z+yaL1elHoHlK/CztIAVAAAAAElFTkSuQmCC\"></img></td>\n",
       "      <td id=\"T_5d362_row18_col5\" class=\"data row18 col5\" >800<br>(22.5%)</td>\n",
       "    </tr>\n",
       "    <tr>\n",
       "      <td id=\"T_5d362_row19_col0\" class=\"data row19 col0\" >20</td>\n",
       "      <td id=\"T_5d362_row19_col1\" class=\"data row19 col1\" ><strong>cancellation_policy</strong><br>[object]</td>\n",
       "      <td id=\"T_5d362_row19_col2\" class=\"data row19 col2\" >1. strict<br>2. flexible<br>3. moderate<br>4. super_strict_30</td>\n",
       "      <td id=\"T_5d362_row19_col3\" class=\"data row19 col3\" >1,564 (44.0%)<br>989 (27.8%)<br>919 (25.9%)<br>83 (2.3%)</td>\n",
       "      <td id=\"T_5d362_row19_col4\" class=\"data row19 col4\" ><img src = \"data:image/png;base64, iVBORw0KGgoAAAANSUhEUgAAAG8AAABBCAYAAADfY/omAAAAOXRFWHRTb2Z0d2FyZQBNYXRwbG90bGliIHZlcnNpb24zLjUuMSwgaHR0cHM6Ly9tYXRwbG90bGliLm9yZy/YYfK9AAAACXBIWXMAAAsTAAALEwEAmpwYAAABD0lEQVR4nO3ZsWnDUBhG0SikVCtceKpMoNk0QaZKEdXqldptLPK4+JwJHlz4BPqn8zzfaHof/QD+TrywaVmWz3meb6Mf8ozjOH72ff8a/Y7/9jHP821d1+/RD3nGtm330W8YwWyGiRcmXph4YeKFiRcmXph4YeKFiRfm32bY5J7XZTbDhs7mq87dVYaehF71lHMVsxkmXph4YeKFiRcmXph4YeKFiRcmXph4YX5Mh7nnhZnNsCGzaS6vMeSe5453DbMZJl6YeGHihYkXJl6YeGHihYkXJl6Yf5thTkJhZjNMvLCHb55vUcvDPc+drcVshokXJl6YeGHihYkXJl6YeGHihYkX5t9mmHtemNkM+wXx42BDlFU5VwAAAABJRU5ErkJggg==\"></img></td>\n",
       "      <td id=\"T_5d362_row19_col5\" class=\"data row19 col5\" >0<br>(0.0%)</td>\n",
       "    </tr>\n",
       "    <tr>\n",
       "      <td id=\"T_5d362_row20_col0\" class=\"data row20 col0\" >21</td>\n",
       "      <td id=\"T_5d362_row20_col1\" class=\"data row20 col1\" ><strong>price</strong><br>[int64]</td>\n",
       "      <td id=\"T_5d362_row20_col2\" class=\"data row20 col2\" >Mean (sd) : 166.1 (103.4)<br>min < med < max:<br>10.0 < 150.0 < 650.0<br>IQR (CV) : 134.0 (1.6)</td>\n",
       "      <td id=\"T_5d362_row20_col3\" class=\"data row20 col3\" >301 distinct values</td>\n",
       "      <td id=\"T_5d362_row20_col4\" class=\"data row20 col4\" ><img src = \"data:image/png;base64, iVBORw0KGgoAAAANSUhEUgAAAHoAAAAyCAYAAACTUs/lAAAAOXRFWHRTb2Z0d2FyZQBNYXRwbG90bGliIHZlcnNpb24zLjUuMSwgaHR0cHM6Ly9tYXRwbG90bGliLm9yZy/YYfK9AAAACXBIWXMAAAsTAAALEwEAmpwYAAABPElEQVR4nO3asWnEMBhAYSUE3Citr0gTvECyQIbIBG6zlie4la5JEddqDAZngHAXCXS+Q+99tbAND/8CWw/btgW17/HWD6B9PNW4SN/3nzHGQ87alNLPPM/HGvdVviqhY4yHcRy/c9ZO0/RS454q4+iGMDREldFdYlmW92EYvnLWup/Xs3voruue3c/35+iGMDSEoSEMDWFoCENDGBrC0BCGhjA0hKEhDA1x9qdGyamRdV3fQghZPyp0G2dDF54a+aj3SLoGRzeEoSEMDWFoCENDGBrC0BCGhjA0xO7nukt42L+euw7tYf96HN0Qhoa469Fdwv38smZCu59f5uiGMDSEoSEMDWFoCENDGBrC0BDNfDApQfyKhgxN/IqGDF2ilbff0P9o5e03dEUlb38IIaSUXmOMpyus/TNZfgHNVng5uBj1LAAAAABJRU5ErkJggg==\"></img></td>\n",
       "      <td id=\"T_5d362_row20_col5\" class=\"data row20 col5\" >0<br>(0.0%)</td>\n",
       "    </tr>\n",
       "    <tr>\n",
       "      <td id=\"T_5d362_row21_col0\" class=\"data row21 col0\" >22</td>\n",
       "      <td id=\"T_5d362_row21_col1\" class=\"data row21 col1\" ><strong>price_gte_150</strong><br>[int64]</td>\n",
       "      <td id=\"T_5d362_row21_col2\" class=\"data row21 col2\" >Mean (sd) : 0.5 (0.5)<br>min < med < max:<br>0.0 < 1.0 < 1.0<br>IQR (CV) : 1.0 (1.0)</td>\n",
       "      <td id=\"T_5d362_row21_col3\" class=\"data row21 col3\" >2 distinct values</td>\n",
       "      <td id=\"T_5d362_row21_col4\" class=\"data row21 col4\" ><img src = \"data:image/png;base64, iVBORw0KGgoAAAANSUhEUgAAAHoAAAAyCAYAAACTUs/lAAAAOXRFWHRTb2Z0d2FyZQBNYXRwbG90bGliIHZlcnNpb24zLjUuMSwgaHR0cHM6Ly9tYXRwbG90bGliLm9yZy/YYfK9AAAACXBIWXMAAAsTAAALEwEAmpwYAAAA0ElEQVR4nO3UMWrDQBBAUce43FoucqqcQGfTCXKqFFGtXukDBmGHGPzfa2cZBj7s277vJ17f+dkH8D8utwbTNH2MMa5Hlmzb9r2u6+ffncVvj/a4GXqMcZ3n+evI4mVZ3o+8436P9vB1RwgdIXSE0BFCRwgdIXSE0BFCRwgdIXSE0BFCRwgdIXSE0BFCRwgdIXSE0BFCRwgdIXSE0BFCRwgdIXSE0BFCRwgdIXSE0BFCRwgdIXSE0BFCRwgdIXSE0BFCRwgdIXSE0BFCRwgd8QMFqhvbAstiEAAAAABJRU5ErkJggg==\"></img></td>\n",
       "      <td id=\"T_5d362_row21_col5\" class=\"data row21 col5\" >0<br>(0.0%)</td>\n",
       "    </tr>\n",
       "    <tr>\n",
       "      <td id=\"T_5d362_row22_col0\" class=\"data row22 col0\" >23</td>\n",
       "      <td id=\"T_5d362_row22_col1\" class=\"data row22 col1\" ><strong>price_category</strong><br>[object]</td>\n",
       "      <td id=\"T_5d362_row22_col2\" class=\"data row22 col2\" >1. btw_$75-$150<br>2. btw_$151-$225<br>3. gte_226<br>4. lte_$75</td>\n",
       "      <td id=\"T_5d362_row22_col3\" class=\"data row22 col3\" >1,187 (33.4%)<br>828 (23.3%)<br>807 (22.7%)<br>733 (20.6%)</td>\n",
       "      <td id=\"T_5d362_row22_col4\" class=\"data row22 col4\" ><img src = \"data:image/png;base64, iVBORw0KGgoAAAANSUhEUgAAAG8AAABBCAYAAADfY/omAAAAOXRFWHRTb2Z0d2FyZQBNYXRwbG90bGliIHZlcnNpb24zLjUuMSwgaHR0cHM6Ly9tYXRwbG90bGliLm9yZy/YYfK9AAAACXBIWXMAAAsTAAALEwEAmpwYAAABDklEQVR4nO3ZsWnDUBhG0SikfK1w4akygWfTBJkqRVSrV1rXwZJy4ZwJHlz4BPqnfd/faHq/+gH8nXhh0zzPn2OM29UPebZt28+6rl9Xv+O/+xhj3B6Px/fVD3m2LMv96jcUmM0w8cLECxMvTLww8cLECxMvTLww8cL82wyb3PO6zGbYabNpCl/vtJOQM8/rmc0w8cLECxMvTLww8cLECxMvTLww8cLEC/NjOsw9L8xshp0ymybzGKfc89zyjmE2w8QLEy9MvDDxwsQLEy9MvDDxwsQL828zzEkozGyGiRd26DfPt+5Yh97z3PGOZTbDxAsTL0y8MPHCxAsTL0y8MPHCxAvzbzPMPS/MbIb9AjN6YEMTWqzxAAAAAElFTkSuQmCC\"></img></td>\n",
       "      <td id=\"T_5d362_row22_col5\" class=\"data row22 col5\" >0<br>(0.0%)</td>\n",
       "    </tr>\n",
       "  </tbody>\n",
       "</table>\n"
      ],
      "text/plain": [
       "<pandas.io.formats.style.Styler at 0x1c1de7a5df0>"
      ]
     },
     "execution_count": 8,
     "metadata": {},
     "output_type": "execute_result"
    }
   ],
   "source": [
    "# there are many ways we could explore our data. A rather new library available is called \n",
    "# jupyter-summarytools this library provides functions that provide very thorough summaries \n",
    "# of your data. Though such detail is not always required, there are times when you want a \n",
    "# thorough summary\n",
    "\n",
    "# jupyter-summary tools is not part of the standard anaconda distribution of python, nor \n",
    "# is it in any conda channels. To install this library, you need to install it from the \n",
    "# terminal/command line using pip pip install jupyter-summarytools\n",
    "\n",
    "# once installed, you can import this library and use dfSummary to provide a more thorough \n",
    "# summary of your data\n",
    "import summarytools\n",
    "from summarytools import dfSummary\n",
    "dfSummary(airbnb)"
   ]
  },
  {
   "cell_type": "code",
   "execution_count": 9,
   "metadata": {},
   "outputs": [
    {
     "data": {
      "text/plain": [
       "host_is_superhost                      0\n",
       "host_identity_verified                 0\n",
       "neighbourhood_cleansed                 0\n",
       "latitude                               0\n",
       "longitude                              0\n",
       "property_type                          3\n",
       "room_type                              0\n",
       "accommodates                           0\n",
       "bathrooms                             14\n",
       "bedrooms                              10\n",
       "beds                                   9\n",
       "bed_type                               0\n",
       "Number of amenities                    0\n",
       "guests_included                        0\n",
       "price_per_extra_person                 0\n",
       "minimum_nights                         0\n",
       "number_of_reviews                      0\n",
       "number_days_btw_first_last_review      0\n",
       "review_scores_rating                 800\n",
       "cancellation_policy                    0\n",
       "price                                  0\n",
       "price_gte_150                          0\n",
       "price_category                         0\n",
       "dtype: int64"
      ]
     },
     "execution_count": 9,
     "metadata": {},
     "output_type": "execute_result"
    }
   ],
   "source": [
    "# Check the missing values by summing the total na's for each variable\n",
    "airbnb.isna().sum()"
   ]
  },
  {
   "cell_type": "code",
   "execution_count": 10,
   "metadata": {},
   "outputs": [
    {
     "data": {
      "text/plain": [
       "['neighbourhood_cleansed',\n",
       " 'property_type',\n",
       " 'room_type',\n",
       " 'bed_type',\n",
       " 'cancellation_policy',\n",
       " 'price_category']"
      ]
     },
     "execution_count": 10,
     "metadata": {},
     "output_type": "execute_result"
    }
   ],
   "source": [
    "# create a list of these catagorical variables\n",
    "category_var_list = list(airbnb.select_dtypes(include='object').columns)\n",
    "category_var_list"
   ]
  },
  {
   "cell_type": "code",
   "execution_count": 11,
   "metadata": {},
   "outputs": [
    {
     "name": "stdout",
     "output_type": "stream",
     "text": [
      "Category: neighbourhood_cleansed Values: ['Roslindale' 'Jamaica Plain' 'Mission Hill' 'Longwood Medical Area'\n",
      " 'Bay Village' 'Leather District' 'Chinatown' 'North End' 'Roxbury'\n",
      " 'South End' 'Back Bay' 'East Boston' 'Charlestown' 'West End'\n",
      " 'Beacon Hill' 'Downtown' 'Fenway' 'Brighton' 'West Roxbury' 'Hyde Park'\n",
      " 'Mattapan' 'Dorchester' 'South Boston Waterfront' 'South Boston'\n",
      " 'Allston']\n",
      "Category: property_type Values: ['House' 'Apartment' 'Condominium' 'Villa' 'Bed & Breakfast' 'Townhouse'\n",
      " 'Entire Floor' 'Loft' 'Guesthouse' 'Boat' 'Dorm' 'Other' nan 'Camper/RV']\n",
      "Category: room_type Values: ['Entire home/apt' 'Private room' 'Shared room']\n",
      "Category: bed_type Values: ['Real Bed' 'Pull-out Sofa' 'Futon' 'Airbed' 'Couch']\n",
      "Category: cancellation_policy Values: ['moderate' 'flexible' 'strict' 'super_strict_30']\n",
      "Category: price_category Values: ['gte_226' 'lte_$75' 'btw_$75-$150' 'btw_$151-$225']\n"
     ]
    }
   ],
   "source": [
    "# explore the categorical variable values - often there are typos here that need to be fixed.\n",
    "for cat in category_var_list: # generally, we want to avoid for loops and use a functional style (i.e. list comprehension)\n",
    "    print(f\"Category: {cat} Values: {airbnb[cat].unique()}\")"
   ]
  },
  {
   "cell_type": "markdown",
   "metadata": {},
   "source": [
    "### Summary the findings from our initial evaluation of the data\n",
    "\n",
    "* We have 6 categorical variables\n",
    "* We have 3 variables that have missing values\n",
    "* There doesn't seem to be a problem with the catogorical class names."
   ]
  },
  {
   "cell_type": "markdown",
   "metadata": {
    "tags": []
   },
   "source": [
    "## 4.0 Process the data\n",
    "\n",
    "* Conduct any data prepartion that should be done *BEFORE* the data split.\n",
    "* Split the data.\n",
    "* Conduct any data preparation that should be done *AFTER* the data split."
   ]
  },
  {
   "cell_type": "markdown",
   "metadata": {},
   "source": [
    "### 4.1  Conduct any data prepartion that should be done *BEFORE* the data split\n",
    "\n",
    "Tasks at this stage include:\n",
    "1. Drop any columns/features \n",
    "2. Decide if you with to exclude any observations (rows) due to missing na's.\n",
    "2. Conduct proper encoding of categorical variables\n",
    "    1. You can transform them using dummy variable encoding, one-hot-encoding, or label encoding. "
   ]
  },
  {
   "cell_type": "markdown",
   "metadata": {},
   "source": [
    "#### Drop any columns/variables we will not be using"
   ]
  },
  {
   "cell_type": "code",
   "execution_count": 12,
   "metadata": {},
   "outputs": [],
   "source": [
    "# Our target is price; but there are three related price variableds - price, price_gte_150, \n",
    "# and price_category. We need to drop price_gte_150, and price_category\n",
    "airbnb.drop(['price', 'price_category'], axis=1, inplace = True) # keep price_gte_150 for our target"
   ]
  },
  {
   "cell_type": "markdown",
   "metadata": {},
   "source": [
    "#### Drop observations with too many NA's"
   ]
  },
  {
   "cell_type": "markdown",
   "metadata": {
    "tags": []
   },
   "source": [
    "If we want to remove the rows with NA's use the following code that is commented out. For this exercise - we will not drop rows with NA's "
   ]
  },
  {
   "cell_type": "code",
   "execution_count": 13,
   "metadata": {},
   "outputs": [],
   "source": [
    "# If we want to remove rows with NA's use the following code:\n",
    "# airbnb.dropna(axis=0, inplace=True)"
   ]
  },
  {
   "cell_type": "code",
   "execution_count": 14,
   "metadata": {},
   "outputs": [],
   "source": [
    "# verify that there are now no missing values\n",
    "# airbnb.isna().sum()"
   ]
  },
  {
   "cell_type": "code",
   "execution_count": 15,
   "metadata": {},
   "outputs": [],
   "source": [
    "# investigage how many rows remain \n",
    "# airbnb.shape"
   ]
  },
  {
   "cell_type": "markdown",
   "metadata": {},
   "source": [
    "#### Encode our categorical variables"
   ]
  },
  {
   "cell_type": "markdown",
   "metadata": {},
   "source": [
    "Categorical variables usually have strings for their values. Many machine learning algorithms do not support string values for the input variables. Therefore, we need to replace these string values with numbers. This process is called categorical variable encoding.\n",
    "\n",
    "In a previous step we identified 5 catagorical variables and found no indication of typos in the class names. Our focus is now on encoding the variables. \n",
    "\n",
    "We have three main approaches to encoding variables (these will be discussed in greater detail in class)\n",
    "* One-Hot-Encoding\n",
    "* Dummy Encoding\n",
    "* Label Encoding\n",
    "\n",
    "In this exercise; we will dummy encode neighbourhood_cleansed, property_type using dummy encoding, and room_type, bed_type and cancelation policy using label encoding. (we will have more discussion on these choices in class)."
   ]
  },
  {
   "cell_type": "markdown",
   "metadata": {},
   "source": [
    "Before we do our encoding, we must identify if any of our categorical variables have a missing value. We will replace any missing values with the term 'unkown'."
   ]
  },
  {
   "cell_type": "code",
   "execution_count": 16,
   "metadata": {},
   "outputs": [
    {
     "data": {
      "text/plain": [
       "3"
      ]
     },
     "execution_count": 16,
     "metadata": {},
     "output_type": "execute_result"
    }
   ],
   "source": [
    "airbnb['property_type'].isna().sum() # check for missing values in this variable/column - we can see there are three for this variable"
   ]
  },
  {
   "cell_type": "code",
   "execution_count": 17,
   "metadata": {},
   "outputs": [],
   "source": [
    "airbnb[\"property_type\"].fillna(\"unkown\", inplace = True)"
   ]
  },
  {
   "cell_type": "code",
   "execution_count": 18,
   "metadata": {},
   "outputs": [
    {
     "data": {
      "text/plain": [
       "0"
      ]
     },
     "execution_count": 18,
     "metadata": {},
     "output_type": "execute_result"
    }
   ],
   "source": [
    "airbnb['neighbourhood_cleansed'].isna().sum() "
   ]
  },
  {
   "cell_type": "code",
   "execution_count": 19,
   "metadata": {},
   "outputs": [
    {
     "data": {
      "text/plain": [
       "0"
      ]
     },
     "execution_count": 19,
     "metadata": {},
     "output_type": "execute_result"
    }
   ],
   "source": [
    "airbnb['room_type'].isna().sum() # can see by the results below, no missing values"
   ]
  },
  {
   "cell_type": "code",
   "execution_count": 20,
   "metadata": {},
   "outputs": [
    {
     "data": {
      "text/plain": [
       "0"
      ]
     },
     "execution_count": 20,
     "metadata": {},
     "output_type": "execute_result"
    }
   ],
   "source": [
    "airbnb['bed_type'].isna().sum() # can see by the results below, no missing values"
   ]
  },
  {
   "cell_type": "code",
   "execution_count": 21,
   "metadata": {},
   "outputs": [
    {
     "data": {
      "text/plain": [
       "0"
      ]
     },
     "execution_count": 21,
     "metadata": {},
     "output_type": "execute_result"
    }
   ],
   "source": [
    "airbnb['cancellation_policy'].isna().sum() # can see by the results below, no missing values"
   ]
  },
  {
   "cell_type": "markdown",
   "metadata": {
    "tags": []
   },
   "source": [
    "Now, let's encode neighborhood_cleansed and property_type as dummy variables and room_type, bed_type and cancelation_policy labeled (numeric)"
   ]
  },
  {
   "cell_type": "code",
   "execution_count": 22,
   "metadata": {},
   "outputs": [],
   "source": [
    "dummies_df = pd.get_dummies(airbnb['neighbourhood_cleansed'], prefix='neighbourhood_cleansed', drop_first=True)"
   ]
  },
  {
   "cell_type": "code",
   "execution_count": 23,
   "metadata": {},
   "outputs": [],
   "source": [
    "airbnb = airbnb.join(dummies_df)\n",
    "airbnb.drop('neighbourhood_cleansed', axis=1, inplace = True)"
   ]
  },
  {
   "cell_type": "code",
   "execution_count": 24,
   "metadata": {},
   "outputs": [],
   "source": [
    "airbnb = airbnb.join(pd.get_dummies(airbnb['property_type'], prefix='property_type', drop_first=True))\n",
    "airbnb.drop('property_type', axis=1, inplace = True)"
   ]
  },
  {
   "cell_type": "code",
   "execution_count": 25,
   "metadata": {},
   "outputs": [],
   "source": [
    "labelencoder = LabelEncoder()\n",
    "airbnb['room_type'] = labelencoder.fit_transform(airbnb['room_type'])\n",
    "airbnb['bed_type'] = labelencoder.fit_transform(airbnb['bed_type'])\n",
    "airbnb['cancellation_policy'] = labelencoder.fit_transform(airbnb['cancellation_policy'])"
   ]
  },
  {
   "cell_type": "code",
   "execution_count": 26,
   "metadata": {},
   "outputs": [
    {
     "name": "stdout",
     "output_type": "stream",
     "text": [
      "<class 'pandas.core.frame.DataFrame'>\n",
      "RangeIndex: 3555 entries, 0 to 3554\n",
      "Data columns (total 56 columns):\n",
      " #   Column                                          Non-Null Count  Dtype  \n",
      "---  ------                                          --------------  -----  \n",
      " 0   host_is_superhost                               3555 non-null   int64  \n",
      " 1   host_identity_verified                          3555 non-null   int64  \n",
      " 2   latitude                                        3555 non-null   float64\n",
      " 3   longitude                                       3555 non-null   float64\n",
      " 4   room_type                                       3555 non-null   int32  \n",
      " 5   accommodates                                    3555 non-null   int64  \n",
      " 6   bathrooms                                       3541 non-null   float64\n",
      " 7   bedrooms                                        3545 non-null   float64\n",
      " 8   beds                                            3546 non-null   float64\n",
      " 9   bed_type                                        3555 non-null   int32  \n",
      " 10  Number of amenities                             3555 non-null   int64  \n",
      " 11  guests_included                                 3555 non-null   int64  \n",
      " 12  price_per_extra_person                          3555 non-null   int64  \n",
      " 13  minimum_nights                                  3555 non-null   int64  \n",
      " 14  number_of_reviews                               3555 non-null   int64  \n",
      " 15  number_days_btw_first_last_review               3555 non-null   int64  \n",
      " 16  review_scores_rating                            2755 non-null   float64\n",
      " 17  cancellation_policy                             3555 non-null   int32  \n",
      " 18  price_gte_150                                   3555 non-null   int64  \n",
      " 19  neighbourhood_cleansed_Back Bay                 3555 non-null   uint8  \n",
      " 20  neighbourhood_cleansed_Bay Village              3555 non-null   uint8  \n",
      " 21  neighbourhood_cleansed_Beacon Hill              3555 non-null   uint8  \n",
      " 22  neighbourhood_cleansed_Brighton                 3555 non-null   uint8  \n",
      " 23  neighbourhood_cleansed_Charlestown              3555 non-null   uint8  \n",
      " 24  neighbourhood_cleansed_Chinatown                3555 non-null   uint8  \n",
      " 25  neighbourhood_cleansed_Dorchester               3555 non-null   uint8  \n",
      " 26  neighbourhood_cleansed_Downtown                 3555 non-null   uint8  \n",
      " 27  neighbourhood_cleansed_East Boston              3555 non-null   uint8  \n",
      " 28  neighbourhood_cleansed_Fenway                   3555 non-null   uint8  \n",
      " 29  neighbourhood_cleansed_Hyde Park                3555 non-null   uint8  \n",
      " 30  neighbourhood_cleansed_Jamaica Plain            3555 non-null   uint8  \n",
      " 31  neighbourhood_cleansed_Leather District         3555 non-null   uint8  \n",
      " 32  neighbourhood_cleansed_Longwood Medical Area    3555 non-null   uint8  \n",
      " 33  neighbourhood_cleansed_Mattapan                 3555 non-null   uint8  \n",
      " 34  neighbourhood_cleansed_Mission Hill             3555 non-null   uint8  \n",
      " 35  neighbourhood_cleansed_North End                3555 non-null   uint8  \n",
      " 36  neighbourhood_cleansed_Roslindale               3555 non-null   uint8  \n",
      " 37  neighbourhood_cleansed_Roxbury                  3555 non-null   uint8  \n",
      " 38  neighbourhood_cleansed_South Boston             3555 non-null   uint8  \n",
      " 39  neighbourhood_cleansed_South Boston Waterfront  3555 non-null   uint8  \n",
      " 40  neighbourhood_cleansed_South End                3555 non-null   uint8  \n",
      " 41  neighbourhood_cleansed_West End                 3555 non-null   uint8  \n",
      " 42  neighbourhood_cleansed_West Roxbury             3555 non-null   uint8  \n",
      " 43  property_type_Bed & Breakfast                   3555 non-null   uint8  \n",
      " 44  property_type_Boat                              3555 non-null   uint8  \n",
      " 45  property_type_Camper/RV                         3555 non-null   uint8  \n",
      " 46  property_type_Condominium                       3555 non-null   uint8  \n",
      " 47  property_type_Dorm                              3555 non-null   uint8  \n",
      " 48  property_type_Entire Floor                      3555 non-null   uint8  \n",
      " 49  property_type_Guesthouse                        3555 non-null   uint8  \n",
      " 50  property_type_House                             3555 non-null   uint8  \n",
      " 51  property_type_Loft                              3555 non-null   uint8  \n",
      " 52  property_type_Other                             3555 non-null   uint8  \n",
      " 53  property_type_Townhouse                         3555 non-null   uint8  \n",
      " 54  property_type_Villa                             3555 non-null   uint8  \n",
      " 55  property_type_unkown                            3555 non-null   uint8  \n",
      "dtypes: float64(6), int32(3), int64(10), uint8(37)\n",
      "memory usage: 614.6 KB\n"
     ]
    }
   ],
   "source": [
    "# explore the dataframe columns to verify encoding and dropped columns\n",
    "airbnb.info()"
   ]
  },
  {
   "cell_type": "markdown",
   "metadata": {},
   "source": [
    "### 4.2 Split data (train/test)"
   ]
  },
  {
   "cell_type": "code",
   "execution_count": 27,
   "metadata": {},
   "outputs": [],
   "source": [
    "# split the data into validation and training set\n",
    "train_df, test_df = train_test_split(airbnb, test_size=0.3)\n",
    "\n",
    "# to reduce repetition in later code, create variables to represent the columns\n",
    "# that are our predictors and target\n",
    "target = 'price_gte_150'\n",
    "predictors = list(airbnb.columns)\n",
    "predictors.remove(target)"
   ]
  },
  {
   "cell_type": "markdown",
   "metadata": {},
   "source": [
    "### 4.3  Conduct any data prepartion that should be done *AFTER* the data split\n",
    "\n",
    "We will look at the following:\n",
    "1) imput any missing numeric values using the mean of the variable/column\n",
    "2) remove differences of scale by standardizing the numerica variables"
   ]
  },
  {
   "cell_type": "markdown",
   "metadata": {},
   "source": [
    "#### Impute missing values"
   ]
  },
  {
   "cell_type": "code",
   "execution_count": 28,
   "metadata": {},
   "outputs": [
    {
     "data": {
      "text/plain": [
       "['bathrooms', 'bedrooms', 'beds', 'review_scores_rating']"
      ]
     },
     "execution_count": 28,
     "metadata": {},
     "output_type": "execute_result"
    }
   ],
   "source": [
    "numeric_cols_with_nas = list(train_df.isna().sum()[train_df.isna().sum() > 0].index)\n",
    "numeric_cols_with_nas"
   ]
  },
  {
   "cell_type": "markdown",
   "metadata": {},
   "source": [
    "We can see from the code above that there are 4 variables (columns) that contain missing numeric values (we've already taken care of any missing values in the catagorical variables earlier)."
   ]
  },
  {
   "cell_type": "code",
   "execution_count": 29,
   "metadata": {},
   "outputs": [],
   "source": [
    "imputer = SimpleImputer(strategy=\"median\")\n",
    "\n",
    "train_df[numeric_cols_with_nas] = imputer.fit_transform(train_df[numeric_cols_with_nas])\n",
    "test_df[numeric_cols_with_nas] = imputer.transform(test_df[numeric_cols_with_nas])"
   ]
  },
  {
   "cell_type": "markdown",
   "metadata": {},
   "source": [
    "#### Standardize numeric values"
   ]
  },
  {
   "cell_type": "markdown",
   "metadata": {},
   "source": [
    "Now, let's create a common scale between the numberic columns by standardizing each numeric column"
   ]
  },
  {
   "cell_type": "code",
   "execution_count": 30,
   "metadata": {},
   "outputs": [],
   "source": [
    "# create a standard scaler and fit it to the training set of predictors\n",
    "scaler = preprocessing.StandardScaler()\n",
    "cols_to_stdize = ['latitude', 'longitude', 'accommodates', \n",
    "                   'bathrooms', 'bedrooms', 'beds', 'Number of amenities', \n",
    "                   'guests_included', 'price_per_extra_person', 'minimum_nights', \n",
    "                   'number_of_reviews', 'number_days_btw_first_last_review', \n",
    "                   'review_scores_rating']                \n",
    "               \n",
    "# Transform the predictors of training and validation sets\n",
    "train_df[cols_to_stdize] = scaler.fit_transform(train_df[cols_to_stdize]) # train_predictors is not a numpy array\n",
    "\n",
    "\n",
    "test_df[cols_to_stdize] = scaler.transform(test_df[cols_to_stdize]) # validation_target is now a series object\n"
   ]
  },
  {
   "cell_type": "markdown",
   "metadata": {},
   "source": [
    "## 5.0 Save the data"
   ]
  },
  {
   "cell_type": "code",
   "execution_count": 32,
   "metadata": {},
   "outputs": [],
   "source": [
    "train_X = train_df[predictors]\n",
    "train_y = train_df[target] # train_target is now a series objecttrain_df.to_csv('airbnb_train_df.csv', index=False)\n",
    "test_X = test_df[predictors]\n",
    "test_y = test_df[target] # validation_target is now a series object\n",
    "\n",
    "train_df.to_csv('E:/Spring-23/DSP/airbnb_train_df_price_gte_150.csv', index=False)\n",
    "train_X.to_csv('E:/Spring-23/DSP/airbnb_train_X_price_gte_150.csv', index=False)\n",
    "train_y.to_csv('E:/Spring-23/DSP/airbnb_train_y_price_gte_150.csv', index=False)\n",
    "test_df.to_csv('E:/Spring-23/DSP/airbnb_test_df_price_gte_150.csv', index=False)\n",
    "test_X.to_csv('E:/Spring-23/DSP/airbnb_test_X_price_gte_150.csv', index=False)\n",
    "test_y.to_csv('E:/Spring-23/DSP/airbnb_test_y_price_gte_150.csv', index=False)"
   ]
  }
 ],
 "metadata": {
  "kernelspec": {
   "display_name": "Python 3 (ipykernel)",
   "language": "python",
   "name": "python3"
  },
  "language_info": {
   "codemirror_mode": {
    "name": "ipython",
    "version": 3
   },
   "file_extension": ".py",
   "mimetype": "text/x-python",
   "name": "python",
   "nbconvert_exporter": "python",
   "pygments_lexer": "ipython3",
   "version": "3.9.12"
  },
  "nav_menu": {
   "height": "279px",
   "width": "309px"
  },
  "toc": {
   "base_numbering": 1,
   "nav_menu": {},
   "number_sections": false,
   "sideBar": true,
   "skip_h1_title": false,
   "title_cell": "Table of Contents",
   "title_sidebar": "Contents",
   "toc_cell": false,
   "toc_position": {
    "height": "calc(100% - 180px)",
    "left": "10px",
    "top": "150px",
    "width": "235px"
   },
   "toc_section_display": "block",
   "toc_window_display": true
  },
  "varInspector": {
   "cols": {
    "lenName": 16,
    "lenType": 16,
    "lenVar": 40
   },
   "kernels_config": {
    "python": {
     "delete_cmd_postfix": "",
     "delete_cmd_prefix": "del ",
     "library": "var_list.py",
     "varRefreshCmd": "print(var_dic_list())"
    },
    "r": {
     "delete_cmd_postfix": ") ",
     "delete_cmd_prefix": "rm(",
     "library": "var_list.r",
     "varRefreshCmd": "cat(var_dic_list()) "
    }
   },
   "types_to_exclude": [
    "module",
    "function",
    "builtin_function_or_method",
    "instance",
    "_Feature"
   ],
   "window_display": false
  },
  "vscode": {
   "interpreter": {
    "hash": "b056086e24cb5602cbcb82122035cd3d6ee2ccbf5df29c16e348c108b0f83be3"
   }
  }
 },
 "nbformat": 4,
 "nbformat_minor": 4
}
