{
 "cells": [
  {
   "cell_type": "markdown",
   "id": "124db011-d919-4b97-8852-78b6daf7429e",
   "metadata": {},
   "source": [
    "# Library Import"
   ]
  },
  {
   "cell_type": "code",
   "execution_count": 1,
   "id": "b3aba3b0-87a3-4366-8b66-5b578ff6dca8",
   "metadata": {},
   "outputs": [],
   "source": [
    "import numpy as np\n",
    "import pandas as pd\n",
    "from sklearn.linear_model import LogisticRegression\n",
    "from sklearn.svm import SVC\n",
    "from sklearn.tree import DecisionTreeClassifier \n",
    "from sklearn.preprocessing import LabelEncoder\n",
    "from sklearn.model_selection import train_test_split\n",
    "from sklearn import preprocessing\n",
    "from sklearn.impute import SimpleImputer\n",
    "from sklearn.metrics import confusion_matrix\n",
    "import summarytools\n",
    "from summarytools import dfSummary\n",
    "from sklearn.preprocessing import StandardScaler\n",
    "from sklearn.model_selection import GridSearchCV,RandomizedSearchCV"
   ]
  },
  {
   "cell_type": "code",
   "execution_count": 2,
   "id": "fead4207-5258-4ba1-81ed-7efbc8b7efc7",
   "metadata": {},
   "outputs": [],
   "source": [
    "# set random seed to ensure that results are repeatable\n",
    "np.random.seed(1)"
   ]
  },
  {
   "cell_type": "markdown",
   "id": "41559f40-392a-4f77-9a5b-0d71f220fe4f",
   "metadata": {},
   "source": [
    "# Data Load"
   ]
  },
  {
   "cell_type": "code",
   "execution_count": 3,
   "id": "746fef8a-9352-4355-adb8-93a32306f2e1",
   "metadata": {},
   "outputs": [],
   "source": [
    "data_universialBank=pd.read_csv(\"E:/Spring-23/DSP/Week4/UniversalBank.csv\")"
   ]
  },
  {
   "cell_type": "code",
   "execution_count": 4,
   "id": "deef820a-2559-4568-9582-28fc9c6de8ef",
   "metadata": {},
   "outputs": [
    {
     "data": {
      "text/html": [
       "<div>\n",
       "<style scoped>\n",
       "    .dataframe tbody tr th:only-of-type {\n",
       "        vertical-align: middle;\n",
       "    }\n",
       "\n",
       "    .dataframe tbody tr th {\n",
       "        vertical-align: top;\n",
       "    }\n",
       "\n",
       "    .dataframe thead th {\n",
       "        text-align: right;\n",
       "    }\n",
       "</style>\n",
       "<table border=\"1\" class=\"dataframe\">\n",
       "  <thead>\n",
       "    <tr style=\"text-align: right;\">\n",
       "      <th></th>\n",
       "      <th>ID</th>\n",
       "      <th>Age</th>\n",
       "      <th>Experience</th>\n",
       "      <th>Income</th>\n",
       "      <th>ZIP Code</th>\n",
       "      <th>Family</th>\n",
       "      <th>CCAvg</th>\n",
       "      <th>Education</th>\n",
       "      <th>Mortgage</th>\n",
       "      <th>Personal Loan</th>\n",
       "      <th>Securities Account</th>\n",
       "      <th>CD Account</th>\n",
       "      <th>Online</th>\n",
       "      <th>CreditCard</th>\n",
       "    </tr>\n",
       "  </thead>\n",
       "  <tbody>\n",
       "    <tr>\n",
       "      <th>0</th>\n",
       "      <td>1</td>\n",
       "      <td>25</td>\n",
       "      <td>1</td>\n",
       "      <td>49</td>\n",
       "      <td>91107</td>\n",
       "      <td>4</td>\n",
       "      <td>1.6</td>\n",
       "      <td>1</td>\n",
       "      <td>0</td>\n",
       "      <td>0</td>\n",
       "      <td>1</td>\n",
       "      <td>0</td>\n",
       "      <td>0</td>\n",
       "      <td>0</td>\n",
       "    </tr>\n",
       "    <tr>\n",
       "      <th>1</th>\n",
       "      <td>2</td>\n",
       "      <td>45</td>\n",
       "      <td>19</td>\n",
       "      <td>34</td>\n",
       "      <td>90089</td>\n",
       "      <td>3</td>\n",
       "      <td>1.5</td>\n",
       "      <td>1</td>\n",
       "      <td>0</td>\n",
       "      <td>0</td>\n",
       "      <td>1</td>\n",
       "      <td>0</td>\n",
       "      <td>0</td>\n",
       "      <td>0</td>\n",
       "    </tr>\n",
       "    <tr>\n",
       "      <th>2</th>\n",
       "      <td>3</td>\n",
       "      <td>39</td>\n",
       "      <td>15</td>\n",
       "      <td>11</td>\n",
       "      <td>94720</td>\n",
       "      <td>1</td>\n",
       "      <td>1.0</td>\n",
       "      <td>1</td>\n",
       "      <td>0</td>\n",
       "      <td>0</td>\n",
       "      <td>0</td>\n",
       "      <td>0</td>\n",
       "      <td>0</td>\n",
       "      <td>0</td>\n",
       "    </tr>\n",
       "    <tr>\n",
       "      <th>3</th>\n",
       "      <td>4</td>\n",
       "      <td>35</td>\n",
       "      <td>9</td>\n",
       "      <td>100</td>\n",
       "      <td>94112</td>\n",
       "      <td>1</td>\n",
       "      <td>2.7</td>\n",
       "      <td>2</td>\n",
       "      <td>0</td>\n",
       "      <td>0</td>\n",
       "      <td>0</td>\n",
       "      <td>0</td>\n",
       "      <td>0</td>\n",
       "      <td>0</td>\n",
       "    </tr>\n",
       "    <tr>\n",
       "      <th>4</th>\n",
       "      <td>5</td>\n",
       "      <td>35</td>\n",
       "      <td>8</td>\n",
       "      <td>45</td>\n",
       "      <td>91330</td>\n",
       "      <td>4</td>\n",
       "      <td>1.0</td>\n",
       "      <td>2</td>\n",
       "      <td>0</td>\n",
       "      <td>0</td>\n",
       "      <td>0</td>\n",
       "      <td>0</td>\n",
       "      <td>0</td>\n",
       "      <td>1</td>\n",
       "    </tr>\n",
       "  </tbody>\n",
       "</table>\n",
       "</div>"
      ],
      "text/plain": [
       "   ID  Age  Experience  Income  ZIP Code  Family  CCAvg  Education  Mortgage  \\\n",
       "0   1   25           1      49     91107       4    1.6          1         0   \n",
       "1   2   45          19      34     90089       3    1.5          1         0   \n",
       "2   3   39          15      11     94720       1    1.0          1         0   \n",
       "3   4   35           9     100     94112       1    2.7          2         0   \n",
       "4   5   35           8      45     91330       4    1.0          2         0   \n",
       "\n",
       "   Personal Loan  Securities Account  CD Account  Online  CreditCard  \n",
       "0              0                   1           0       0           0  \n",
       "1              0                   1           0       0           0  \n",
       "2              0                   0           0       0           0  \n",
       "3              0                   0           0       0           0  \n",
       "4              0                   0           0       0           1  "
      ]
     },
     "execution_count": 4,
     "metadata": {},
     "output_type": "execute_result"
    }
   ],
   "source": [
    "data_universialBank.head()"
   ]
  },
  {
   "cell_type": "code",
   "execution_count": 5,
   "id": "0d95c90b-99d4-4b49-bd10-4cd3574df2bb",
   "metadata": {},
   "outputs": [
    {
     "name": "stdout",
     "output_type": "stream",
     "text": [
      "<class 'pandas.core.frame.DataFrame'>\n",
      "RangeIndex: 5000 entries, 0 to 4999\n",
      "Data columns (total 14 columns):\n",
      " #   Column              Non-Null Count  Dtype  \n",
      "---  ------              --------------  -----  \n",
      " 0   ID                  5000 non-null   int64  \n",
      " 1   Age                 5000 non-null   int64  \n",
      " 2   Experience          5000 non-null   int64  \n",
      " 3   Income              5000 non-null   int64  \n",
      " 4   ZIP Code            5000 non-null   int64  \n",
      " 5   Family              5000 non-null   int64  \n",
      " 6   CCAvg               5000 non-null   float64\n",
      " 7   Education           5000 non-null   int64  \n",
      " 8   Mortgage            5000 non-null   int64  \n",
      " 9   Personal Loan       5000 non-null   int64  \n",
      " 10  Securities Account  5000 non-null   int64  \n",
      " 11  CD Account          5000 non-null   int64  \n",
      " 12  Online              5000 non-null   int64  \n",
      " 13  CreditCard          5000 non-null   int64  \n",
      "dtypes: float64(1), int64(13)\n",
      "memory usage: 547.0 KB\n"
     ]
    }
   ],
   "source": [
    "# generate a basic summary of the data\n",
    "data_universialBank.info()"
   ]
  },
  {
   "cell_type": "code",
   "execution_count": 6,
   "id": "12f82d1f-aa6c-4132-814a-805b8096b05e",
   "metadata": {},
   "outputs": [
    {
     "data": {
      "text/html": [
       "<div>\n",
       "<style scoped>\n",
       "    .dataframe tbody tr th:only-of-type {\n",
       "        vertical-align: middle;\n",
       "    }\n",
       "\n",
       "    .dataframe tbody tr th {\n",
       "        vertical-align: top;\n",
       "    }\n",
       "\n",
       "    .dataframe thead th {\n",
       "        text-align: right;\n",
       "    }\n",
       "</style>\n",
       "<table border=\"1\" class=\"dataframe\">\n",
       "  <thead>\n",
       "    <tr style=\"text-align: right;\">\n",
       "      <th></th>\n",
       "      <th>ID</th>\n",
       "      <th>Age</th>\n",
       "      <th>Experience</th>\n",
       "      <th>Income</th>\n",
       "      <th>ZIP Code</th>\n",
       "      <th>Family</th>\n",
       "      <th>CCAvg</th>\n",
       "      <th>Education</th>\n",
       "      <th>Mortgage</th>\n",
       "      <th>Personal Loan</th>\n",
       "      <th>Securities Account</th>\n",
       "      <th>CD Account</th>\n",
       "      <th>Online</th>\n",
       "      <th>CreditCard</th>\n",
       "    </tr>\n",
       "  </thead>\n",
       "  <tbody>\n",
       "    <tr>\n",
       "      <th>count</th>\n",
       "      <td>5000.000000</td>\n",
       "      <td>5000.000000</td>\n",
       "      <td>5000.000000</td>\n",
       "      <td>5000.000000</td>\n",
       "      <td>5000.000000</td>\n",
       "      <td>5000.000000</td>\n",
       "      <td>5000.000000</td>\n",
       "      <td>5000.000000</td>\n",
       "      <td>5000.000000</td>\n",
       "      <td>5000.000000</td>\n",
       "      <td>5000.000000</td>\n",
       "      <td>5000.00000</td>\n",
       "      <td>5000.000000</td>\n",
       "      <td>5000.000000</td>\n",
       "    </tr>\n",
       "    <tr>\n",
       "      <th>mean</th>\n",
       "      <td>2500.500000</td>\n",
       "      <td>45.338400</td>\n",
       "      <td>20.104600</td>\n",
       "      <td>73.774200</td>\n",
       "      <td>93152.503000</td>\n",
       "      <td>2.396400</td>\n",
       "      <td>1.937938</td>\n",
       "      <td>1.881000</td>\n",
       "      <td>56.498800</td>\n",
       "      <td>0.096000</td>\n",
       "      <td>0.104400</td>\n",
       "      <td>0.06040</td>\n",
       "      <td>0.596800</td>\n",
       "      <td>0.294000</td>\n",
       "    </tr>\n",
       "    <tr>\n",
       "      <th>std</th>\n",
       "      <td>1443.520003</td>\n",
       "      <td>11.463166</td>\n",
       "      <td>11.467954</td>\n",
       "      <td>46.033729</td>\n",
       "      <td>2121.852197</td>\n",
       "      <td>1.147663</td>\n",
       "      <td>1.747659</td>\n",
       "      <td>0.839869</td>\n",
       "      <td>101.713802</td>\n",
       "      <td>0.294621</td>\n",
       "      <td>0.305809</td>\n",
       "      <td>0.23825</td>\n",
       "      <td>0.490589</td>\n",
       "      <td>0.455637</td>\n",
       "    </tr>\n",
       "    <tr>\n",
       "      <th>min</th>\n",
       "      <td>1.000000</td>\n",
       "      <td>23.000000</td>\n",
       "      <td>-3.000000</td>\n",
       "      <td>8.000000</td>\n",
       "      <td>9307.000000</td>\n",
       "      <td>1.000000</td>\n",
       "      <td>0.000000</td>\n",
       "      <td>1.000000</td>\n",
       "      <td>0.000000</td>\n",
       "      <td>0.000000</td>\n",
       "      <td>0.000000</td>\n",
       "      <td>0.00000</td>\n",
       "      <td>0.000000</td>\n",
       "      <td>0.000000</td>\n",
       "    </tr>\n",
       "    <tr>\n",
       "      <th>25%</th>\n",
       "      <td>1250.750000</td>\n",
       "      <td>35.000000</td>\n",
       "      <td>10.000000</td>\n",
       "      <td>39.000000</td>\n",
       "      <td>91911.000000</td>\n",
       "      <td>1.000000</td>\n",
       "      <td>0.700000</td>\n",
       "      <td>1.000000</td>\n",
       "      <td>0.000000</td>\n",
       "      <td>0.000000</td>\n",
       "      <td>0.000000</td>\n",
       "      <td>0.00000</td>\n",
       "      <td>0.000000</td>\n",
       "      <td>0.000000</td>\n",
       "    </tr>\n",
       "    <tr>\n",
       "      <th>50%</th>\n",
       "      <td>2500.500000</td>\n",
       "      <td>45.000000</td>\n",
       "      <td>20.000000</td>\n",
       "      <td>64.000000</td>\n",
       "      <td>93437.000000</td>\n",
       "      <td>2.000000</td>\n",
       "      <td>1.500000</td>\n",
       "      <td>2.000000</td>\n",
       "      <td>0.000000</td>\n",
       "      <td>0.000000</td>\n",
       "      <td>0.000000</td>\n",
       "      <td>0.00000</td>\n",
       "      <td>1.000000</td>\n",
       "      <td>0.000000</td>\n",
       "    </tr>\n",
       "    <tr>\n",
       "      <th>75%</th>\n",
       "      <td>3750.250000</td>\n",
       "      <td>55.000000</td>\n",
       "      <td>30.000000</td>\n",
       "      <td>98.000000</td>\n",
       "      <td>94608.000000</td>\n",
       "      <td>3.000000</td>\n",
       "      <td>2.500000</td>\n",
       "      <td>3.000000</td>\n",
       "      <td>101.000000</td>\n",
       "      <td>0.000000</td>\n",
       "      <td>0.000000</td>\n",
       "      <td>0.00000</td>\n",
       "      <td>1.000000</td>\n",
       "      <td>1.000000</td>\n",
       "    </tr>\n",
       "    <tr>\n",
       "      <th>max</th>\n",
       "      <td>5000.000000</td>\n",
       "      <td>67.000000</td>\n",
       "      <td>43.000000</td>\n",
       "      <td>224.000000</td>\n",
       "      <td>96651.000000</td>\n",
       "      <td>4.000000</td>\n",
       "      <td>10.000000</td>\n",
       "      <td>3.000000</td>\n",
       "      <td>635.000000</td>\n",
       "      <td>1.000000</td>\n",
       "      <td>1.000000</td>\n",
       "      <td>1.00000</td>\n",
       "      <td>1.000000</td>\n",
       "      <td>1.000000</td>\n",
       "    </tr>\n",
       "  </tbody>\n",
       "</table>\n",
       "</div>"
      ],
      "text/plain": [
       "                ID          Age   Experience       Income      ZIP Code  \\\n",
       "count  5000.000000  5000.000000  5000.000000  5000.000000   5000.000000   \n",
       "mean   2500.500000    45.338400    20.104600    73.774200  93152.503000   \n",
       "std    1443.520003    11.463166    11.467954    46.033729   2121.852197   \n",
       "min       1.000000    23.000000    -3.000000     8.000000   9307.000000   \n",
       "25%    1250.750000    35.000000    10.000000    39.000000  91911.000000   \n",
       "50%    2500.500000    45.000000    20.000000    64.000000  93437.000000   \n",
       "75%    3750.250000    55.000000    30.000000    98.000000  94608.000000   \n",
       "max    5000.000000    67.000000    43.000000   224.000000  96651.000000   \n",
       "\n",
       "            Family        CCAvg    Education     Mortgage  Personal Loan  \\\n",
       "count  5000.000000  5000.000000  5000.000000  5000.000000    5000.000000   \n",
       "mean      2.396400     1.937938     1.881000    56.498800       0.096000   \n",
       "std       1.147663     1.747659     0.839869   101.713802       0.294621   \n",
       "min       1.000000     0.000000     1.000000     0.000000       0.000000   \n",
       "25%       1.000000     0.700000     1.000000     0.000000       0.000000   \n",
       "50%       2.000000     1.500000     2.000000     0.000000       0.000000   \n",
       "75%       3.000000     2.500000     3.000000   101.000000       0.000000   \n",
       "max       4.000000    10.000000     3.000000   635.000000       1.000000   \n",
       "\n",
       "       Securities Account  CD Account       Online   CreditCard  \n",
       "count         5000.000000  5000.00000  5000.000000  5000.000000  \n",
       "mean             0.104400     0.06040     0.596800     0.294000  \n",
       "std              0.305809     0.23825     0.490589     0.455637  \n",
       "min              0.000000     0.00000     0.000000     0.000000  \n",
       "25%              0.000000     0.00000     0.000000     0.000000  \n",
       "50%              0.000000     0.00000     1.000000     0.000000  \n",
       "75%              0.000000     0.00000     1.000000     1.000000  \n",
       "max              1.000000     1.00000     1.000000     1.000000  "
      ]
     },
     "execution_count": 6,
     "metadata": {},
     "output_type": "execute_result"
    }
   ],
   "source": [
    "# generate a statistical summary of the numeric value in the data\n",
    "data_universialBank.describe()"
   ]
  },
  {
   "cell_type": "code",
   "execution_count": 7,
   "id": "c8e42303",
   "metadata": {},
   "outputs": [
    {
     "data": {
      "text/plain": [
       "(5000, 14)"
      ]
     },
     "execution_count": 7,
     "metadata": {},
     "output_type": "execute_result"
    }
   ],
   "source": [
    "data_universialBank.shape"
   ]
  },
  {
   "cell_type": "code",
   "execution_count": 8,
   "id": "485d7575-bf66-47d4-bd96-1d483aa3401e",
   "metadata": {},
   "outputs": [
    {
     "data": {
      "text/plain": [
       "ID                    0\n",
       "Age                   0\n",
       "Experience            0\n",
       "Income                0\n",
       "ZIP Code              0\n",
       "Family                0\n",
       "CCAvg                 0\n",
       "Education             0\n",
       "Mortgage              0\n",
       "Personal Loan         0\n",
       "Securities Account    0\n",
       "CD Account            0\n",
       "Online                0\n",
       "CreditCard            0\n",
       "dtype: int64"
      ]
     },
     "execution_count": 8,
     "metadata": {},
     "output_type": "execute_result"
    }
   ],
   "source": [
    "# Check the missing values by summing the total na's for each variable\n",
    "data_universialBank.isna().sum()"
   ]
  },
  {
   "cell_type": "code",
   "execution_count": 9,
   "id": "465402c3-96b7-487b-9387-756a3dcd9e6a",
   "metadata": {
    "scrolled": true
   },
   "outputs": [
    {
     "data": {
      "text/html": [
       "<style type=\"text/css\">\n",
       "#T_0e501 thead>tr>th {\n",
       "  text-align: left;\n",
       "}\n",
       "#T_0e501_row0_col0, #T_0e501_row1_col0, #T_0e501_row2_col0, #T_0e501_row3_col0, #T_0e501_row4_col0, #T_0e501_row5_col0, #T_0e501_row6_col0, #T_0e501_row7_col0, #T_0e501_row8_col0, #T_0e501_row9_col0, #T_0e501_row10_col0, #T_0e501_row11_col0, #T_0e501_row12_col0, #T_0e501_row13_col0 {\n",
       "  text-align: left;\n",
       "  font-size: 12px;\n",
       "  vertical-align: middle;\n",
       "  width: 5%;\n",
       "  max-width: 50px;\n",
       "  min-width: 20px;\n",
       "}\n",
       "#T_0e501_row0_col1, #T_0e501_row1_col1, #T_0e501_row2_col1, #T_0e501_row3_col1, #T_0e501_row4_col1, #T_0e501_row5_col1, #T_0e501_row6_col1, #T_0e501_row7_col1, #T_0e501_row8_col1, #T_0e501_row9_col1, #T_0e501_row10_col1, #T_0e501_row11_col1, #T_0e501_row12_col1, #T_0e501_row13_col1 {\n",
       "  text-align: left;\n",
       "  font-size: 12px;\n",
       "  vertical-align: middle;\n",
       "  width: 15%;\n",
       "  max-width: 200px;\n",
       "  min-width: 100px;\n",
       "  word-break: break-word;\n",
       "}\n",
       "#T_0e501_row0_col2, #T_0e501_row1_col2, #T_0e501_row2_col2, #T_0e501_row3_col2, #T_0e501_row4_col2, #T_0e501_row5_col2, #T_0e501_row6_col2, #T_0e501_row7_col2, #T_0e501_row8_col2, #T_0e501_row9_col2, #T_0e501_row10_col2, #T_0e501_row11_col2, #T_0e501_row12_col2, #T_0e501_row13_col2 {\n",
       "  text-align: left;\n",
       "  font-size: 12px;\n",
       "  vertical-align: middle;\n",
       "  width: 30%;\n",
       "  min-width: 100px;\n",
       "}\n",
       "#T_0e501_row0_col3, #T_0e501_row1_col3, #T_0e501_row2_col3, #T_0e501_row3_col3, #T_0e501_row4_col3, #T_0e501_row5_col3, #T_0e501_row6_col3, #T_0e501_row7_col3, #T_0e501_row8_col3, #T_0e501_row9_col3, #T_0e501_row10_col3, #T_0e501_row11_col3, #T_0e501_row12_col3, #T_0e501_row13_col3 {\n",
       "  text-align: left;\n",
       "  font-size: 12px;\n",
       "  vertical-align: middle;\n",
       "  width: 25%;\n",
       "  min-width: 100px;\n",
       "}\n",
       "#T_0e501_row0_col4, #T_0e501_row1_col4, #T_0e501_row2_col4, #T_0e501_row3_col4, #T_0e501_row4_col4, #T_0e501_row5_col4, #T_0e501_row6_col4, #T_0e501_row7_col4, #T_0e501_row8_col4, #T_0e501_row9_col4, #T_0e501_row10_col4, #T_0e501_row11_col4, #T_0e501_row12_col4, #T_0e501_row13_col4 {\n",
       "  text-align: left;\n",
       "  font-size: 12px;\n",
       "  vertical-align: middle;\n",
       "  width: 20%;\n",
       "  min-width: 150px;\n",
       "}\n",
       "#T_0e501_row0_col5, #T_0e501_row1_col5, #T_0e501_row2_col5, #T_0e501_row3_col5, #T_0e501_row4_col5, #T_0e501_row5_col5, #T_0e501_row6_col5, #T_0e501_row7_col5, #T_0e501_row8_col5, #T_0e501_row9_col5, #T_0e501_row10_col5, #T_0e501_row11_col5, #T_0e501_row12_col5, #T_0e501_row13_col5 {\n",
       "  text-align: left;\n",
       "  font-size: 12px;\n",
       "  vertical-align: middle;\n",
       "  width: 10%;\n",
       "}\n",
       "</style>\n",
       "<table id=\"T_0e501\">\n",
       "  <caption><strong>Data Frame Summary</strong><br>data_universialBank<br>Dimensions: 5,000 x 14<br>Duplicates: 0</caption>\n",
       "  <thead>\n",
       "    <tr>\n",
       "      <th id=\"T_0e501_level0_col0\" class=\"col_heading level0 col0\" >No</th>\n",
       "      <th id=\"T_0e501_level0_col1\" class=\"col_heading level0 col1\" >Variable</th>\n",
       "      <th id=\"T_0e501_level0_col2\" class=\"col_heading level0 col2\" >Stats / Values</th>\n",
       "      <th id=\"T_0e501_level0_col3\" class=\"col_heading level0 col3\" >Freqs / (% of Valid)</th>\n",
       "      <th id=\"T_0e501_level0_col4\" class=\"col_heading level0 col4\" >Graph</th>\n",
       "      <th id=\"T_0e501_level0_col5\" class=\"col_heading level0 col5\" >Missing</th>\n",
       "    </tr>\n",
       "  </thead>\n",
       "  <tbody>\n",
       "    <tr>\n",
       "      <td id=\"T_0e501_row0_col0\" class=\"data row0 col0\" >1</td>\n",
       "      <td id=\"T_0e501_row0_col1\" class=\"data row0 col1\" ><strong>ID</strong><br>[int64]</td>\n",
       "      <td id=\"T_0e501_row0_col2\" class=\"data row0 col2\" >Mean (sd) : 2500.5 (1443.5)<br>min < med < max:<br>1.0 < 2500.5 < 5000.0<br>IQR (CV) : 2499.5 (1.7)</td>\n",
       "      <td id=\"T_0e501_row0_col3\" class=\"data row0 col3\" >5,000 distinct values</td>\n",
       "      <td id=\"T_0e501_row0_col4\" class=\"data row0 col4\" ><img src = \"data:image/png;base64, iVBORw0KGgoAAAANSUhEUgAAAKoAAABGCAYAAABc8A97AAAAOXRFWHRTb2Z0d2FyZQBNYXRwbG90bGliIHZlcnNpb24zLjYuMiwgaHR0cHM6Ly9tYXRwbG90bGliLm9yZy8o6BhiAAAACXBIWXMAAA9hAAAPYQGoP6dpAAABxklEQVR4nO3XQU7CYBBA4fkbJSCkDSHCAbwBSw7hYT0EJ2DhxhU7EtKUUDEarCcAKTXqS963baczixcSUtM0If132V8fIF3i5rsXUkqDiOhd+f0sIj6vnO06T91Nvbvr/HvTNIdTD8+GmlIaTCaTxzzPx223Ho/H27quH0aj0UuWZR+/OU/dTb37J+Z3u12ZUno6Fet3v6i9PM/Hi8XiUBTFW5vF6/V6vFqt7ufz+fNsNivbzHadp+6m3t11vqqq/nK5HG+3215EXBVqREQURfE2nU5f2ywvy3IQETEcDlvPdp2n7qbe/RPzETE499A/U0IwVCEYqhAMVQiGKgRDFYKhCsFQhWCoQjBUIRiqEAxVCIYqBEMVgqEKwVCFYKhCMFQhGKoQDFUIhioEQxWCoQrBUIVgqEIwVCEYqhAMVQiGKgRDFYKhCsFQhWCoQjBUIRiqEAxVCIYqBEMVgqEKwVCFYKhCMFQhGKoQDFUIhioEQxWCoQrBUIVgqEIwVCEYqhAMVQiGKgRDFYKhCsFQhWCoQjBUIRiqEAxVCIYqBEMVgqEK4eaSl6qq6rf98H6/70dE1HXd32w2d785T91Nvbvr/CV9fQGSljnmc7n3zQAAAABJRU5ErkJggg==\"></img></td>\n",
       "      <td id=\"T_0e501_row0_col5\" class=\"data row0 col5\" >0<br>(0.0%)</td>\n",
       "    </tr>\n",
       "    <tr>\n",
       "      <td id=\"T_0e501_row1_col0\" class=\"data row1 col0\" >2</td>\n",
       "      <td id=\"T_0e501_row1_col1\" class=\"data row1 col1\" ><strong>Age</strong><br>[int64]</td>\n",
       "      <td id=\"T_0e501_row1_col2\" class=\"data row1 col2\" >Mean (sd) : 45.3 (11.5)<br>min < med < max:<br>23.0 < 45.0 < 67.0<br>IQR (CV) : 20.0 (4.0)</td>\n",
       "      <td id=\"T_0e501_row1_col3\" class=\"data row1 col3\" >45 distinct values</td>\n",
       "      <td id=\"T_0e501_row1_col4\" class=\"data row1 col4\" ><img src = \"data:image/png;base64, iVBORw0KGgoAAAANSUhEUgAAAKoAAABGCAYAAABc8A97AAAAOXRFWHRTb2Z0d2FyZQBNYXRwbG90bGliIHZlcnNpb24zLjYuMiwgaHR0cHM6Ly9tYXRwbG90bGliLm9yZy8o6BhiAAAACXBIWXMAAA9hAAAPYQGoP6dpAAACl0lEQVR4nO3czYraUBiA4e/UcYgKCSLozhsodOHSi+jF9hK68Aq8A3eCSMR0gjGmmxbKMFVzfibnC++zPyaLl3B+Ek3TNALE7kvXNwA846XrG4BfxpiRiLxaDr80TfPm8358IdQeMcaMZrPZ9zRNpzbjT6fT0RjzI8ZYCbVfXtM0na7X67csy8o2A/M8TzabzfRwOLyKCKEivCzLyvl8/sti6Mj7zXjCYgoqRP1E7evCAO1FG2qfFwZoL9pQpccLA7QXc6gionNhwJTFv+hD1YYpSxiE6h9TlgAINRCNU5aYsY8KFQgVKhAqVGCO+h8OW0zp7XYb2l63ruuhiKTGGJvhTteOGaF+wGWLqaqqpK7rr2VZ/hSRVoupoiiGVVV9Wy6Xg8Fg0GrHwPXasSPUj1lvMe12u+l2ux1fr9dB24teLpeXJEnGq9WqXCwWx7bjXa4t4vw0Fwl4WEGod9hsMR2PR+ftpclkYrW15XJt16e5SNjDiqChOh4l9na+FSPXp3now4pgoboeJbrOt1iU2LF9mv8R7LAi5BPVep4n4jbfYlHSP8HnqLZHiS7zra4XJfCv14upLhYlCIOTKahAqFCBUKECoUIFQoUKhAoVCBUqECpUIFSoQKhQgVChAqFCBUKFCr1+ewqfy/Fl9bvfWxEqvHB9Wf3R91aECi9cXlZ/5nsrQoVXDt9c3X1Z/WGoXf1jCPCvu6F29Y8hwHuPnqid/GMI8N5Tc9Su/jEE+IsNf6hAqFCBUKECoUIFQoUKhAoVCBUqECpUIFSoQKhQgVChAqFCBUKFCoQKFQgVKhAqVCBUqECoUIFQoQKhQgVChQqEChWe+lw6z/Ok7Q+fz+dERKQoimS/348/c7zWa2u9b9fxz/T1G3IUsuNAX/gHAAAAAElFTkSuQmCC\"></img></td>\n",
       "      <td id=\"T_0e501_row1_col5\" class=\"data row1 col5\" >0<br>(0.0%)</td>\n",
       "    </tr>\n",
       "    <tr>\n",
       "      <td id=\"T_0e501_row2_col0\" class=\"data row2 col0\" >3</td>\n",
       "      <td id=\"T_0e501_row2_col1\" class=\"data row2 col1\" ><strong>Experience</strong><br>[int64]</td>\n",
       "      <td id=\"T_0e501_row2_col2\" class=\"data row2 col2\" >Mean (sd) : 20.1 (11.5)<br>min < med < max:<br>-3.0 < 20.0 < 43.0<br>IQR (CV) : 20.0 (1.8)</td>\n",
       "      <td id=\"T_0e501_row2_col3\" class=\"data row2 col3\" >47 distinct values</td>\n",
       "      <td id=\"T_0e501_row2_col4\" class=\"data row2 col4\" ><img src = \"data:image/png;base64, iVBORw0KGgoAAAANSUhEUgAAAKoAAABGCAYAAABc8A97AAAAOXRFWHRTb2Z0d2FyZQBNYXRwbG90bGliIHZlcnNpb24zLjYuMiwgaHR0cHM6Ly9tYXRwbG90bGliLm9yZy8o6BhiAAAACXBIWXMAAA9hAAAPYQGoP6dpAAACqUlEQVR4nO3dzaraQBiA4W/qUUaFBH/QnTdwoAvBjRfQZS+2l9CFi669A3eCSMT0BGNMNxX6h+b3ZL70ffZjQngdkyAzJk1TAVz3oekTALJ4afoE8DtjTF9EeiU+4pKm6VtV5+MKQq1BidjseDz+5Pv+sOixT6fT0RjzpW2xEmrFjDH9yWTy2fO8Ud6xcRxbEXldrVbfptPpKe/4IAjsZrMZHQ6HnogQKh7qeZ43Wq/Xb77vR3kG7na70Xa7HVhr49ls9r3g8fsFxzmNUGvi+36UN7bj8djKyKrAUz9UIFSoUOtPP69aUJXaQi3z9HvX1lctrnJ5YqlzRi389CtS/lWLyxfdRa5PLLU/9Rd5+v1Foadg1y+6oxqdWJ5p6+sppy+6y5qYWLJoa6gi4u5FR368noIKrZ5Ry0iSpCsinjEm71Dvdrt1azil/xqh/kMYht04jj8uFotOp9PJdY8bx7FNkuQ1iqKvIlL0tgN/cDrUpma1y+XyYq0dLJfLaD6fH/OMvf+x5Hq9dooeH39zNlQXZrXhcKjujyVtvWVxNlRmtfxc+HLXxdlQ7zTOak1p85fb+VCRXxu/3LxHhQqEChUIFSoQKlQgVKhAqFCBUKECoUIFQoUKhAoVCBUqECpUIFSoQKhQgVChAqFCBUKFCoQKFQgVKhAqVCBUqECoUIFQoQKhQgVChQqEChVY0geVKbGSoMiTXWiehlpiGxynlzFEtcqsJCjyfBeah6GW3dLb5WUMUa0yKwlm2YXm2YxaektvV5cxRD2KrCT408PVBDPdo7KlN5rGUz9UIFSoQKhQgVChAqFCBUKFCoQKFQgVKhAqVCBUqECoUIFQoQKhQgVChQqEChUy/R81CAKb94PP57MVEQnD0O73+8F7jtd6bK3nXXZ8lr5+AALbpKa2bWTBAAAAAElFTkSuQmCC\"></img></td>\n",
       "      <td id=\"T_0e501_row2_col5\" class=\"data row2 col5\" >0<br>(0.0%)</td>\n",
       "    </tr>\n",
       "    <tr>\n",
       "      <td id=\"T_0e501_row3_col0\" class=\"data row3 col0\" >4</td>\n",
       "      <td id=\"T_0e501_row3_col1\" class=\"data row3 col1\" ><strong>Income</strong><br>[int64]</td>\n",
       "      <td id=\"T_0e501_row3_col2\" class=\"data row3 col2\" >Mean (sd) : 73.8 (46.0)<br>min < med < max:<br>8.0 < 64.0 < 224.0<br>IQR (CV) : 59.0 (1.6)</td>\n",
       "      <td id=\"T_0e501_row3_col3\" class=\"data row3 col3\" >162 distinct values</td>\n",
       "      <td id=\"T_0e501_row3_col4\" class=\"data row3 col4\" ><img src = \"data:image/png;base64, iVBORw0KGgoAAAANSUhEUgAAAKoAAABGCAYAAABc8A97AAAAOXRFWHRTb2Z0d2FyZQBNYXRwbG90bGliIHZlcnNpb24zLjYuMiwgaHR0cHM6Ly9tYXRwbG90bGliLm9yZy8o6BhiAAAACXBIWXMAAA9hAAAPYQGoP6dpAAACn0lEQVR4nO3cP24aQRiG8XeCsQaj7AqwcOcLWEqB5IYDpMxhc4QUFK65gRuEZCGQiRHLmjRxEcWy2T8Tzzd5fv2yWzyCj9ndccfjUUDsPn30BQCnOAv54c65nqTzBh+xPx6PT21dD+wKFqpzrjcajb5lWTao+xmbzWblnPtOrAj5jXqeZdlgOp0+5Xm+q3rwer32s9ls8PDwcC6JUP9zQX/6JSnP8914PP5Z8/BeqxcDs/gzBRMIFSYQKkwgVJhAqDCBUGECocIEQoUJhAoTCBUmECpMIFSYEPyhlI/Cs7BpiTrUsiy7kjLnXNVD/XA4/Jrneb/uuXkWNi7RhrrdbrtFUXy5vr7udDqdSs+zFkXhJd3c3t7eXV5ebqqem2dh4xNtqPv9/sx7fzGZTHZXV1erKsfe398P5vP5hfe+4FnYNEQb6ot+v1/5wevVakVkiXk31AZ/SrLn5+dujeOAv7wZapMX9Iqi8GVZ3ux2ux+S6v78ApLe/0at/YLey5x4OBw6Da4PkHTijFrnBT3mRLSJO1MwgVBhAqHCBEKFCYQKEwgVJhAqTCBUmECoMIFQYQKhwgRChQmEChMIFSYQKkwgVJhAqDCBUGECocIEQoUJ0W9A8VEa7HslscFa6wj1FU32vZLYYC0EQn1Fk32v2GAtDEJ9Q519r35jT4OWEWoAzLftI9SWMd+GQagtY74Ng1ADqTvflmWZqf7YICU6OhBqRJqODVK6owOhRqTJ2CClPToQaoQaLItJiS6NEWpiUl0aI9SEpLw0RqgJSXlpjFATlOLSGKFCUvxLY4QKSfEvjREq/hDr0hivosAEQoUJhAoTmFHRmpB3xU4Kdb1e+6pnfXx89JK03W79crm8+JfHWz231euWpMVi8TnkXbFfwNullpSitb8AAAAASUVORK5CYII=\"></img></td>\n",
       "      <td id=\"T_0e501_row3_col5\" class=\"data row3 col5\" >0<br>(0.0%)</td>\n",
       "    </tr>\n",
       "    <tr>\n",
       "      <td id=\"T_0e501_row4_col0\" class=\"data row4 col0\" >5</td>\n",
       "      <td id=\"T_0e501_row4_col1\" class=\"data row4 col1\" ><strong>ZIP Code</strong><br>[int64]</td>\n",
       "      <td id=\"T_0e501_row4_col2\" class=\"data row4 col2\" >Mean (sd) : 93152.5 (2121.9)<br>min < med < max:<br>9307.0 < 93437.0 < 96651.0<br>IQR (CV) : 2697.0 (43.9)</td>\n",
       "      <td id=\"T_0e501_row4_col3\" class=\"data row4 col3\" >467 distinct values</td>\n",
       "      <td id=\"T_0e501_row4_col4\" class=\"data row4 col4\" ><img src = \"data:image/png;base64, iVBORw0KGgoAAAANSUhEUgAAAKoAAABGCAYAAABc8A97AAAAOXRFWHRTb2Z0d2FyZQBNYXRwbG90bGliIHZlcnNpb24zLjYuMiwgaHR0cHM6Ly9tYXRwbG90bGliLm9yZy8o6BhiAAAACXBIWXMAAA9hAAAPYQGoP6dpAAABWklEQVR4nO3XQU7CUBiF0fcMQZi8piFhMSzCxboIdkNMOxDigLoCFBoUrzln+nqTf/BNWqdpKvDXPT36ALjG4tEH8H/UWtellOXM+cc0TcdLj0LlLmqt681m89Ja6+fsx3F8q7W+XopVqNzLsrXW73a7Y9d1p1uGwzCs9vt9fzgclqUUofLzuq47bbfb9xnT9VePfqaIIFQiCJUIQiWCUIkgVCIIlQhCJYJQiSBUIgiVCEIlglCJIFQiCJUIQiWCUIkgVCIIlQhCJYJQiSBUIgiVCEIlglCJIFQiCJUIQiWCUIkgVCIIlQhCJYJQiSBUIgiVCEIlglCJIFQiCJUIQiWCUIkgVCIIlQhCJYJQiSBUIgiVCEIlglCJIFQiCJUIQiWCUIkgVCIIlQhCJYJQiSBUIgiVCEIlglCJIFQiCJUIi+8+qLWuSinPv3AL2dr5fF4Mw7C6dXjN5hOFTCkW7hiMLQAAAABJRU5ErkJggg==\"></img></td>\n",
       "      <td id=\"T_0e501_row4_col5\" class=\"data row4 col5\" >0<br>(0.0%)</td>\n",
       "    </tr>\n",
       "    <tr>\n",
       "      <td id=\"T_0e501_row5_col0\" class=\"data row5 col0\" >6</td>\n",
       "      <td id=\"T_0e501_row5_col1\" class=\"data row5 col1\" ><strong>Family</strong><br>[int64]</td>\n",
       "      <td id=\"T_0e501_row5_col2\" class=\"data row5 col2\" >Mean (sd) : 2.4 (1.1)<br>min < med < max:<br>1.0 < 2.0 < 4.0<br>IQR (CV) : 2.0 (2.1)</td>\n",
       "      <td id=\"T_0e501_row5_col3\" class=\"data row5 col3\" >4 distinct values</td>\n",
       "      <td id=\"T_0e501_row5_col4\" class=\"data row5 col4\" ><img src = \"data:image/png;base64, iVBORw0KGgoAAAANSUhEUgAAAKoAAABGCAYAAABc8A97AAAAOXRFWHRTb2Z0d2FyZQBNYXRwbG90bGliIHZlcnNpb24zLjYuMiwgaHR0cHM6Ly9tYXRwbG90bGliLm9yZy8o6BhiAAAACXBIWXMAAA9hAAAPYQGoP6dpAAABwElEQVR4nO3dQYoaURSG0fuCiE5KRHAxLiKLzSLcjYTqQboJqJll0ulWqzRdv5wzth5v8KHU5YLtfD4XTN23r74AXGN26QOttWVVzQee//t8Pr8OfBb++jTU1tpys9l877puPeTwl5eXn621H2JlrEvfqPOu69a73e51tVq93XJw3/eL/X6/PhwO86oSKqNc/OmvqlqtVm/b7fbXgPOXA56Bd7xMEUGoRBAqEYRKhKtephKNnP9WmQFPylOGOnb+W2UGPDVPGWqNmP9WmQFP0bOGWlWj5r9VZsCT8tSh8n89ci9EqNzFo/dChMq9PHQvRKjc1aP2Qgz8iSBUIgiVCEIlglCJ4K1/YizT/JtQJ8QyzceEOi2WaT4g1AmyTPOelykiCJUIQiWCUIkgVCIIlQhCJYJQiSBUIgiVCEIlglCJIFQiCJUIQiWCUIkgVCIIlQhCJYJQiSBUIgiVCEIlglCJIFQiCJUIQiWCUIkgVCIIlQhCJYJQiSBUIgiVCEIlglCJIFQiCJUIQiWCUIkgVCIIlQhX/cVk3/eLWw/u+35xPB5nVdW11m6+2Ejd6XSaDbl31ZfePfXeVSPufs0zfwAygJ+HtCG9ogAAAABJRU5ErkJggg==\"></img></td>\n",
       "      <td id=\"T_0e501_row5_col5\" class=\"data row5 col5\" >0<br>(0.0%)</td>\n",
       "    </tr>\n",
       "    <tr>\n",
       "      <td id=\"T_0e501_row6_col0\" class=\"data row6 col0\" >7</td>\n",
       "      <td id=\"T_0e501_row6_col1\" class=\"data row6 col1\" ><strong>CCAvg</strong><br>[float64]</td>\n",
       "      <td id=\"T_0e501_row6_col2\" class=\"data row6 col2\" >Mean (sd) : 1.9 (1.7)<br>min < med < max:<br>0.0 < 1.5 < 10.0<br>IQR (CV) : 1.8 (1.1)</td>\n",
       "      <td id=\"T_0e501_row6_col3\" class=\"data row6 col3\" >108 distinct values</td>\n",
       "      <td id=\"T_0e501_row6_col4\" class=\"data row6 col4\" ><img src = \"data:image/png;base64, iVBORw0KGgoAAAANSUhEUgAAAKoAAABGCAYAAABc8A97AAAAOXRFWHRTb2Z0d2FyZQBNYXRwbG90bGliIHZlcnNpb24zLjYuMiwgaHR0cHM6Ly9tYXRwbG90bGliLm9yZy8o6BhiAAAACXBIWXMAAA9hAAAPYQGoP6dpAAACtUlEQVR4nO3dMW/aQBiA4e9KQg9Q7RAo2bxmqNQhUpYs3Tr2x3btGCmRurDwD1giJARGuCRYkbuUKlLTgO/i9r7T+8zxkeEFfPiTbaqqEiB0b/73PwAc4mjfHxhjOiLSdlx/W1XVxvFY4LcXQzXGdAaDwZckSfoui69Wq4Ux5iuxwte+T9R2kiT9q6urTZqm93UWzvPc3tzc9OfzeVtECBVe9n71i4ikaXo/Go1+OKzfcTgG+AObKahAqFCBUKECoUIFQoUKhAoVCBUqECpUOOgHf1ePj4/HIpIYY1yXYFYAItJgqEVRHJdl+THLslar1ap1+XWHWQHsNBbqdrs9stZ2Ly4u7s/OzhZ1j2dWAE81+tUvItLr9VznBESYFcAvbKagAqFCBUKFCoQKFQgVKhAqVCBUqECoUIFQoQKhQoXGL6H68Jy+YvIqIsGG6jt9xeRVXIIN1Wf6ismr+AQb6o7H9BWTVxFhMwUVCBUqECpUIFSoQKhQgVChAqFCBUKFCoQKFQgVKhAqVCBUqECoUIFQoQKhQgVChQqEChUIFSoQKlQgVKhAqFCBUKECoUIFQoUKwd+AwhVPDYxLlKHy1MD4RBkqTw2MT5Sh7vDUwHhEHaoP7s0aFkJ9BvdmDQ+hPoN7s4aHUF/AvVnDQaiBMcZ0RKTtsUSU58eE2gCPjZg9PT39nKZpz/W1Yz0/JtRX5rMRK8vSisiHy8vL78PhcFX3tfM8t9fX16P5fD40xtQ+XgL+NCbUV+azEZtOp/3JZNK11pYu58a+v1Ysl8u1MeabiDhdzZMGQyfUhrhsxBaLhdcmzOdNcnd39+729vZTlmXDEC87HxRqnue27sLr9dqKiBRFYWezWfdfHq/1tV/r/3ZRluWRtbZ7fn5uTk5OHuoev9ls3o7H4/cepx0PVVX99Q3yE3eFdiZZs5bkAAAAAElFTkSuQmCC\"></img></td>\n",
       "      <td id=\"T_0e501_row6_col5\" class=\"data row6 col5\" >0<br>(0.0%)</td>\n",
       "    </tr>\n",
       "    <tr>\n",
       "      <td id=\"T_0e501_row7_col0\" class=\"data row7 col0\" >8</td>\n",
       "      <td id=\"T_0e501_row7_col1\" class=\"data row7 col1\" ><strong>Education</strong><br>[int64]</td>\n",
       "      <td id=\"T_0e501_row7_col2\" class=\"data row7 col2\" >Mean (sd) : 1.9 (0.8)<br>min < med < max:<br>1.0 < 2.0 < 3.0<br>IQR (CV) : 2.0 (2.2)</td>\n",
       "      <td id=\"T_0e501_row7_col3\" class=\"data row7 col3\" >3 distinct values</td>\n",
       "      <td id=\"T_0e501_row7_col4\" class=\"data row7 col4\" ><img src = \"data:image/png;base64, iVBORw0KGgoAAAANSUhEUgAAAKoAAABGCAYAAABc8A97AAAAOXRFWHRTb2Z0d2FyZQBNYXRwbG90bGliIHZlcnNpb24zLjYuMiwgaHR0cHM6Ly9tYXRwbG90bGliLm9yZy8o6BhiAAAACXBIWXMAAA9hAAAPYQGoP6dpAAABk0lEQVR4nO3dQWryUBiG0XuLiE4SRHAxLqKL7SLcjZTroC0FTWed/PCrMaF96Tnj5CPKg5Lgh3UYhgK/3dNPXwDcYnHtgFrrupSyHDn/cxiG95Hnwrf/hlprXW+32+eu6zZjhp9Op9da64tYedS1T9Rl13Wb/X7/3vf9xz2DW2urw+GwOR6Py1KKUHnI1a/+Ukrp+/5jt9u9jZi/HnEO/MPNFBGESgShEkGoRBAqEYRKBKESQahEECoRhEoEoRJBqEQQKhGESgShEuGm36PCLeZcWxIqk5h7bUmoTGXWtSWhzuAvb+7OtbYk1InZ3J2HUKdnc3cGQp2Jzd1peY5KBKESQahEECoRhEoEoRJBqEQQKhGESgShEkGoRBAqEYRKBKESQahEECoRhEoEoRJBqEQQKhGESgShEkGoRBAqEYRKBKESQahEECoRhEoEoRJBqEQQKhGESgShEkGoRBAqEYRKBKESQahEECoRhEqEm/65r7W2undwa211Pp8XpZSu1nr3hQXrLpfL4g++Zw+97mvHfAFKNncA+Vzx5gAAAABJRU5ErkJggg==\"></img></td>\n",
       "      <td id=\"T_0e501_row7_col5\" class=\"data row7 col5\" >0<br>(0.0%)</td>\n",
       "    </tr>\n",
       "    <tr>\n",
       "      <td id=\"T_0e501_row8_col0\" class=\"data row8 col0\" >9</td>\n",
       "      <td id=\"T_0e501_row8_col1\" class=\"data row8 col1\" ><strong>Mortgage</strong><br>[int64]</td>\n",
       "      <td id=\"T_0e501_row8_col2\" class=\"data row8 col2\" >Mean (sd) : 56.5 (101.7)<br>min < med < max:<br>0.0 < 0.0 < 635.0<br>IQR (CV) : 101.0 (0.6)</td>\n",
       "      <td id=\"T_0e501_row8_col3\" class=\"data row8 col3\" >347 distinct values</td>\n",
       "      <td id=\"T_0e501_row8_col4\" class=\"data row8 col4\" ><img src = \"data:image/png;base64, iVBORw0KGgoAAAANSUhEUgAAAKoAAABGCAYAAABc8A97AAAAOXRFWHRTb2Z0d2FyZQBNYXRwbG90bGliIHZlcnNpb24zLjYuMiwgaHR0cHM6Ly9tYXRwbG90bGliLm9yZy8o6BhiAAAACXBIWXMAAA9hAAAPYQGoP6dpAAACVklEQVR4nO3Yu47aUBRG4X24yVxkQESmc5OCLgUlTd4gDzttenoeIC+AxMUWHhiQ41RMEyWMj8MMv7O+mrNxsYw3dkVRGPDoGh99AcBbtG59wDnXNbOO5/xzURRHz7PAq7+G6pzrTiaTb2EYjn2Gp2m6c849ESuquvWL2gnDcLxYLI7D4fBUZnCSJMFyuRxvNpuOmREqKrn56DczGw6HpyiKnj3mdz3OAL/hzxQkECokECokECokECokECokECokECokECokECokECokECokECokECokECokECokECokECokECokECokECokECokECokECokECokECokECokECokECokECokECokECokECokECokECokECokECokECokECokECokECokECokECokECokECokECokECokECokECokECokECokECoktO45PM/ztpmFzjnfEeeiKI7/8JIg6m6hZlnWvlwuX+I4bjabzZPPjDRNd865J2LF3UI9n8+tIAh68/n8NJ1Od2XPJ0kSLJfL8Waz6ZgZof7n7vroNzPr9/unKIqefc7meR6a/+rA2lAjdw/VV9XVgbWhXh421CqrA2tD/TxsqFe+q0PFtcGM1eGhPHyoPnjjUD+1DJU3DvVTy1CveONQH7UO1VfV1WG/3x+cc9/NzGftaJjZT49zV7W8Sd4UapIkQdnBh8MhMDPLsixYr9e99zxf9bu32+0gCILebDZzo9HopczZ/X4/WK1WX+M4/lQ28jzP21mWfR4MBj8ajcal3FW/fn+Vm+QjvRRF8cdr/gUXe/CgkWkgVQAAAABJRU5ErkJggg==\"></img></td>\n",
       "      <td id=\"T_0e501_row8_col5\" class=\"data row8 col5\" >0<br>(0.0%)</td>\n",
       "    </tr>\n",
       "    <tr>\n",
       "      <td id=\"T_0e501_row9_col0\" class=\"data row9 col0\" >10</td>\n",
       "      <td id=\"T_0e501_row9_col1\" class=\"data row9 col1\" ><strong>Personal Loan</strong><br>[int64]</td>\n",
       "      <td id=\"T_0e501_row9_col2\" class=\"data row9 col2\" >Mean (sd) : 0.1 (0.3)<br>min < med < max:<br>0.0 < 0.0 < 1.0<br>IQR (CV) : 0.0 (0.3)</td>\n",
       "      <td id=\"T_0e501_row9_col3\" class=\"data row9 col3\" >2 distinct values</td>\n",
       "      <td id=\"T_0e501_row9_col4\" class=\"data row9 col4\" ><img src = \"data:image/png;base64, iVBORw0KGgoAAAANSUhEUgAAAKoAAABGCAYAAABc8A97AAAAOXRFWHRTb2Z0d2FyZQBNYXRwbG90bGliIHZlcnNpb24zLjYuMiwgaHR0cHM6Ly9tYXRwbG90bGliLm9yZy8o6BhiAAAACXBIWXMAAA9hAAAPYQGoP6dpAAABtUlEQVR4nO3XS4qDQBRG4XsbEZ1UIYKLcRFZbBbhbiSUgyiBpHrWk6bzqKRJ/835pnovNTj48JyzAX/dx7sPANyjunWDu7dmVhfuP+Wc18JZ4MvVUN297ft+F0LoSpYvy3Jw9z2x4lm3nqh1CKEbx3GNMW6PLE4pNdM0dfM812ZGqHjKzVe/mVmMcRuG4Viwvy2YAb7hZwoSCBUSCBUSCBUSCBUSCBUSCBUSCBUSCBUSCBUSCBUSCBUSCBUSCBUSCBUSCBUSCBUSCBUSCBUSCBUSCBUSCBUSCBUSCBUSCBUSCBUSCBUSCBUSCBUSCBUSCBUSCBUSCBUSCBUSCBUSCBUSCBUSCBUSCBUSCBUSCBUSCBUSCBUSCBUSCBUSCBUSCBUSCBUSCBUSCBUSCBUSCBUSCBUSCBUSCBUSCBUSqncfAP+Hu7dmVheOn3LO608XCRUv4e5t3/e7EEJXMr8sy8Hd9z/FSqh4lTqE0I3juMYYt0cGU0rNNE3dPM+1mREqfl+McRuG4Vgw2l67yM8UJBAqJBAqJNz1jZpSah5dnFJqzudzZWbB3R8+GOSEy+VSlbZy655P3mhOfRQWeiUAAAAASUVORK5CYII=\"></img></td>\n",
       "      <td id=\"T_0e501_row9_col5\" class=\"data row9 col5\" >0<br>(0.0%)</td>\n",
       "    </tr>\n",
       "    <tr>\n",
       "      <td id=\"T_0e501_row10_col0\" class=\"data row10 col0\" >11</td>\n",
       "      <td id=\"T_0e501_row10_col1\" class=\"data row10 col1\" ><strong>Securities Account</strong><br>[int64]</td>\n",
       "      <td id=\"T_0e501_row10_col2\" class=\"data row10 col2\" >Mean (sd) : 0.1 (0.3)<br>min < med < max:<br>0.0 < 0.0 < 1.0<br>IQR (CV) : 0.0 (0.3)</td>\n",
       "      <td id=\"T_0e501_row10_col3\" class=\"data row10 col3\" >2 distinct values</td>\n",
       "      <td id=\"T_0e501_row10_col4\" class=\"data row10 col4\" ><img src = \"data:image/png;base64, iVBORw0KGgoAAAANSUhEUgAAAKoAAABGCAYAAABc8A97AAAAOXRFWHRTb2Z0d2FyZQBNYXRwbG90bGliIHZlcnNpb24zLjYuMiwgaHR0cHM6Ly9tYXRwbG90bGliLm9yZy8o6BhiAAAACXBIWXMAAA9hAAAPYQGoP6dpAAABtUlEQVR4nO3XTYqDQBCG4apBRDfdiOBhPEQOm0N4GwntIkog6dnNZpj8dDJkvuF9tlpFL16U9pyzAX/dx7sPANyjuvWCu7dmVhfuP+Wc18JZ4MvVUN297ft+F0LoSpYvy3Jw9z2x4lm3vqh1CKEbx3GNMW6PLE4pNdM0dfM812ZGqHjKzV+/mVmMcRuG4Viwvy2YAb7hMgUJhAoJhAoJhAoJhAoJhAoJhAoJhAoJhAoJhAoJhAoJhAoJhAoJhAoJhAoJhAoJhAoJhAoJhAoJhAoJhAoJhAoJhAoJhAoJhAoJhAoJhAoJhAoJhAoJhAoJhAoJhAoJhAoJhAoJhAoJhAoJhAoJhAoJhAoJhAoJhAoJhAoJhAoJhAoJhAoJhAoJhAoJhAoJhAoJhAoJhAoJhAoJhAoJhAoJhAoJ1bsPgP/D3VszqwvHTznn9aeHhIqXcPe27/tdCKErmV+W5eDu+59iJVS8Sh1C6MZxXGOM2yODKaVmmqZunufazAgVvy/GuA3DcCwYba895DIFCYQKCYQKCYQKCXddplJKzaOLU0rN+XyuzCy4+8MHg5xwuVyq0lZuvfMJRbpOfWrrwwoAAAAASUVORK5CYII=\"></img></td>\n",
       "      <td id=\"T_0e501_row10_col5\" class=\"data row10 col5\" >0<br>(0.0%)</td>\n",
       "    </tr>\n",
       "    <tr>\n",
       "      <td id=\"T_0e501_row11_col0\" class=\"data row11 col0\" >12</td>\n",
       "      <td id=\"T_0e501_row11_col1\" class=\"data row11 col1\" ><strong>CD Account</strong><br>[int64]</td>\n",
       "      <td id=\"T_0e501_row11_col2\" class=\"data row11 col2\" >Mean (sd) : 0.1 (0.2)<br>min < med < max:<br>0.0 < 0.0 < 1.0<br>IQR (CV) : 0.0 (0.3)</td>\n",
       "      <td id=\"T_0e501_row11_col3\" class=\"data row11 col3\" >2 distinct values</td>\n",
       "      <td id=\"T_0e501_row11_col4\" class=\"data row11 col4\" ><img src = \"data:image/png;base64, iVBORw0KGgoAAAANSUhEUgAAAKoAAABGCAYAAABc8A97AAAAOXRFWHRTb2Z0d2FyZQBNYXRwbG90bGliIHZlcnNpb24zLjYuMiwgaHR0cHM6Ly9tYXRwbG90bGliLm9yZy8o6BhiAAAACXBIWXMAAA9hAAAPYQGoP6dpAAABtElEQVR4nO3XzYqDMBSG4XMGEd0kiODFeBG92F6EdyMlLqoU2sxuNsP0J+3Q+Yb32SYnZvGi6DlnA/66j3dfALhHdWuDu7dmVheef8o5r4WzwJerobp72/f9LoTQlRy+LMvB3ffEimfdeqPWIYRuHMc1xrg9cnBKqZmmqZvnuTYzQsVTbn76zcxijNswDMeC89uCGeAbfqYggVAhgVAhgVAhgVAhgVAhgVAhgVAhgVAhgVAhgVAhgVAhgVAhgVAhgVAhgVAhgVAhgVAhgVAhgVAhgVAhgVAhgVAhgVAhgVAhgVAhgVAhgVAhgVAhgVAhgVAhgVAhgVAhgVAhgVAhgVAhgVAhgVAhgVAhgVAhgVAhgVAhgVAhgVAhgVAhgVAhgVAhgVAhgVAhgVAhgVAhgVAhgVAhgVAhgVAhgVAhgVAhgVAhgVAhoXr3BfB/uHtrZnXh+CnnvP60SKh4CXdv+77fhRC6kvllWQ7uvv8pVkLFq9QhhG4cxzXGuD0ymFJqpmnq5nmuzYxQ8ftijNswDMeC0fba4l2hppSaR5+aUmrO53NlZsHdHx2HnnC5XKrSVm7t+QSokE59Fc3KYgAAAABJRU5ErkJggg==\"></img></td>\n",
       "      <td id=\"T_0e501_row11_col5\" class=\"data row11 col5\" >0<br>(0.0%)</td>\n",
       "    </tr>\n",
       "    <tr>\n",
       "      <td id=\"T_0e501_row12_col0\" class=\"data row12 col0\" >13</td>\n",
       "      <td id=\"T_0e501_row12_col1\" class=\"data row12 col1\" ><strong>Online</strong><br>[int64]</td>\n",
       "      <td id=\"T_0e501_row12_col2\" class=\"data row12 col2\" >Mean (sd) : 0.6 (0.5)<br>min < med < max:<br>0.0 < 1.0 < 1.0<br>IQR (CV) : 1.0 (1.2)</td>\n",
       "      <td id=\"T_0e501_row12_col3\" class=\"data row12 col3\" >2 distinct values</td>\n",
       "      <td id=\"T_0e501_row12_col4\" class=\"data row12 col4\" ><img src = \"data:image/png;base64, iVBORw0KGgoAAAANSUhEUgAAAKoAAABGCAYAAABc8A97AAAAOXRFWHRTb2Z0d2FyZQBNYXRwbG90bGliIHZlcnNpb24zLjYuMiwgaHR0cHM6Ly9tYXRwbG90bGliLm9yZy8o6BhiAAAACXBIWXMAAA9hAAAPYQGoP6dpAAABe0lEQVR4nO3dQWrCQBiG4ZkiopsEETyMh+hhewhvI2VcVCloegJrFIP9yvNsJxNm8RKYxU/qMAwF/rq3Vx8Axpi9+gD8H7XWZSll/uD272EYjtcWhcpT1FqX6/X6veu61SP7D4fDZ63141qsQuVZ5l3Xrbbb7bHv+9M9G1tri91ut9rv9/NSilCZXt/3p81m8/XA1uVviy5TRBAqEYRKBKESQahEECoRhEoEoRJBqEQQKhGESgShEkGoRBAqEYRKBKESQahEECoRbo6iTDlZCGP9GurUk4Uw1q0v6qSThTDWqCnUqSYLYSyXKSIIlQhCJYJQiSBUIgiVCEIlglCJIFQiCJUIQiWCUIkgVCIIlQhCJYJQiSBUIgiVCEIlglCJIFQiCJUIQiWCUIkgVCIIlQhCJYJQiSBUIgiVCEIlglCJIFQiCJUIQiWCUIkgVCIIlQhCJYJQiSBUIoz6c19rbXHvi1tri/P5PCuldLXWuw9GnO5yucwebeXWMz8zSk59+YmGcQAAAABJRU5ErkJggg==\"></img></td>\n",
       "      <td id=\"T_0e501_row12_col5\" class=\"data row12 col5\" >0<br>(0.0%)</td>\n",
       "    </tr>\n",
       "    <tr>\n",
       "      <td id=\"T_0e501_row13_col0\" class=\"data row13 col0\" >14</td>\n",
       "      <td id=\"T_0e501_row13_col1\" class=\"data row13 col1\" ><strong>CreditCard</strong><br>[int64]</td>\n",
       "      <td id=\"T_0e501_row13_col2\" class=\"data row13 col2\" >Mean (sd) : 0.3 (0.5)<br>min < med < max:<br>0.0 < 0.0 < 1.0<br>IQR (CV) : 1.0 (0.6)</td>\n",
       "      <td id=\"T_0e501_row13_col3\" class=\"data row13 col3\" >2 distinct values</td>\n",
       "      <td id=\"T_0e501_row13_col4\" class=\"data row13 col4\" ><img src = \"data:image/png;base64, iVBORw0KGgoAAAANSUhEUgAAAKoAAABGCAYAAABc8A97AAAAOXRFWHRTb2Z0d2FyZQBNYXRwbG90bGliIHZlcnNpb24zLjYuMiwgaHR0cHM6Ly9tYXRwbG90bGliLm9yZy8o6BhiAAAACXBIWXMAAA9hAAAPYQGoP6dpAAABgElEQVR4nO3dQWrCQBiG4ZkiopsEETyMh+hhewhvI2VcVClouuumUGNU2g+eZ535mcVLwmwydRiGAv/dy19vAMaYXXug1rospcwnzv8chuE4cS18+zXUWutyvV6/dl23mjL8cDi811rfxMq9rr1R513Xrbbb7bHv+9Mtg1tri91ut9rv9/NSilC5y9VPfyml9H1/2mw2HxPmLyesgR8cpoggVCIIlQhCJYJQiSBUIgiVCEIlglCJIFQiCJUIQiWCUIkgVCIIlQhCJYJQiSBUIgiVCEIlglCJIFQiCJUIQiWCUIkgVCIIlQhCJYJQiSBUIgiVCEIlglCJIFQiCJUIo/7hD2M886onofIQz77qSag8ylOvehIqD/Wsq54cpoggVCIIlQhCJYJQiSBUIgiVCEIlglCJIFQiCJUIQiWCUIkgVCIIlQhCJYJQiSBUIgiVCEIlglCJIFQiCJUIQiXCqB9QtNYWtw5urS3O5/OslNLVWm/eGHG6y+Uym9rKtWe+AFduTn15DzUNAAAAAElFTkSuQmCC\"></img></td>\n",
       "      <td id=\"T_0e501_row13_col5\" class=\"data row13 col5\" >0<br>(0.0%)</td>\n",
       "    </tr>\n",
       "  </tbody>\n",
       "</table>\n"
      ],
      "text/plain": [
       "<pandas.io.formats.style.Styler at 0x25a1f407f10>"
      ]
     },
     "execution_count": 9,
     "metadata": {},
     "output_type": "execute_result"
    }
   ],
   "source": [
    "# summary of your data\n",
    "dfSummary(data_universialBank)"
   ]
  },
  {
   "cell_type": "code",
   "execution_count": 10,
   "id": "3d67828d",
   "metadata": {},
   "outputs": [
    {
     "data": {
      "text/plain": [
       "Index(['ID', 'Age', 'Experience', 'Income', 'ZIP Code', 'Family', 'CCAvg',\n",
       "       'Education', 'Mortgage', 'Personal Loan', 'Securities Account',\n",
       "       'CD Account', 'Online', 'CreditCard'],\n",
       "      dtype='object')"
      ]
     },
     "execution_count": 10,
     "metadata": {},
     "output_type": "execute_result"
    }
   ],
   "source": [
    "data_universialBank.columns"
   ]
  },
  {
   "cell_type": "markdown",
   "id": "353a302f",
   "metadata": {},
   "source": [
    "# Drop the ID and ZIP code"
   ]
  },
  {
   "cell_type": "code",
   "execution_count": 11,
   "id": "abd3967f-eed7-45df-87f3-dfb1fcd5aaab",
   "metadata": {},
   "outputs": [],
   "source": [
    "# drop ID, and Zip Code as predictors\n",
    "data_universialBank = data_universialBank.drop(columns=['ID', 'ZIP Code'])"
   ]
  },
  {
   "cell_type": "code",
   "execution_count": 12,
   "id": "47499be8-c101-4bbb-8a7b-b4d9da31b436",
   "metadata": {},
   "outputs": [
    {
     "data": {
      "text/plain": [
       "Index(['Age', 'Experience', 'Income', 'Family', 'CCAvg', 'Education',\n",
       "       'Mortgage', 'Personal Loan', 'Securities Account', 'CD Account',\n",
       "       'Online', 'CreditCard'],\n",
       "      dtype='object')"
      ]
     },
     "execution_count": 12,
     "metadata": {},
     "output_type": "execute_result"
    }
   ],
   "source": [
    "data_universialBank.columns"
   ]
  },
  {
   "cell_type": "markdown",
   "id": "5ea28499-f456-4dda-b803-13ead8410df6",
   "metadata": {},
   "source": [
    "# Split into the Training and Test Data"
   ]
  },
  {
   "cell_type": "code",
   "execution_count": 13,
   "id": "3ed117dd-1d86-4422-ae15-e4d22f4a01ed",
   "metadata": {},
   "outputs": [],
   "source": [
    "X = data_universialBank.drop('Securities Account', axis=1)\n",
    "y=data_universialBank['Securities Account']"
   ]
  },
  {
   "cell_type": "code",
   "execution_count": 14,
   "id": "84670359-af28-4ab5-9b82-5b57c4cca50e",
   "metadata": {},
   "outputs": [],
   "source": [
    "X_train,X_test, y_train, y_test=train_test_split(X, y, test_size=1/3, random_state=1)"
   ]
  },
  {
   "cell_type": "markdown",
   "id": "7fc79431-12fb-4aaa-bcee-0a1b48c1dc48",
   "metadata": {},
   "source": [
    "# Scaling by using the Standard Scaler"
   ]
  },
  {
   "cell_type": "code",
   "execution_count": 15,
   "id": "8101c4bc-6b44-4c66-8e56-ffd2eb5fe051",
   "metadata": {},
   "outputs": [],
   "source": [
    "standard_scaler = StandardScaler()\n",
    "X_train = standard_scaler.fit_transform(X_train)\n",
    "X_test = standard_scaler.transform(X_test)"
   ]
  },
  {
   "cell_type": "code",
   "execution_count": 16,
   "id": "fdbcb2ff-92ee-4e39-bf04-6e3b535185d8",
   "metadata": {},
   "outputs": [],
   "source": [
    "performance = pd.DataFrame({\"model\": [], \"Accuracy\": [], \"Precision\": [], \"Recall\": [], \"F1\": []})"
   ]
  },
  {
   "cell_type": "markdown",
   "id": "a4c27d65-fcef-44fd-9ed2-1e580c8fd3f9",
   "metadata": {
    "tags": []
   },
   "source": [
    "# Logistic Regression"
   ]
  },
  {
   "cell_type": "code",
   "execution_count": 17,
   "id": "4aa23183-55e4-4bdf-8538-9c0f77f3fde4",
   "metadata": {},
   "outputs": [],
   "source": [
    "logisticregression = LogisticRegression().fit(X_train, np.ravel(y_train))\n",
    "out_logisticregression= logisticregression.predict(X_test)"
   ]
  },
  {
   "cell_type": "code",
   "execution_count": 18,
   "id": "cf4f4fd1-b0cb-4eec-8b71-4e8d53ed8f31",
   "metadata": {},
   "outputs": [],
   "source": [
    "c_matrix = confusion_matrix(y_test,out_logisticregression)\n",
    "TP = c_matrix[1][1]\n",
    "TN = c_matrix[0][0]\n",
    "FP = c_matrix[0][1]\n",
    "FN = c_matrix[1][0]\n",
    "performance = pd.concat([performance, pd.DataFrame({'model':\"Logistic Regression\", \n",
    "                                                    'Accuracy': [(TP+TN)/(TP+TN+FP+FN)], \n",
    "                                                    'Precision': [TP/(TP+FP)], \n",
    "                                                    'Recall': [TP/(TP+FN)], \n",
    "                                                    'F1': [2*TP/(2*TP+FP+FN)]\n",
    "                                                     }, index=[0])])"
   ]
  },
  {
   "cell_type": "markdown",
   "id": "bd88aca1-e01b-483b-87d9-6cabd888d517",
   "metadata": {},
   "source": [
    "# Linear SVM Model"
   ]
  },
  {
   "cell_type": "code",
   "execution_count": 19,
   "id": "a2857c31-23b4-4ce6-9ba7-1df64429ecf8",
   "metadata": {},
   "outputs": [],
   "source": [
    "linear_svm=SVC(kernel=\"linear\").fit(X_train,np.ravel(y_train))\n",
    "out_linearSVM=linear_svm.predict(X_test)"
   ]
  },
  {
   "cell_type": "code",
   "execution_count": 20,
   "id": "ddf0f2ed-659a-4bd4-afc8-1b9c85275247",
   "metadata": {},
   "outputs": [],
   "source": [
    "c_matrix = confusion_matrix(y_test, out_linearSVM)\n",
    "TP = c_matrix[1][1]\n",
    "TN = c_matrix[0][0]\n",
    "FP = c_matrix[0][1]\n",
    "FN = c_matrix[1][0]\n",
    "performance = pd.concat([performance, pd.DataFrame({'model':\"Linear SVM\", \n",
    "                                                    'Accuracy': [(TP+TN)/(TP+TN+FP+FN)], \n",
    "                                                    'Precision': [TP/(TP+FP)], \n",
    "                                                    'Recall': [TP/(TP+FN)], \n",
    "                                                    'F1': [2*TP/(2*TP+FP+FN)]\n",
    "                                                     }, index=[0])])"
   ]
  },
  {
   "cell_type": "markdown",
   "id": "f86a6889-68a3-47b8-b30f-97287d2fca56",
   "metadata": {},
   "source": [
    "# Radial basis function kernel with SVC classifier"
   ]
  },
  {
   "cell_type": "code",
   "execution_count": 21,
   "id": "0e9168c7-b3b7-4939-b0ef-6e7fd1f44b87",
   "metadata": {},
   "outputs": [],
   "source": [
    "radialbasis_model= SVC(kernel=\"rbf\", C=10, gamma=0.01).fit(X_train,np.ravel(y_train))\n",
    "radialbasis_model_out=radialbasis_model.predict(X_test)"
   ]
  },
  {
   "cell_type": "code",
   "execution_count": 22,
   "id": "5b07ece9-b854-4f3a-a7bb-b5bc3d048993",
   "metadata": {},
   "outputs": [],
   "source": [
    "c_matrix = confusion_matrix(y_test, radialbasis_model_out)\n",
    "TP = c_matrix[1][1]\n",
    "TN = c_matrix[0][0]\n",
    "FP = c_matrix[0][1]\n",
    "FN = c_matrix[1][0]\n",
    "performance = pd.concat([performance, pd.DataFrame({'model':\"Radial basis function with SVC\", \n",
    "                                                    'Accuracy': [(TP+TN)/(TP+TN+FP+FN)], \n",
    "                                                    'Precision': [TP/(TP+FP)], \n",
    "                                                    'Recall': [TP/(TP+FN)], \n",
    "                                                    'F1': [2*TP/(2*TP+FP+FN)]\n",
    "                                                     }, index=[0])])"
   ]
  },
  {
   "cell_type": "markdown",
   "id": "883e1c3f-c74e-45e2-9efb-adc6c041b081",
   "metadata": {},
   "source": [
    "# Poly Kernal With SVM"
   ]
  },
  {
   "cell_type": "code",
   "execution_count": 23,
   "id": "a0b91665-c52f-4218-9a01-88ab1163e0e2",
   "metadata": {},
   "outputs": [],
   "source": [
    "polykernal_svm = SVC(kernel=\"poly\", degree=3, coef0=1, C=10,gamma=0.01).fit(X_train,np.ravel(y_train))\n",
    "polykernal_svm_out=polykernal_svm.predict(X_test)"
   ]
  },
  {
   "cell_type": "code",
   "execution_count": 24,
   "id": "d056ede8-fe4a-4708-a8de-18eb376cf719",
   "metadata": {},
   "outputs": [],
   "source": [
    "c_matrix = confusion_matrix(y_test, polykernal_svm_out)\n",
    "TP = c_matrix[1][1]\n",
    "TN = c_matrix[0][0]\n",
    "FP = c_matrix[0][1]\n",
    "FN = c_matrix[1][0]\n",
    "performance = pd.concat([performance, pd.DataFrame({'model':\"Poly Kernal SVM\", \n",
    "                                                    'Accuracy': [(TP+TN)/(TP+TN+FP+FN)], \n",
    "                                                    'Precision': [TP/(TP+FP)], \n",
    "                                                    'Recall': [TP/(TP+FN)], \n",
    "                                                    'F1': [2*TP/(2*TP+FP+FN)]\n",
    "                                                     }, index=[0])])"
   ]
  },
  {
   "cell_type": "markdown",
   "id": "65c267cc-87fd-4fb8-bb35-72ba9943bb81",
   "metadata": {},
   "source": [
    "# Decision Trees"
   ]
  },
  {
   "cell_type": "code",
   "execution_count": 25,
   "id": "57831016-8469-4d34-8bf4-95391dfc8280",
   "metadata": {},
   "outputs": [],
   "source": [
    "decisiontree = DecisionTreeClassifier().fit(X_train, np.ravel(y_train))\n",
    "decisiontree_out=decisiontree.predict(X_test)"
   ]
  },
  {
   "cell_type": "code",
   "execution_count": 26,
   "id": "443777ec-6ee3-4396-827b-95cd5e2b6e5e",
   "metadata": {},
   "outputs": [],
   "source": [
    "c_matrix = confusion_matrix(y_test, decisiontree_out)\n",
    "TP = c_matrix[1][1]\n",
    "TN = c_matrix[0][0]\n",
    "FP = c_matrix[0][1]\n",
    "FN = c_matrix[1][0]\n",
    "performance = pd.concat([performance, pd.DataFrame({'model':\"Decision Tree\", \n",
    "                                                    'Accuracy': [(TP+TN)/(TP+TN+FP+FN)], \n",
    "                                                    'Precision': [TP/(TP+FP)], \n",
    "                                                    'Recall': [TP/(TP+FN)], \n",
    "                                                    'F1': [2*TP/(2*TP+FP+FN)]\n",
    "                                                     }, index=[0])])"
   ]
  },
  {
   "cell_type": "code",
   "execution_count": 27,
   "id": "2dc4e849-07d6-49a9-98cb-82e47066ade7",
   "metadata": {},
   "outputs": [
    {
     "data": {
      "text/html": [
       "<div>\n",
       "<style scoped>\n",
       "    .dataframe tbody tr th:only-of-type {\n",
       "        vertical-align: middle;\n",
       "    }\n",
       "\n",
       "    .dataframe tbody tr th {\n",
       "        vertical-align: top;\n",
       "    }\n",
       "\n",
       "    .dataframe thead th {\n",
       "        text-align: right;\n",
       "    }\n",
       "</style>\n",
       "<table border=\"1\" class=\"dataframe\">\n",
       "  <thead>\n",
       "    <tr style=\"text-align: right;\">\n",
       "      <th></th>\n",
       "      <th>model</th>\n",
       "      <th>Accuracy</th>\n",
       "      <th>Precision</th>\n",
       "      <th>Recall</th>\n",
       "      <th>F1</th>\n",
       "    </tr>\n",
       "  </thead>\n",
       "  <tbody>\n",
       "    <tr>\n",
       "      <th>0</th>\n",
       "      <td>Decision Tree</td>\n",
       "      <td>0.828434</td>\n",
       "      <td>0.243902</td>\n",
       "      <td>0.276243</td>\n",
       "      <td>0.259067</td>\n",
       "    </tr>\n",
       "    <tr>\n",
       "      <th>0</th>\n",
       "      <td>Linear SVM</td>\n",
       "      <td>0.896221</td>\n",
       "      <td>0.568966</td>\n",
       "      <td>0.182320</td>\n",
       "      <td>0.276151</td>\n",
       "    </tr>\n",
       "    <tr>\n",
       "      <th>0</th>\n",
       "      <td>Logistic Regression</td>\n",
       "      <td>0.899220</td>\n",
       "      <td>0.591549</td>\n",
       "      <td>0.232044</td>\n",
       "      <td>0.333333</td>\n",
       "    </tr>\n",
       "    <tr>\n",
       "      <th>0</th>\n",
       "      <td>Radial basis function with SVC</td>\n",
       "      <td>0.901620</td>\n",
       "      <td>0.619718</td>\n",
       "      <td>0.243094</td>\n",
       "      <td>0.349206</td>\n",
       "    </tr>\n",
       "    <tr>\n",
       "      <th>0</th>\n",
       "      <td>Poly Kernal SVM</td>\n",
       "      <td>0.902220</td>\n",
       "      <td>0.625000</td>\n",
       "      <td>0.248619</td>\n",
       "      <td>0.355731</td>\n",
       "    </tr>\n",
       "  </tbody>\n",
       "</table>\n",
       "</div>"
      ],
      "text/plain": [
       "                            model  Accuracy  Precision    Recall        F1\n",
       "0                   Decision Tree  0.828434   0.243902  0.276243  0.259067\n",
       "0                      Linear SVM  0.896221   0.568966  0.182320  0.276151\n",
       "0             Logistic Regression  0.899220   0.591549  0.232044  0.333333\n",
       "0  Radial basis function with SVC  0.901620   0.619718  0.243094  0.349206\n",
       "0                 Poly Kernal SVM  0.902220   0.625000  0.248619  0.355731"
      ]
     },
     "execution_count": 27,
     "metadata": {},
     "output_type": "execute_result"
    }
   ],
   "source": [
    "performance.sort_values(['Precision'])"
   ]
  },
  {
   "cell_type": "markdown",
   "id": "1011bdbf-29bf-4e48-8c52-4cf8b2291460",
   "metadata": {},
   "source": [
    "# Grid Search CV for logistic model"
   ]
  },
  {
   "cell_type": "code",
   "execution_count": 38,
   "id": "8c018bd9-8669-4378-b68f-e7aa8b88b975",
   "metadata": {},
   "outputs": [
    {
     "name": "stdout",
     "output_type": "stream",
     "text": [
      "Fitting 5 folds for each of 36 candidates, totalling 180 fits\n",
      "The best precision score is 0.8823529411764707\n",
      "... with parameters: {'C': 0.03162277660168379, 'penalty': 'l1', 'solver': 'liblinear'}\n"
     ]
    },
    {
     "name": "stderr",
     "output_type": "stream",
     "text": [
      "C:\\Users\\mssur\\anaconda3\\lib\\site-packages\\sklearn\\model_selection\\_validation.py:378: FitFailedWarning: \n",
      "45 fits failed out of a total of 180.\n",
      "The score on these train-test partitions for these parameters will be set to nan.\n",
      "If these failures are not expected, you can try to debug them by setting error_score='raise'.\n",
      "\n",
      "Below are more details about the failures:\n",
      "--------------------------------------------------------------------------------\n",
      "45 fits failed with the following error:\n",
      "Traceback (most recent call last):\n",
      "  File \"C:\\Users\\mssur\\anaconda3\\lib\\site-packages\\sklearn\\model_selection\\_validation.py\", line 686, in _fit_and_score\n",
      "    estimator.fit(X_train, y_train, **fit_params)\n",
      "  File \"C:\\Users\\mssur\\anaconda3\\lib\\site-packages\\sklearn\\linear_model\\_logistic.py\", line 1162, in fit\n",
      "    solver = _check_solver(self.solver, self.penalty, self.dual)\n",
      "  File \"C:\\Users\\mssur\\anaconda3\\lib\\site-packages\\sklearn\\linear_model\\_logistic.py\", line 54, in _check_solver\n",
      "    raise ValueError(\n",
      "ValueError: Solver lbfgs supports only 'l2' or 'none' penalties, got l1 penalty.\n",
      "\n",
      "  warnings.warn(some_fits_failed_message, FitFailedWarning)\n",
      "C:\\Users\\mssur\\anaconda3\\lib\\site-packages\\sklearn\\model_selection\\_search.py:952: UserWarning: One or more of the test scores are non-finite: [       nan 0.         0.         0.54159664        nan 0.\n",
      " 0.         0.73809524        nan 0.88235294 0.62813652 0.59807692\n",
      "        nan 0.61993569 0.62609524 0.62425616        nan 0.61623199\n",
      " 0.62472872 0.61623199        nan 0.61623199 0.62288964 0.625599\n",
      "        nan 0.62821338 0.62821338 0.62821338        nan 0.62821338\n",
      " 0.62821338 0.62821338        nan 0.62821338 0.62821338 0.62821338]\n",
      "  warnings.warn(\n",
      "C:\\Users\\mssur\\anaconda3\\lib\\site-packages\\sklearn\\model_selection\\_search.py:952: UserWarning: One or more of the train scores are non-finite: [       nan 0.         0.         0.75259944        nan 0.\n",
      " 0.6        0.62804843        nan 0.92873563 0.65171065 0.64059524\n",
      "        nan 0.63887635 0.6461099  0.6463607         nan 0.63837268\n",
      " 0.64588252 0.64449394        nan 0.6407074  0.64083583 0.64083583\n",
      "        nan 0.64083583 0.64083583 0.64083583        nan 0.64083583\n",
      " 0.64083583 0.64083583        nan 0.64083583 0.64083583 0.64083583]\n",
      "  warnings.warn(\n"
     ]
    }
   ],
   "source": [
    "score_measure = \"precision\"\n",
    "kfolds = 5\n",
    "\n",
    "param_grid = {\n",
    "    'penalty' : ['l1','l2'], \n",
    "    'C'       : np.logspace(-3,3,9),\n",
    "    'solver'  : ['lbfgs', 'liblinear'],\n",
    "}\n",
    "\n",
    "gridsearch_CV = LogisticRegression()\n",
    "gridsearch_CV_out = GridSearchCV(estimator = gridsearch_CV, param_grid=param_grid, cv=kfolds, \n",
    "                           scoring=score_measure, verbose=1, n_jobs=-1,  # n_jobs=-1 will utilize all available CPUs \n",
    "                           return_train_score=True)\n",
    "\n",
    "_ = gridsearch_CV_out.fit(X_train, y_train)\n",
    "\n",
    "print(f\"The best {score_measure} score is {gridsearch_CV_out.best_score_}\")\n",
    "print(f\"... with parameters: {gridsearch_CV_out.best_params_}\")\n",
    "\n",
    "precision_best = gridsearch_CV_out.best_estimator_"
   ]
  },
  {
   "cell_type": "markdown",
   "id": "37be432e-a0e1-4c5f-95f0-74eaa6870141",
   "metadata": {},
   "source": [
    "# Random search CV with logistic regression"
   ]
  },
  {
   "cell_type": "code",
   "execution_count": 39,
   "id": "f802770d-c926-4426-a768-9744e5b43172",
   "metadata": {},
   "outputs": [
    {
     "name": "stderr",
     "output_type": "stream",
     "text": [
      "C:\\Users\\mssur\\anaconda3\\lib\\site-packages\\sklearn\\model_selection\\_search.py:305: UserWarning: The total space of parameters 54 is smaller than n_iter=500. Running 54 iterations. For exhaustive searches, use GridSearchCV.\n",
      "  warnings.warn(\n"
     ]
    },
    {
     "name": "stdout",
     "output_type": "stream",
     "text": [
      "Fitting 5 folds for each of 54 candidates, totalling 270 fits\n",
      "The best precision score is 0.8823529411764707\n",
      "... with parameters: {'solver': 'liblinear', 'penalty': 'l1', 'C': 0.03162277660168379}\n"
     ]
    },
    {
     "name": "stderr",
     "output_type": "stream",
     "text": [
      "C:\\Users\\mssur\\anaconda3\\lib\\site-packages\\sklearn\\model_selection\\_validation.py:378: FitFailedWarning: \n",
      "90 fits failed out of a total of 270.\n",
      "The score on these train-test partitions for these parameters will be set to nan.\n",
      "If these failures are not expected, you can try to debug them by setting error_score='raise'.\n",
      "\n",
      "Below are more details about the failures:\n",
      "--------------------------------------------------------------------------------\n",
      "45 fits failed with the following error:\n",
      "Traceback (most recent call last):\n",
      "  File \"C:\\Users\\mssur\\anaconda3\\lib\\site-packages\\sklearn\\model_selection\\_validation.py\", line 686, in _fit_and_score\n",
      "    estimator.fit(X_train, y_train, **fit_params)\n",
      "  File \"C:\\Users\\mssur\\anaconda3\\lib\\site-packages\\sklearn\\linear_model\\_logistic.py\", line 1162, in fit\n",
      "    solver = _check_solver(self.solver, self.penalty, self.dual)\n",
      "  File \"C:\\Users\\mssur\\anaconda3\\lib\\site-packages\\sklearn\\linear_model\\_logistic.py\", line 54, in _check_solver\n",
      "    raise ValueError(\n",
      "ValueError: Solver newton-cg supports only 'l2' or 'none' penalties, got l1 penalty.\n",
      "\n",
      "--------------------------------------------------------------------------------\n",
      "45 fits failed with the following error:\n",
      "Traceback (most recent call last):\n",
      "  File \"C:\\Users\\mssur\\anaconda3\\lib\\site-packages\\sklearn\\model_selection\\_validation.py\", line 686, in _fit_and_score\n",
      "    estimator.fit(X_train, y_train, **fit_params)\n",
      "  File \"C:\\Users\\mssur\\anaconda3\\lib\\site-packages\\sklearn\\linear_model\\_logistic.py\", line 1162, in fit\n",
      "    solver = _check_solver(self.solver, self.penalty, self.dual)\n",
      "  File \"C:\\Users\\mssur\\anaconda3\\lib\\site-packages\\sklearn\\linear_model\\_logistic.py\", line 54, in _check_solver\n",
      "    raise ValueError(\n",
      "ValueError: Solver lbfgs supports only 'l2' or 'none' penalties, got l1 penalty.\n",
      "\n",
      "  warnings.warn(some_fits_failed_message, FitFailedWarning)\n",
      "C:\\Users\\mssur\\anaconda3\\lib\\site-packages\\sklearn\\model_selection\\_search.py:952: UserWarning: One or more of the test scores are non-finite: [       nan        nan 0.         0.         0.         0.54159664\n",
      "        nan        nan 0.         0.         0.         0.73809524\n",
      "        nan        nan 0.88235294 0.62813652 0.62813652 0.59807692\n",
      "        nan        nan 0.61993569 0.62609524 0.62609524 0.62425616\n",
      "        nan        nan 0.61623199 0.62472872 0.62472872 0.61623199\n",
      "        nan        nan 0.61623199 0.62288964 0.62288964 0.625599\n",
      "        nan        nan 0.62821338 0.62821338 0.62821338 0.62821338\n",
      "        nan        nan 0.62821338 0.62821338 0.62821338 0.62821338\n",
      "        nan        nan 0.62821338 0.62821338 0.62821338 0.62821338]\n",
      "  warnings.warn(\n",
      "C:\\Users\\mssur\\anaconda3\\lib\\site-packages\\sklearn\\model_selection\\_search.py:952: UserWarning: One or more of the train scores are non-finite: [       nan        nan 0.         0.         0.         0.75259944\n",
      "        nan        nan 0.         0.6        0.6        0.62804843\n",
      "        nan        nan 0.92873563 0.65171065 0.65171065 0.64059524\n",
      "        nan        nan 0.63887635 0.6461099  0.6461099  0.6463607\n",
      "        nan        nan 0.63837268 0.64588252 0.64588252 0.64449394\n",
      "        nan        nan 0.6407074  0.64083583 0.64083583 0.64083583\n",
      "        nan        nan 0.64083583 0.64083583 0.64083583 0.64083583\n",
      "        nan        nan 0.64083583 0.64083583 0.64083583 0.64083583\n",
      "        nan        nan 0.64083583 0.64083583 0.64083583 0.64083583]\n",
      "  warnings.warn(\n"
     ]
    }
   ],
   "source": [
    "score_measure = \"precision\"\n",
    "kfolds = 5\n",
    "\n",
    "param_grid = {\n",
    "    'penalty' : ['l1','l2'], \n",
    "    'C'       : np.logspace(-3,3,9),\n",
    "    'solver'  : ['newton-cg', 'lbfgs', 'liblinear'],\n",
    "}\n",
    "\n",
    "randomsearch_logisticregression = LogisticRegression()\n",
    "randomsearch_logisticregression_out = RandomizedSearchCV(estimator = randomsearch_logisticregression, param_distributions=param_grid, cv=kfolds, n_iter=500,\n",
    "                           scoring=score_measure, verbose=1, n_jobs=-1,  # n_jobs=-1 will utilize all available CPUs \n",
    "                           return_train_score=True)\n",
    "\n",
    "_ = randomsearch_logisticregression_out.fit(X_train, y_train)\n",
    "\n",
    "print(f\"The best {score_measure} score is {randomsearch_logisticregression_out.best_score_}\")\n",
    "print(f\"... with parameters: {randomsearch_logisticregression_out.best_params_}\")\n",
    "\n",
    "precision_best = randomsearch_logisticregression_out.best_estimator_"
   ]
  },
  {
   "cell_type": "markdown",
   "id": "fdd014be-6041-4876-9b62-e435444da0fb",
   "metadata": {},
   "source": [
    "# Grid SearchCV with SVM linear Kernel"
   ]
  },
  {
   "cell_type": "code",
   "execution_count": 30,
   "id": "1b9edb45-f6da-4500-84c0-88ff960cbb11",
   "metadata": {},
   "outputs": [
    {
     "name": "stdout",
     "output_type": "stream",
     "text": [
      "Fitting 5 folds for each of 16 candidates, totalling 80 fits\n",
      "The best precision score is 0.5964555052790346\n",
      "... with parameters: {'C': 0.1, 'gamma': 1, 'kernel': 'linear'}\n"
     ]
    }
   ],
   "source": [
    "score_measure = \"precision\"\n",
    "kfolds = 5\n",
    "\n",
    "param_grid = {\n",
    "     'C': [0.1,1, 10, 100], \n",
    "     'gamma': [1,0.1,0.01,0.001],\n",
    "    'kernel': ['linear']\n",
    "}\n",
    "\n",
    "GridSearch_linear = SVC(max_iter=2000)\n",
    "GridSearch_linear_out = GridSearchCV(estimator = GridSearch_linear, param_grid=param_grid, cv=kfolds, \n",
    "                           scoring=score_measure, verbose=1, n_jobs=-1,  # n_jobs=-1 will utilize all available CPUs \n",
    "                           return_train_score=True)\n",
    "\n",
    "_ = GridSearch_linear_out.fit(X_train, y_train)\n",
    "\n",
    "print(f\"The best {score_measure} score is {GridSearch_linear_out.best_score_}\")\n",
    "print(f\"... with parameters: {GridSearch_linear_out.best_params_}\")\n",
    "\n",
    "Precision_best = GridSearch_linear_out.best_estimator_"
   ]
  },
  {
   "cell_type": "markdown",
   "id": "c80f3e32-fee9-466f-b703-163fecfa91df",
   "metadata": {},
   "source": [
    "# Random search CV with Linear SVM"
   ]
  },
  {
   "cell_type": "code",
   "execution_count": 31,
   "id": "7388647c-4b0f-4773-a255-e72d3217b033",
   "metadata": {},
   "outputs": [
    {
     "name": "stdout",
     "output_type": "stream",
     "text": [
      "Fitting 5 folds for each of 16 candidates, totalling 80 fits\n"
     ]
    },
    {
     "name": "stderr",
     "output_type": "stream",
     "text": [
      "C:\\Users\\mssur\\anaconda3\\lib\\site-packages\\sklearn\\model_selection\\_search.py:305: UserWarning: The total space of parameters 16 is smaller than n_iter=500. Running 16 iterations. For exhaustive searches, use GridSearchCV.\n",
      "  warnings.warn(\n"
     ]
    },
    {
     "name": "stdout",
     "output_type": "stream",
     "text": [
      "The best precision score is 0.5964555052790346\n",
      "... with parameters: {'kernel': 'linear', 'gamma': 1, 'C': 0.1}\n"
     ]
    }
   ],
   "source": [
    "score_measure = \"precision\"\n",
    "kfolds = 5\n",
    "\n",
    "param_grid = {\n",
    "     'C': [0.1,1, 10, 100], \n",
    "     'gamma': [1,0.1,0.01,0.001],\n",
    "    'kernel': ['linear']\n",
    "}\n",
    "\n",
    "RandomSearch_linear = SVC(max_iter=2000)\n",
    "RandomSearch_linear_out = RandomizedSearchCV(estimator = RandomSearch_linear, param_distributions=param_grid, cv=kfolds, n_iter=500,\n",
    "                           scoring=score_measure, verbose=1, n_jobs=-1,  # n_jobs=-1 will utilize all available CPUs \n",
    "                           return_train_score=True)\n",
    "\n",
    "_ = RandomSearch_linear_out.fit(X_train, y_train)\n",
    "\n",
    "print(f\"The best {score_measure} score is {RandomSearch_linear_out.best_score_}\")\n",
    "print(f\"... with parameters: {RandomSearch_linear_out.best_params_}\")\n",
    "\n",
    "Precision_best = RandomSearch_linear_out.best_estimator_"
   ]
  },
  {
   "cell_type": "markdown",
   "id": "d89c05bb-5ae5-4b39-b658-711200db42a3",
   "metadata": {},
   "source": [
    "# Grid Search CV for Radial basis function"
   ]
  },
  {
   "cell_type": "code",
   "execution_count": 32,
   "id": "d438179a-739f-4594-b6bd-e68af785ad48",
   "metadata": {},
   "outputs": [
    {
     "name": "stdout",
     "output_type": "stream",
     "text": [
      "Fitting 5 folds for each of 80 candidates, totalling 400 fits\n",
      "The best precision score is 0.665874883286648\n",
      "... with parameters: {'C': 100, 'degree': 1, 'gamma': 0.01, 'kernel': 'rbf'}\n"
     ]
    },
    {
     "name": "stderr",
     "output_type": "stream",
     "text": [
      "C:\\Users\\mssur\\anaconda3\\lib\\site-packages\\sklearn\\svm\\_base.py:299: ConvergenceWarning: Solver terminated early (max_iter=2000).  Consider pre-processing your data with StandardScaler or MinMaxScaler.\n",
      "  warnings.warn(\n"
     ]
    }
   ],
   "source": [
    "score_measure = \"precision\"\n",
    "kfolds = 5\n",
    "\n",
    "param_grid = {\n",
    "     'C': [1,10,20, 100], \n",
    "     'gamma': [1,0.1,0.01,0.001],\n",
    "     'degree':[1,2,3,4,6],\n",
    "    'kernel': ['rbf'],\n",
    "}\n",
    "\n",
    "Radialbasis_gridsearch = SVC(max_iter=2000)\n",
    "Radialbasis_gridsearch_out = GridSearchCV(estimator = Radialbasis_gridsearch, param_grid=param_grid, cv=kfolds, \n",
    "                           scoring=score_measure, verbose=1, n_jobs=-1,  # n_jobs=-1 will utilize all available CPUs \n",
    "                           return_train_score=True)\n",
    "\n",
    "_ = Radialbasis_gridsearch_out.fit(X_train, y_train)\n",
    "\n",
    "print(f\"The best {score_measure} score is {Radialbasis_gridsearch_out.best_score_}\")\n",
    "print(f\"... with parameters: {Radialbasis_gridsearch_out.best_params_}\")\n",
    "\n",
    "Precision_best = Radialbasis_gridsearch_out.best_estimator_"
   ]
  },
  {
   "cell_type": "markdown",
   "id": "fb5f1267-eac5-443c-a4cc-65d5455d5c13",
   "metadata": {},
   "source": [
    "# SVM Radial basis function with Random Search CV"
   ]
  },
  {
   "cell_type": "code",
   "execution_count": 33,
   "id": "6de24db6-6d79-4462-95cd-258fc1cd4b3b",
   "metadata": {},
   "outputs": [
    {
     "name": "stderr",
     "output_type": "stream",
     "text": [
      "C:\\Users\\mssur\\anaconda3\\lib\\site-packages\\sklearn\\model_selection\\_search.py:305: UserWarning: The total space of parameters 48 is smaller than n_iter=500. Running 48 iterations. For exhaustive searches, use GridSearchCV.\n",
      "  warnings.warn(\n"
     ]
    },
    {
     "name": "stdout",
     "output_type": "stream",
     "text": [
      "Fitting 5 folds for each of 48 candidates, totalling 240 fits\n",
      "The best precision score is 0.665874883286648\n",
      "... with parameters: {'kernel': 'rbf', 'gamma': 0.01, 'degree': 2, 'C': 100}\n"
     ]
    },
    {
     "name": "stderr",
     "output_type": "stream",
     "text": [
      "C:\\Users\\mssur\\anaconda3\\lib\\site-packages\\sklearn\\svm\\_base.py:299: ConvergenceWarning: Solver terminated early (max_iter=2000).  Consider pre-processing your data with StandardScaler or MinMaxScaler.\n",
      "  warnings.warn(\n"
     ]
    }
   ],
   "source": [
    "score_measure = \"precision\"\n",
    "kfolds = 5\n",
    "\n",
    "param_grid = {\n",
    "     'C': [0.1,1, 10, 100], \n",
    "    'gamma': [1,0.1,0.01,0.001],\n",
    "     'degree':[2,3,4],\n",
    "    'kernel': ['rbf'],\n",
    "}\n",
    "\n",
    "Radialbasis_randomsearch = SVC(max_iter=2000)\n",
    "Radialbasis_randomsearch_out = RandomizedSearchCV(estimator = Radialbasis_randomsearch, param_distributions=param_grid, cv=kfolds, n_iter=500,\n",
    "                           scoring=score_measure, verbose=1, n_jobs=-1,  # n_jobs=-1 will utilize all available CPUs \n",
    "                           return_train_score=True)\n",
    "\n",
    "_ = Radialbasis_randomsearch_out.fit(X_train, y_train)\n",
    "\n",
    "print(f\"The best {score_measure} score is {Radialbasis_randomsearch_out.best_score_}\")\n",
    "print(f\"... with parameters: {Radialbasis_randomsearch_out.best_params_}\")\n",
    "\n",
    "Precision_best = Radialbasis_randomsearch_out.best_estimator_"
   ]
  },
  {
   "cell_type": "markdown",
   "id": "f8b88905-2757-4e17-bbe4-de4b4cd00f56",
   "metadata": {},
   "source": [
    "# Poly kernal with grid search cv"
   ]
  },
  {
   "cell_type": "code",
   "execution_count": 40,
   "id": "1a71ac62-ada7-447d-afc2-68ae075f4604",
   "metadata": {},
   "outputs": [
    {
     "name": "stdout",
     "output_type": "stream",
     "text": [
      "Fitting 5 folds for each of 48 candidates, totalling 240 fits\n",
      "The best precision score is 0.69276626392686\n",
      "... with parameters: {'C': 1, 'degree': 3, 'gamma': 0.1, 'kernel': 'poly'}\n"
     ]
    },
    {
     "name": "stderr",
     "output_type": "stream",
     "text": [
      "C:\\Users\\mssur\\anaconda3\\lib\\site-packages\\sklearn\\svm\\_base.py:299: ConvergenceWarning: Solver terminated early (max_iter=20000).  Consider pre-processing your data with StandardScaler or MinMaxScaler.\n",
      "  warnings.warn(\n"
     ]
    }
   ],
   "source": [
    "score_measure = \"precision\"\n",
    "kfolds = 5\n",
    "\n",
    "param_grid = {\n",
    "    'C': [0.1,1, 10, 100], \n",
    "    'gamma': [1,0.1,0.01,0.001],\n",
    "    'degree':[2,3,4],\n",
    "    'kernel': ['poly']\n",
    "}\n",
    "\n",
    "polysvm_gridsearch = SVC(max_iter=20000)\n",
    "polysvm_gridsearch_out = GridSearchCV(estimator = polysvm_gridsearch, param_grid=param_grid, cv=kfolds, \n",
    "                           scoring=score_measure, verbose=1, n_jobs=-1,  # n_jobs=-1 will utilize all available CPUs \n",
    "                           return_train_score=True)\n",
    "\n",
    "_ = polysvm_gridsearch_out.fit(X_train, y_train)\n",
    "\n",
    "print(f\"The best {score_measure} score is {polysvm_gridsearch_out.best_score_}\")\n",
    "print(f\"... with parameters: {polysvm_gridsearch_out.best_params_}\")\n",
    "\n",
    "precision_best = polysvm_gridsearch_out.best_estimator_"
   ]
  },
  {
   "cell_type": "markdown",
   "id": "a9293f68-ad5b-4c72-a8d5-c9318fd1d002",
   "metadata": {},
   "source": [
    "# Poly SVM with Random search"
   ]
  },
  {
   "cell_type": "code",
   "execution_count": 35,
   "id": "4f232d7d-83af-494a-8a97-e0dc490ac742",
   "metadata": {},
   "outputs": [
    {
     "name": "stderr",
     "output_type": "stream",
     "text": [
      "C:\\Users\\mssur\\anaconda3\\lib\\site-packages\\sklearn\\model_selection\\_search.py:305: UserWarning: The total space of parameters 48 is smaller than n_iter=500. Running 48 iterations. For exhaustive searches, use GridSearchCV.\n",
      "  warnings.warn(\n"
     ]
    },
    {
     "name": "stdout",
     "output_type": "stream",
     "text": [
      "Fitting 5 folds for each of 48 candidates, totalling 240 fits\n",
      "The best precision score is 0.6990300151681226\n",
      "... with parameters: {'kernel': 'poly', 'gamma': 0.1, 'degree': 3, 'C': 1}\n"
     ]
    },
    {
     "name": "stderr",
     "output_type": "stream",
     "text": [
      "C:\\Users\\mssur\\anaconda3\\lib\\site-packages\\sklearn\\svm\\_base.py:299: ConvergenceWarning: Solver terminated early (max_iter=2000).  Consider pre-processing your data with StandardScaler or MinMaxScaler.\n",
      "  warnings.warn(\n"
     ]
    }
   ],
   "source": [
    "score_measure = \"precision\"\n",
    "kfolds = 5\n",
    "\n",
    "param_grid = {\n",
    "     'C': [0.1,1, 10, 100], \n",
    "    'gamma': [1,0.1,0.01,0.001],\n",
    "    'degree':[2,3,4],\n",
    "    'kernel': ['poly']\n",
    "}\n",
    "\n",
    "polysvm_randomsearch = SVC(max_iter=2000)\n",
    "polysvm_randomsearch_out = RandomizedSearchCV(estimator = polysvm_randomsearch, param_distributions=param_grid, cv=kfolds, n_iter=500,\n",
    "                           scoring=score_measure, verbose=1, n_jobs=-1,  # n_jobs=-1 will utilize all available CPUs \n",
    "                           return_train_score=True)\n",
    "\n",
    "_ = polysvm_randomsearch_out.fit(X_train, y_train)\n",
    "\n",
    "print(f\"The best {score_measure} score is {polysvm_randomsearch_out.best_score_}\")\n",
    "print(f\"... with parameters: {polysvm_randomsearch_out.best_params_}\")\n",
    "\n",
    "precison_best = polysvm_randomsearch_out.best_estimator_"
   ]
  },
  {
   "cell_type": "markdown",
   "id": "3fefc4b5-8f4f-4087-a16b-990cbc69217a",
   "metadata": {},
   "source": [
    "# Grid search cv with Decision Tree"
   ]
  },
  {
   "cell_type": "code",
   "execution_count": 36,
   "id": "f5dad4cf-3cbe-417e-a01f-073ff716fdbb",
   "metadata": {},
   "outputs": [
    {
     "name": "stdout",
     "output_type": "stream",
     "text": [
      "Fitting 5 folds for each of 9072 candidates, totalling 45360 fits\n",
      "The best precision score is 0.33061538461538464\n",
      "... with parameters: {'criterion': 'entropy', 'max_depth': 15, 'max_leaf_nodes': 162, 'min_impurity_decrease': 0.0048, 'min_samples_leaf': 6, 'min_samples_split': 30}\n"
     ]
    }
   ],
   "source": [
    "score_measure = \"precision\"\n",
    "kfolds = 5\n",
    "\n",
    "param_grid = {\n",
    "    'min_samples_split': np.arange(30,36),  \n",
    "    'min_samples_leaf': np.arange(6,12),\n",
    "    'min_impurity_decrease': np.arange(0.0048, 0.0054, 0.0001),\n",
    "    'max_leaf_nodes': np.arange(162,168), \n",
    "    'max_depth': np.arange(15,21), \n",
    "    'criterion': ['entropy'],\n",
    "}\n",
    "\n",
    "Gridsearch_decisiontree = DecisionTreeClassifier()\n",
    "Gridsearch_decisiontree_out = GridSearchCV(estimator = Gridsearch_decisiontree, param_grid=param_grid, cv=kfolds, \n",
    "                           scoring=score_measure, verbose=1, n_jobs=-1,  # n_jobs=-1 will utilize all available CPUs \n",
    "                           return_train_score=True)\n",
    "\n",
    "_ = Gridsearch_decisiontree_out.fit(X_train, y_train)\n",
    "\n",
    "print(f\"The best {score_measure} score is {Gridsearch_decisiontree_out.best_score_}\")\n",
    "print(f\"... with parameters: {Gridsearch_decisiontree_out.best_params_}\")\n",
    "\n",
    "Precison_best = Gridsearch_decisiontree_out.best_estimator_"
   ]
  },
  {
   "cell_type": "markdown",
   "id": "58cce25e-9159-43ac-b41d-f6f50314cbb3",
   "metadata": {},
   "source": [
    "# Random search cv with Decision Tree"
   ]
  },
  {
   "cell_type": "code",
   "execution_count": 37,
   "id": "5cff628a-be46-4570-b393-aba56c63cb19",
   "metadata": {},
   "outputs": [
    {
     "name": "stdout",
     "output_type": "stream",
     "text": [
      "Fitting 5 folds for each of 500 candidates, totalling 2500 fits\n",
      "The best precision score is 0.6451648351648351\n",
      "... with parameters: {'min_samples_split': 35, 'min_samples_leaf': 25, 'min_impurity_decrease': 0.0001, 'max_leaf_nodes': 23, 'max_depth': 31, 'criterion': 'gini'}\n"
     ]
    }
   ],
   "source": [
    "score_measure = \"precision\"\n",
    "kfolds = 5\n",
    "\n",
    "param_grid = {\n",
    "    'min_samples_split': np.arange(1,100),  \n",
    "    'min_samples_leaf': np.arange(1,100),\n",
    "    'min_impurity_decrease': np.arange(0.0001, 0.01, 0.0005),\n",
    "    'max_leaf_nodes': np.arange(5, 100), \n",
    "    'max_depth': np.arange(1,50), \n",
    "    'criterion': ['entropy', 'gini'],\n",
    "}\n",
    "\n",
    "Decisiontree_randomsearch = DecisionTreeClassifier()\n",
    "Decisiontree_randomsearch_out = RandomizedSearchCV(estimator = Decisiontree_randomsearch, param_distributions=param_grid, cv=kfolds, n_iter=500,\n",
    "                           scoring=score_measure, verbose=1, n_jobs=-1,  # n_jobs=-1 will utilize all available CPUs \n",
    "                           return_train_score=True)\n",
    "\n",
    "_ = Decisiontree_randomsearch_out.fit(X_train, y_train)\n",
    "\n",
    "print(f\"The best {score_measure} score is {Decisiontree_randomsearch_out.best_score_}\")\n",
    "print(f\"... with parameters: {Decisiontree_randomsearch_out.best_params_}\")\n",
    "\n",
    "precison_best = Decisiontree_randomsearch_out.best_estimator_"
   ]
  },
  {
   "cell_type": "markdown",
   "id": "8e84b115-952f-475e-bc7b-089d738f1840",
   "metadata": {},
   "source": [
    "# Inference\n",
    "## 1) Firstly I performed the data pre processing and removed the unnecessary columns like ID, ZIP code.\n",
    "\n",
    "## 2) Before Hyper parameter Tuning I got the precision values for the\n",
    "\n",
    "###     Decision Tree\t0.243902\t\n",
    "###     Linear SVM\t 0.568966\n",
    "###     Logistic Regression 0.591549\t\n",
    "###     Radial basis function with SVC 0.619718\n",
    "###     Poly Kernal svm\t0.625000\n",
    "\n",
    "## After the Hyper parameter Tuning I got the preciosn values for the\n",
    "\n",
    "###     Decision Tree\t0.6451648351648351\t\n",
    "###     Linear SVM\t 0.5964555052790346\n",
    "###     Logistic Regression 0.8823529411764707\t\n",
    "###     Radial basis function with SVC\t0.665874883286648\n",
    "###     Poly Kernal svm\t0.6990300151681226\n",
    "\n",
    "## From all the above results logistic regression is performing well so that we can decide that it will perform best for this dataset"
   ]
  },
  {
   "cell_type": "code",
   "execution_count": null,
   "id": "c386167f",
   "metadata": {},
   "outputs": [],
   "source": []
  }
 ],
 "metadata": {
  "kernelspec": {
   "display_name": "Python 3 (ipykernel)",
   "language": "python",
   "name": "python3"
  },
  "language_info": {
   "codemirror_mode": {
    "name": "ipython",
    "version": 3
   },
   "file_extension": ".py",
   "mimetype": "text/x-python",
   "name": "python",
   "nbconvert_exporter": "python",
   "pygments_lexer": "ipython3",
   "version": "3.9.16"
  }
 },
 "nbformat": 4,
 "nbformat_minor": 5
}
